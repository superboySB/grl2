{
 "cells": [
  {
   "cell_type": "code",
   "execution_count": 1,
   "metadata": {},
   "outputs": [],
   "source": [
    "%load_ext autoreload\n",
    "%autoreload 2\n",
    "import os, sys, glob\n",
    "import numpy as np\n",
    "import pandas as pd\n",
    "import matplotlib.pyplot as plt\n",
    "import seaborn as sns\n",
    "import plotly.graph_objects as go\n",
    "import plotly.express as px\n",
    "%matplotlib inline"
   ]
  },
  {
   "cell_type": "code",
   "execution_count": 2,
   "metadata": {},
   "outputs": [],
   "source": [
    "def plot_data(data, x, y, outdir, tag, title, timing=None, smooth=1):\n",
    "    if smooth > 1:\n",
    "        \"\"\"\n",
    "        smooth data with moving window average.\n",
    "        that is,\n",
    "            smoothed_y[t] = average(y[t-k], y[t-k+1], ..., y[t+k-1], y[t+k])\n",
    "        where the \"smooth\" param is width of that window (2k+1)\n",
    "        \"\"\"\n",
    "        y = np.ones(smooth)\n",
    "        for datum in data:\n",
    "            x = np.asarray(datum[y])\n",
    "            z = np.ones(len(x))\n",
    "            smoothed_x = np.convolve(x,y,'same') / np.convolve(z,y,'same')\n",
    "            datum[y] = smoothed_x\n",
    "            \n",
    "    if isinstance(data, list):\n",
    "        data = pd.concat(data, ignore_index=True)\n",
    "        if timing:\n",
    "            data = data[data.timing == timing].drop('timing', axis=1)\n",
    "\n",
    "    if not os.path.isdir(outdir):\n",
    "        os.mkdir(outdir)\n",
    "    fig = plt.figure(figsize=(20, 10))\n",
    "    ax = fig.add_subplot(111)\n",
    "    sns.set(style=\"whitegrid\", font_scale=1.5)\n",
    "    sns.set_palette('Set2') # or husl\n",
    "    if 'timing' in data.columns:\n",
    "        sns.lineplot(x=x, y=y, ax=ax, data=data, hue=tag, style='timing')\n",
    "    else:\n",
    "        sns.lineplot(x=x, y=y, ax=ax, data=data, hue=tag)\n",
    "    ax.grid(True, alpha=0.8, linestyle=':')\n",
    "    ax.legend(loc='best').set_draggable(True)\n",
    "    ax.spines['top'].set_visible(False)\n",
    "    ax.spines['right'].set_visible(False)\n",
    "    if timing:\n",
    "        title = f'{title}-{timing}'\n",
    "    outpath = f'{outdir}/{title}.png'\n",
    "    ax.set_title(title)\n",
    "    fig.savefig(outpath)\n",
    "    fig.show()\n",
    "    print(f'Plot Path: {outpath}')\n",
    "\n",
    "def get_datasets(files, tag, condition=None):\n",
    "    unit = 0\n",
    "    datasets = []\n",
    "    for f in files:\n",
    "        assert f.endswith('log.txt')\n",
    "        data = pd.read_csv(f, sep='\\t')\n",
    "\n",
    "        data.insert(len(data.columns), tag, condition)\n",
    "\n",
    "        datasets.append(data)\n",
    "        unit +=1\n",
    "\n",
    "    return datasets"
   ]
  },
  {
   "cell_type": "code",
   "execution_count": 23,
   "metadata": {},
   "outputs": [
    {
     "data": {
      "text/plain": [
       "dict_items([])"
      ]
     },
     "execution_count": 23,
     "metadata": {},
     "output_type": "execute_result"
    }
   ],
   "source": [
    "def setup(obj):\n",
    "    def _getattr(self, name):\n",
    "        if name.startswith('_'):\n",
    "            raise AttributeError(\"attempted to get missing private attribute '{}'\".format(name))\n",
    "        return getattr(self.d, name)\n",
    "    obj.d = dict()\n",
    "    for a in dir(obj.d):\n",
    "        if not a.startswith('_'):\n",
    "            setattr(obj, a, getattr(obj.d, a))\n",
    "#     setattr(obj, '__getattribute__', obj.d.__getattribute__)\n",
    "\n",
    "    \n",
    "class A:\n",
    "    def __init__(self):\n",
    "        self.d = []\n",
    "\n",
    "\n",
    "a = A()\n",
    "setup(a)\n",
    "a.items()"
   ]
  },
  {
   "cell_type": "code",
   "execution_count": 28,
   "metadata": {},
   "outputs": [
    {
     "ename": "TypeError",
     "evalue": "f() got multiple values for argument 'a'",
     "output_type": "error",
     "traceback": [
      "\u001b[0;31m---------------------------------------------------------------------------\u001b[0m",
      "\u001b[0;31mTypeError\u001b[0m                                 Traceback (most recent call last)",
      "\u001b[0;32m<ipython-input-28-744ceddd287f>\u001b[0m in \u001b[0;36m<module>\u001b[0;34m\u001b[0m\n\u001b[1;32m      4\u001b[0m \u001b[0;34m\u001b[0m\u001b[0m\n\u001b[1;32m      5\u001b[0m \u001b[0mg\u001b[0m \u001b[0;34m=\u001b[0m \u001b[0mfunctools\u001b[0m\u001b[0;34m.\u001b[0m\u001b[0mpartial\u001b[0m\u001b[0;34m(\u001b[0m\u001b[0mf\u001b[0m\u001b[0;34m,\u001b[0m \u001b[0;36m1\u001b[0m\u001b[0;34m,\u001b[0m \u001b[0;36m2\u001b[0m\u001b[0;34m)\u001b[0m\u001b[0;34m\u001b[0m\u001b[0;34m\u001b[0m\u001b[0m\n\u001b[0;32m----> 6\u001b[0;31m \u001b[0mg\u001b[0m\u001b[0;34m(\u001b[0m\u001b[0;36m3\u001b[0m\u001b[0;34m,\u001b[0m \u001b[0;36m4\u001b[0m\u001b[0;34m,\u001b[0m \u001b[0ma\u001b[0m\u001b[0;34m=\u001b[0m\u001b[0;36m10\u001b[0m\u001b[0;34m)\u001b[0m\u001b[0;34m\u001b[0m\u001b[0;34m\u001b[0m\u001b[0m\n\u001b[0m",
      "\u001b[0;31mTypeError\u001b[0m: f() got multiple values for argument 'a'"
     ]
    }
   ],
   "source": [
    "import functools\n",
    "def f(a, b, c, d):\n",
    "    print(a, b, c, d)\n",
    "\n",
    "g = functools.partial(f, 1, 2)\n",
    "g(3, 4, a=10)"
   ]
  },
  {
   "cell_type": "code",
   "execution_count": 80,
   "metadata": {},
   "outputs": [
    {
     "data": {
      "text/plain": [
       "(array([[ 9.209749 ,  8.690623 ,  5.6069465],\n",
       "        [ 9.360001 ,  5.378809 , 10.760001 ]], dtype=float32),\n",
       " array([[ 9.209749 ,  9.446628 ,  4.9402804],\n",
       "        [15.580001 ,  4.0454755, 16.946669 ]], dtype=float32))"
      ]
     },
     "execution_count": 80,
     "metadata": {},
     "output_type": "execute_result"
    }
   ],
   "source": [
    "import tensorflow as tf\n",
    "def static_scan(fn, start, inputs, reverse=False):\n",
    "    \"\"\" Sequentially apply fn to inputs, with starting state start.\n",
    "    inputs are expected to be time-major, and the outputs of fn are expected\n",
    "    to have the same structure as start. \n",
    "    This function is equivalent to \n",
    "    tf.scan(\n",
    "        fn=fn\n",
    "        elems=inputs, \n",
    "        initializer=start,\n",
    "        parallel_iterations=1,\n",
    "        reverse=reverse\n",
    "    )\n",
    "    In practice, we find it's faster than tf.scan\n",
    "    \"\"\"\n",
    "    last = start\n",
    "    outputs = [[] for _ in tf.nest.flatten(start)]\n",
    "    indices = range(len(tf.nest.flatten(inputs)[0]))\n",
    "    if reverse:\n",
    "        indices = reversed(indices)\n",
    "    for index in indices:\n",
    "        # extract inputs at step index\n",
    "        inp = tf.nest.map_structure(lambda x: x[index], inputs)\n",
    "        last = fn(last, inp)\n",
    "        # distribute outputs\n",
    "        [o.append(l) for o, l in zip(outputs, tf.nest.flatten(last))]\n",
    "    if reverse:\n",
    "        outputs = [list(reversed(x)) for x in outputs]\n",
    "    outputs = [tf.stack(x) for x in outputs]\n",
    "    # reconstruct outputs to have the same structure as start\n",
    "    return tf.nest.pack_sequence_as(start, outputs)\n",
    "\n",
    "def v_trace(reward, value, next_value, pi, mu, discount, lambda_=1, \n",
    "        c_clip=1, rho_clip=1, rho_clip_pg=1, axis=0):\n",
    "    \"\"\"\n",
    "    Params:\n",
    "        discount = gamma * (1-done). \n",
    "        axis specifies the time dimension\n",
    "    \"\"\"\n",
    "#     assert_rank_and_shape_compatibility(\n",
    "#         [reward, value, next_value, pi, mu, discount])\n",
    "    \n",
    "    ratio = pi / mu\n",
    "    \n",
    "    # swap 'axis' with the 0-th dimension\n",
    "    dims = list(range(reward.shape.ndims))\n",
    "    dims = [axis] + dims[1:axis] + [0] + dims[axis + 1:]\n",
    "    if axis != 0:\n",
    "        reward = tf.transpose(reward, dims)\n",
    "        value = tf.transpose(value, dims)\n",
    "        next_value = tf.transpose(next_value, dims)\n",
    "        ratio = tf.transpose(ratio, dims)\n",
    "        discount = tf.transpose(discount, dims)\n",
    "    \n",
    "    clipped_c = ratio if c_clip is None else tf.minimum(ratio, c_clip)\n",
    "    clipped_rho = ratio if rho_clip is None else tf.minimum(ratio, rho_clip)\n",
    "    if lambda_ is not None and lambda_ != 1:\n",
    "        clipped_rho = lambda_ * clipped_rho\n",
    "\n",
    "    delta = clipped_rho * (reward + discount * next_value - value)\n",
    "    \n",
    "    initial_value = tf.zeros_like(delta[-1])\n",
    "\n",
    "    v_minus_V = static_scan(\n",
    "        lambda acc, x: x[0] + x[1] * x[2] * acc,\n",
    "        initial_value, (delta, discount, clipped_c),\n",
    "        reverse=True)\n",
    "    \n",
    "    vs = v_minus_V + value\n",
    "\n",
    "    next_vs = tf.concat([vs[1:], next_value[-1:]], axis=0)\n",
    "    clipped_rho_pg = ratio if rho_clip_pg is None else tf.minimum(ratio, rho_clip_pg)\n",
    "    adv = clipped_rho_pg * (reward + discount * next_vs - value)\n",
    "\n",
    "    if axis != 0:\n",
    "        vs = tf.transpose(vs, dims)\n",
    "        adv = tf.transpose(adv, dims)\n",
    "    \n",
    "    return vs, adv\n",
    "\n",
    "tf.nest.map_structure(lambda x: x.numpy(), v_trace(**tf.nest.map_structure(\n",
    "    lambda x: tf.convert_to_tensor(x, tf.float32), values)))"
   ]
  },
  {
   "cell_type": "code",
   "execution_count": 77,
   "metadata": {},
   "outputs": [
    {
     "name": "stdout",
     "output_type": "stream",
     "text": [
      "WARNING:tensorflow:From /Users/aptx4869/anaconda3/envs/drl/lib/python3.8/site-packages/tensorflow/python/util/dispatch.py:201: calling scan_v2 (from tensorflow.python.ops.functional_ops) with back_prop=False is deprecated and will be removed in a future version.\n",
      "Instructions for updating:\n",
      "back_prop=False is deprecated. Consider using tf.stop_gradient instead.\n",
      "Instead of:\n",
      "results = tf.scan(fn, elems, back_prop=False)\n",
      "Use:\n",
      "results = tf.nest.map_structure(tf.stop_gradient, tf.scan(fn, elems))\n"
     ]
    },
    {
     "data": {
      "text/plain": [
       "(array([[ 9.209749 ,  8.690623 ,  5.6069465],\n",
       "        [ 9.360001 ,  5.378809 , 10.760001 ]], dtype=float32),\n",
       " array([[ 9.209749 ,  9.446628 ,  4.9402804],\n",
       "        [15.580001 ,  4.0454755, 16.946669 ]], dtype=float32))"
      ]
     },
     "execution_count": 77,
     "metadata": {},
     "output_type": "execute_result"
    }
   ],
   "source": [
    "def vtrace_from_importance_weights(reward, value, next_value, pi, mu, discount, lambda_=1,\n",
    "    c_clip=1, rho_clip=1.0, rho_clip_pg=1.0,\n",
    "    name='vtrace_from_importance_weights'):\n",
    "\n",
    "    log_rhos = tf.convert_to_tensor(tf.math.log(pi/mu), dtype=tf.float32)\n",
    "    discounts = tf.convert_to_tensor(discount, dtype=tf.float32)\n",
    "    rewards = tf.convert_to_tensor(reward, dtype=tf.float32)\n",
    "    values = tf.convert_to_tensor(value, dtype=tf.float32)\n",
    "    bootstrap_value = tf.convert_to_tensor(next_value[-1], dtype=tf.float32)\n",
    "    if rho_clip is not None:\n",
    "        clip_rho_threshold = tf.convert_to_tensor(rho_clip, dtype=tf.float32)\n",
    "    if rho_clip_pg is not None:\n",
    "        clip_pg_rho_threshold = tf.convert_to_tensor(rho_clip_pg, dtype=tf.float32)\n",
    "\n",
    "    # Make sure tensor ranks are consistent.\n",
    "    rho_rank = log_rhos.shape.ndims  # Usually 2.\n",
    "    values.shape.assert_has_rank(rho_rank)\n",
    "    bootstrap_value.shape.assert_has_rank(rho_rank - 1)\n",
    "    discounts.shape.assert_has_rank(rho_rank)\n",
    "    rewards.shape.assert_has_rank(rho_rank)\n",
    "    if clip_rho_threshold is not None:\n",
    "        clip_rho_threshold.shape.assert_has_rank(0)\n",
    "    if clip_pg_rho_threshold is not None:\n",
    "        clip_pg_rho_threshold.shape.assert_has_rank(0)\n",
    "\n",
    "    rhos = tf.exp(log_rhos)\n",
    "    if clip_rho_threshold is not None:\n",
    "        clipped_rhos = tf.minimum(clip_rho_threshold, rhos, name='clipped_rhos')\n",
    "    else:\n",
    "        clipped_rhos = rhos\n",
    "\n",
    "    cs = tf.minimum(c_clip, rhos, name='cs')\n",
    "    # Append bootstrapped value to get [v1, ..., v_t+1]\n",
    "    values_t_plus_1 = tf.concat(\n",
    "        [values[1:], tf.expand_dims(bootstrap_value, 0)], axis=0)\n",
    "    deltas = clipped_rhos * (rewards + discounts * values_t_plus_1 - values)\n",
    "\n",
    "    # Note that all sequences are reversed, computation starts from the back.\n",
    "    sequences = (\n",
    "        tf.reverse(discounts, axis=[0]),\n",
    "        tf.reverse(cs, axis=[0]),\n",
    "        tf.reverse(deltas, axis=[0]),\n",
    "    )\n",
    "    # V-trace vs are calculated through a scan from the back to the beginning\n",
    "    # of the given trajectory.\n",
    "    def scanfunc(acc, sequence_item):\n",
    "        discount_t, c_t, delta_t = sequence_item\n",
    "        return delta_t + discount_t * c_t * acc\n",
    "\n",
    "    initial_values = tf.zeros_like(bootstrap_value)\n",
    "    vs_minus_v_xs = tf.scan(\n",
    "        fn=scanfunc,\n",
    "        elems=sequences,\n",
    "        initializer=initial_values,\n",
    "        parallel_iterations=1,\n",
    "        back_prop=False,\n",
    "        name='scan')\n",
    "    # Reverse the results back to original order.\n",
    "    vs_minus_v_xs = tf.reverse(vs_minus_v_xs, [0], name='vs_minus_v_xs')\n",
    "\n",
    "    # Add V(x_s) to get v_s.\n",
    "    vs = tf.add(vs_minus_v_xs, values, name='vs')\n",
    "\n",
    "    # Advantage for policy gradient.\n",
    "    vs_t_plus_1 = tf.concat([\n",
    "        vs[1:], tf.expand_dims(bootstrap_value, 0)], axis=0)\n",
    "    if clip_pg_rho_threshold is not None:\n",
    "        clipped_pg_rhos = tf.minimum(clip_pg_rho_threshold, rhos,\n",
    "                                   name='clipped_pg_rhos')\n",
    "    else:\n",
    "        clipped_pg_rhos = rhos\n",
    "    pg_advantages = (\n",
    "        clipped_pg_rhos * (rewards + discounts * vs_t_plus_1 - values))\n",
    "\n",
    "    # Make sure no gradients backpropagated through the returned values.\n",
    "    return tf.stop_gradient(vs), tf.stop_gradient(pg_advantages)\n",
    "\n",
    "tf.nest.map_structure(lambda x: x.numpy(), vtrace_from_importance_weights(**tf.nest.map_structure(\n",
    "    lambda x: tf.convert_to_tensor(x, tf.float32), values)))"
   ]
  },
  {
   "cell_type": "code",
   "execution_count": 14,
   "metadata": {},
   "outputs": [
    {
     "data": {
      "text/plain": [
       "array([-0.4375,  0.4375])"
      ]
     },
     "execution_count": 14,
     "metadata": {},
     "output_type": "execute_result"
    }
   ],
   "source": [
    "A = np.array([[3, 0], [5, 1]])\n",
    "x = np.array([.5, .5])\n",
    "y = np.array([.75, .25])\n",
    "i = 0\n",
    "x * ((A @ y) - x @ A @ y)"
   ]
  },
  {
   "cell_type": "code",
   "execution_count": 13,
   "metadata": {},
   "outputs": [
    {
     "data": {
      "text/plain": [
       "array([-0.28125,  0.28125])"
      ]
     },
     "execution_count": 13,
     "metadata": {},
     "output_type": "execute_result"
    }
   ],
   "source": [
    "B = np.array([[3, 5], [0, 1]])\n",
    "x = np.array([.5, .5])\n",
    "y = np.array([.75, .25])\n",
    "i = 1\n",
    "y * ((x @ B) - x @ B @ y)"
   ]
  },
  {
   "cell_type": "code",
   "execution_count": 20,
   "metadata": {},
   "outputs": [
    {
     "name": "stdout",
     "output_type": "stream",
     "text": [
      "10.7 ms ± 243 µs per loop (mean ± std. dev. of 7 runs, 100 loops each)\n"
     ]
    }
   ],
   "source": [
    "%%timeit\n",
    "np.swapaxes(x, 0, 1)"
   ]
  },
  {
   "cell_type": "code",
   "execution_count": 21,
   "metadata": {},
   "outputs": [
    {
     "name": "stdout",
     "output_type": "stream",
     "text": [
      "10 ms ± 355 µs per loop (mean ± std. dev. of 7 runs, 100 loops each)\n"
     ]
    }
   ],
   "source": [
    "%%timeit\n",
    "y = np.array(x)\n",
    "np.swapaxes(y, 0, 1)"
   ]
  },
  {
   "cell_type": "code",
   "execution_count": 25,
   "metadata": {},
   "outputs": [
    {
     "data": {
      "text/plain": [
       "3"
      ]
     },
     "execution_count": 25,
     "metadata": {},
     "output_type": "execute_result"
    }
   ],
   "source": [
    "np.array(x).ndim"
   ]
  },
  {
   "cell_type": "code",
   "execution_count": 22,
   "metadata": {},
   "outputs": [],
   "source": [
    "import torch as th\n",
    "import torch.nn as nn\n",
    "import torch.nn.functional as F\n",
    "import numpy as np\n",
    "\n",
    "class QMixer(nn.Module):\n",
    "    def __init__(self, args):\n",
    "        super(QMixer, self).__init__()\n",
    "\n",
    "        self.args = args\n",
    "        self.n_agents = args.n_agents\n",
    "        self.state_dim = int(np.prod(args.state_shape))\n",
    "\n",
    "        self.embed_dim = args.mixing_embed_dim\n",
    "\n",
    "        if getattr(args, \"hypernet_layers\", 1) == 1:\n",
    "            self.hyper_w_1 = nn.Linear(self.state_dim, self.embed_dim * self.n_agents)\n",
    "            self.hyper_w_final = nn.Linear(self.state_dim, self.embed_dim)\n",
    "        elif getattr(args, \"hypernet_layers\", 1) == 2:\n",
    "            hypernet_embed = self.args.hypernet_embed\n",
    "            self.hyper_w_1 = nn.Sequential(nn.Linear(self.state_dim, hypernet_embed),\n",
    "                                           nn.ReLU(),\n",
    "                                           nn.Linear(hypernet_embed, self.embed_dim * self.n_agents))\n",
    "            self.hyper_w_final = nn.Sequential(nn.Linear(self.state_dim, hypernet_embed),\n",
    "                                           nn.ReLU(),\n",
    "                                           nn.Linear(hypernet_embed, self.embed_dim))\n",
    "        elif getattr(args, \"hypernet_layers\", 1) > 2:\n",
    "            raise Exception(\"Sorry >2 hypernet layers is not implemented!\")\n",
    "        else:\n",
    "            raise Exception(\"Error setting number of hypernet layers.\")\n",
    "\n",
    "        # State dependent bias for hidden layer\n",
    "        self.hyper_b_1 = nn.Linear(self.state_dim, self.embed_dim)\n",
    "\n",
    "        # V(s) instead of a bias for the last layerst\n",
    "        self.V = nn.Sequential(nn.Linear(self.state_dim, self.embed_dim),\n",
    "                               nn.ReLU(),\n",
    "                               nn.Linear(self.embed_dim, 1))\n",
    "\n",
    "    def forward(self, agent_qs, states):\n",
    "        bs = agent_qs.size(0)\n",
    "        states = states.reshape(-1, self.state_dim)\n",
    "        agent_qs = agent_qs.view(-1, 1, self.n_agents)\n",
    "        # First layer\n",
    "        w1 = th.abs(self.hyper_w_1(states))\n",
    "        b1 = self.hyper_b_1(states)\n",
    "        w1 = w1.view(-1, self.n_agents, self.embed_dim)\n",
    "        b1 = b1.view(-1, 1, self.embed_dim)\n",
    "        hidden = F.elu(th.bmm(agent_qs, w1) + b1)\n",
    "        # Second layer\n",
    "        w_final = th.abs(self.hyper_w_final(states))\n",
    "        w_final = w_final.view(-1, self.embed_dim, 1)\n",
    "        # State-dependent bias\n",
    "        v = self.V(states).view(-1, 1, 1)\n",
    "        # Compute final output\n",
    "        y = th.bmm(hidden, w_final) + v\n",
    "        # Reshape and return\n",
    "        q_tot = y.view(bs, -1, 1)\n",
    "        return q_tot\n"
   ]
  },
  {
   "cell_type": "code",
   "execution_count": 25,
   "metadata": {},
   "outputs": [],
   "source": [
    "class Args:\n",
    "    def __init__(self):\n",
    "        self.state_shape = (3, 4)\n",
    "        self.n_agents = 3\n",
    "        self.mixing_embed_dim = 9\n",
    "args = Args()\n",
    "qmix = QMixer(args)"
   ]
  },
  {
   "cell_type": "code",
   "execution_count": 136,
   "metadata": {},
   "outputs": [
    {
     "data": {
      "text/plain": [
       "<tf.Tensor: shape=(3, 4), dtype=float32, numpy=\n",
       "array([[ 1.5370384 , -0.09481981, -1.6808445 ,  1.0012864 ],\n",
       "       [ 2.5243452 , -1.909442  ,  0.69922054, -1.9831874 ],\n",
       "       [ 1.7966232 ,  1.1815207 , -2.9724448 , -2.1147866 ]],\n",
       "      dtype=float32)>"
      ]
     },
     "execution_count": 136,
     "metadata": {},
     "output_type": "execute_result"
    }
   ],
   "source": [
    "B = 3\n",
    "A = 2\n",
    "H = 4\n",
    "x = tf.random.normal((B, A))\n",
    "y = tf.random.normal((B, A, H))\n",
    "tf.einsum('ba,bah->bh', x, y)"
   ]
  },
  {
   "cell_type": "code",
   "execution_count": 139,
   "metadata": {
    "scrolled": true
   },
   "outputs": [
    {
     "data": {
      "text/plain": [
       "array([[ 1.5370384 , -0.09481981, -1.6808445 ,  1.0012864 ],\n",
       "       [ 2.5243452 , -1.909442  ,  0.69922054, -1.9831874 ],\n",
       "       [ 1.7966232 ,  1.1815207 , -2.9724448 , -2.1147866 ]],\n",
       "      dtype=float32)"
      ]
     },
     "execution_count": 139,
     "metadata": {},
     "output_type": "execute_result"
    }
   ],
   "source": [
    "xe = tf.expand_dims(x, 1)\n",
    "np.squeeze(tf.matmul(xe, y), axis=1)"
   ]
  },
  {
   "cell_type": "code",
   "execution_count": 70,
   "metadata": {
    "scrolled": true
   },
   "outputs": [
    {
     "ename": "IndexError",
     "evalue": "tuple index out of range",
     "output_type": "error",
     "traceback": [
      "\u001b[0;31m---------------------------------------------------------------------------\u001b[0m",
      "\u001b[0;31mIndexError\u001b[0m                                Traceback (most recent call last)",
      "\u001b[0;32m<ipython-input-70-5dd8c1bc2428>\u001b[0m in \u001b[0;36m<module>\u001b[0;34m\u001b[0m\n\u001b[0;32m----> 1\u001b[0;31m \u001b[0mnp\u001b[0m\u001b[0;34m.\u001b[0m\u001b[0mshape\u001b[0m\u001b[0;34m(\u001b[0m\u001b[0;36m10\u001b[0m\u001b[0;34m)\u001b[0m\u001b[0;34m[\u001b[0m\u001b[0;36m0\u001b[0m\u001b[0;34m]\u001b[0m\u001b[0;34m\u001b[0m\u001b[0;34m\u001b[0m\u001b[0m\n\u001b[0m",
      "\u001b[0;31mIndexError\u001b[0m: tuple index out of range"
     ]
    }
   ],
   "source": [
    "np.shape(10)"
   ]
  },
  {
   "cell_type": "code",
   "execution_count": 206,
   "metadata": {},
   "outputs": [
    {
     "data": {
      "image/png": "[encoded data removed]",
      "text/plain": [
       "<Figure size 432x288 with 1 Axes>"
      ]
     },
     "metadata": {
      "needs_background": "light"
     },
     "output_type": "display_data"
    }
   ],
   "source": [
    "def nearest_cluster_idx(centroids, feat):\n",
    "    return np.argmin(np.mean((centroids - feat[None])**2, -1))\n",
    "\n",
    "def kmean(data, k, n):\n",
    "    max_feat = np.max(data, 0)\n",
    "    min_feat = np.min(data, 0)\n",
    "    step = data.shape[0] // k\n",
    "    centroids = data[:k]\n",
    "    \n",
    "    for _ in range(n):\n",
    "        feats = [[] for _ in range(k)]\n",
    "        for feat in data:\n",
    "            i = nearest_cluster_idx(centroids, feat)\n",
    "            feats[i].append(feat)\n",
    "        centroids = np.array([np.mean(fs, axis=0) for fs in feats])\n",
    "    return centroids\n",
    "\n",
    "data = np.concatenate([np.random.normal(i, 1, (10, 2)) for i in range(10)], 0)\n",
    "np.random.shuffle(data)\n",
    "centroids = kmean(data, 10, 100)\n",
    "plt.scatter(data[:, 0], data[:, 1])\n",
    "plt.scatter(centroids[:, 0], centroids[:, 1], c='r')\n",
    "plt.show()"
   ]
  },
  {
   "cell_type": "code",
   "execution_count": 181,
   "metadata": {},
   "outputs": [
    {
     "data": {
      "text/plain": [
       "<tf.Tensor: shape=(2, 5), dtype=float32, numpy=\n",
       "array([[-1.0000000e+10, -4.3082278e-02,  7.8758178e-03, -1.0000000e+10,\n",
       "        -5.6906357e-02],\n",
       "       [ 1.9747494e-03, -1.0000000e+10, -1.0000000e+10, -1.0000000e+10,\n",
       "        -1.0000000e+10]], dtype=float32)>"
      ]
     },
     "execution_count": 181,
     "metadata": {},
     "output_type": "execute_result"
    }
   ],
   "source": [
    "b_e = tf.expand_dims(b, 1)\n",
    "a_t = tf.transpose(a, [0, 2, 1])\n",
    "x = tf.squeeze(tf.matmul(b_e, a_t))\n",
    "tf.where(x == 0, -1e10, x)"
   ]
  },
  {
   "cell_type": "code",
   "execution_count": 219,
   "metadata": {},
   "outputs": [
    {
     "data": {
      "text/plain": [
       "156672000"
      ]
     },
     "execution_count": 219,
     "metadata": {},
     "output_type": "execute_result"
    }
   ],
   "source": [
    "import psutil\n",
    "process = pszutil.Process()\n",
    "process.memory_info().rss"
   ]
  },
  {
   "cell_type": "code",
   "execution_count": 284,
   "metadata": {},
   "outputs": [
    {
     "data": {
      "text/plain": [
       "{'a', 'b'}"
      ]
     },
     "execution_count": 284,
     "metadata": {},
     "output_type": "execute_result"
    }
   ],
   "source": [
    "d = {'a': 10, 'b': 20}\n",
    "set(d.keys())"
   ]
  },
  {
   "cell_type": "code",
   "execution_count": 276,
   "metadata": {},
   "outputs": [
    {
     "data": {
      "text/plain": [
       "<tf.Tensor: shape=(2, 2, 2, 4), dtype=float32, numpy=\n",
       "array([[[[1., 0., 0., 0.],\n",
       "         [1., 0., 0., 0.]],\n",
       "\n",
       "        [[1., 0., 0., 0.],\n",
       "         [1., 0., 0., 0.]]],\n",
       "\n",
       "\n",
       "       [[[1., 0., 0., 0.],\n",
       "         [1., 0., 0., 0.]],\n",
       "\n",
       "        [[1., 0., 0., 0.],\n",
       "         [1., 0., 0., 0.]]]], dtype=float32)>"
      ]
     },
     "execution_count": 276,
     "metadata": {},
     "output_type": "execute_result"
    }
   ],
   "source": [
    "x = tf.zeros((2, 2, 2, 4))\n",
    "pool = tf.ones((2, 2, 1, 4))\n",
    "n = x.shape[-1]\n",
    "feat = tf.reshape(tf.range(n, dtype=tf.int32), (1, 1, 1, -1))\n",
    "x = tf.where(feat < tf.cast(n * .25, tf.int32), pool, x)\n",
    "x"
   ]
  },
  {
   "cell_type": "code",
   "execution_count": null,
   "metadata": {},
   "outputs": [],
   "source": []
  }
 ],
 "metadata": {
  "kernelspec": {
   "display_name": "Python 3",
   "language": "python",
   "name": "python3"
  },
  "language_info": {
   "codemirror_mode": {
    "name": "ipython",
    "version": 3
   },
   "file_extension": ".py",
   "mimetype": "text/x-python",
   "name": "python",
   "nbconvert_exporter": "python",
   "pygments_lexer": "ipython3",
   "version": "3.8.3"
  }
 },
 "nbformat": 4,
 "nbformat_minor": 2
}
