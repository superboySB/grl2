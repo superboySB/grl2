{
 "cells": [
  {
   "cell_type": "code",
   "execution_count": 1,
   "metadata": {},
   "outputs": [],
   "source": [
    "%load_ext autoreload\n",
    "%autoreload 2\n",
    "import os, sys, glob\n",
    "import numpy as np\n",
    "import pandas as pd\n",
    "import matplotlib.pyplot as plt\n",
    "import seaborn as sns\n",
    "import plotly.graph_objects as go\n",
    "import plotly.express as px\n",
    "%matplotlib inline"
   ]
  },
  {
   "cell_type": "code",
   "execution_count": 2,
   "metadata": {},
   "outputs": [],
   "source": [
    "def plot_data(data, x, y, outdir, tag, title, timing=None, smooth=1):\n",
    "    if smooth > 1:\n",
    "        \"\"\"\n",
    "        smooth data with moving window average.\n",
    "        that is,\n",
    "            smoothed_y[t] = average(y[t-k], y[t-k+1], ..., y[t+k-1], y[t+k])\n",
    "        where the \"smooth\" param is width of that window (2k+1)\n",
    "        \"\"\"\n",
    "        y = np.ones(smooth)\n",
    "        for datum in data:\n",
    "            x = np.asarray(datum[y])\n",
    "            z = np.ones(len(x))\n",
    "            smoothed_x = np.convolve(x,y,'same') / np.convolve(z,y,'same')\n",
    "            datum[y] = smoothed_x\n",
    "            \n",
    "    if isinstance(data, list):\n",
    "        data = pd.concat(data, ignore_index=True)\n",
    "        if timing:\n",
    "            data = data[data.timing == timing].drop('timing', axis=1)\n",
    "\n",
    "    if not os.path.isdir(outdir):\n",
    "        os.mkdir(outdir)\n",
    "    fig = plt.figure(figsize=(20, 10))\n",
    "    ax = fig.add_subplot(111)\n",
    "    sns.set(style=\"whitegrid\", font_scale=1.5)\n",
    "    sns.set_palette('Set2') # or husl\n",
    "    if 'timing' in data.columns:\n",
    "        sns.lineplot(x=x, y=y, ax=ax, data=data, hue=tag, style='timing')\n",
    "    else:\n",
    "        sns.lineplot(x=x, y=y, ax=ax, data=data, hue=tag)\n",
    "    ax.grid(True, alpha=0.8, linestyle=':')\n",
    "    ax.legend(loc='best').set_draggable(True)\n",
    "    ax.spines['top'].set_visible(False)\n",
    "    ax.spines['right'].set_visible(False)\n",
    "    if timing:\n",
    "        title = f'{title}-{timing}'\n",
    "    outpath = f'{outdir}/{title}.png'\n",
    "    ax.set_title(title)\n",
    "    fig.savefig(outpath)\n",
    "    fig.show()\n",
    "    print(f'Plot Path: {outpath}')\n",
    "\n",
    "def get_datasets(files, tag, condition=None):\n",
    "    unit = 0\n",
    "    datasets = []\n",
    "    for f in files:\n",
    "        assert f.endswith('log.txt')\n",
    "        data = pd.read_csv(f, sep='\\t')\n",
    "\n",
    "        data.insert(len(data.columns), tag, condition)\n",
    "\n",
    "        datasets.append(data)\n",
    "        unit +=1\n",
    "\n",
    "    return datasets"
   ]
  },
  {
   "cell_type": "code",
   "execution_count": 16,
   "metadata": {},
   "outputs": [
    {
     "data": {
      "text/plain": [
       "<tf.Tensor: shape=(2,), dtype=float32, numpy=array([2.201805 , 1.7890831], dtype=float32)>"
      ]
     },
     "execution_count": 16,
     "metadata": {},
     "output_type": "execute_result"
    }
   ],
   "source": [
    "import tensorflow as tf\n",
    "import tensorflow_probability as tfd\n",
    "shape = (2, 4)\n",
    "x_ = tf.random.normal(shape)\n",
    "x = tf.nn.softmax(x_)\n",
    "y_ = np.random.randint(0, 4, 2)\n",
    "y = tf.one_hot(y_, 4)\n",
    "tf.keras.losses.categorical_crossentropy(y, x)"
   ]
  },
  {
   "cell_type": "code",
   "execution_count": 26,
   "metadata": {},
   "outputs": [
    {
     "data": {
      "text/plain": [
       "array([inf, inf, inf, inf, inf, inf, inf, inf, inf, inf])"
      ]
     },
     "execution_count": 26,
     "metadata": {},
     "output_type": "execute_result"
    }
   ],
   "source": [
    "np.ones(10) * np.inf"
   ]
  },
  {
   "cell_type": "code",
   "execution_count": 64,
   "metadata": {},
   "outputs": [
    {
     "name": "stdout",
     "output_type": "stream",
     "text": [
      "[7 4 8 3 2]\n"
     ]
    },
    {
     "ename": "IndexError",
     "evalue": "index 7 is out of bounds for axis 0 with size 5",
     "output_type": "error",
     "traceback": [
      "\u001b[0;31m---------------------------------------------------------------------------\u001b[0m",
      "\u001b[0;31mIndexError\u001b[0m                                Traceback (most recent call last)",
      "\u001b[0;32m/var/folders/zq/p22_4nf93xbc8nsbrt5ft09r0000gp/T/ipykernel_37452/2935805213.py\u001b[0m in \u001b[0;36m<module>\u001b[0;34m\u001b[0m\n\u001b[1;32m      5\u001b[0m \u001b[0mcard_rank_mask\u001b[0m \u001b[0;34m=\u001b[0m \u001b[0mnp\u001b[0m\u001b[0;34m.\u001b[0m\u001b[0marange\u001b[0m\u001b[0;34m(\u001b[0m\u001b[0mbs\u001b[0m \u001b[0;34m*\u001b[0m \u001b[0;34m(\u001b[0m\u001b[0mn\u001b[0m\u001b[0;34m-\u001b[0m\u001b[0;36m1\u001b[0m\u001b[0;34m)\u001b[0m\u001b[0;34m)\u001b[0m\u001b[0;34m.\u001b[0m\u001b[0mreshape\u001b[0m\u001b[0;34m(\u001b[0m\u001b[0mbs\u001b[0m\u001b[0;34m,\u001b[0m \u001b[0mn\u001b[0m\u001b[0;34m-\u001b[0m\u001b[0;36m1\u001b[0m\u001b[0;34m,\u001b[0m \u001b[0;36m1\u001b[0m\u001b[0;34m)\u001b[0m\u001b[0;34m\u001b[0m\u001b[0;34m\u001b[0m\u001b[0m\n\u001b[1;32m      6\u001b[0m \u001b[0mprint\u001b[0m\u001b[0;34m(\u001b[0m\u001b[0maction_type\u001b[0m\u001b[0;34m)\u001b[0m\u001b[0;34m\u001b[0m\u001b[0;34m\u001b[0m\u001b[0m\n\u001b[0;32m----> 7\u001b[0;31m \u001b[0mcard_rank_mask\u001b[0m\u001b[0;34m[\u001b[0m\u001b[0maction_type\u001b[0m\u001b[0;34m]\u001b[0m\u001b[0;34m\u001b[0m\u001b[0;34m\u001b[0m\u001b[0m\n\u001b[0m",
      "\u001b[0;31mIndexError\u001b[0m: index 7 is out of bounds for axis 0 with size 5"
     ]
    }
   ],
   "source": [
    "bs = 5\n",
    "n = 10\n",
    "n2 = 15\n",
    "action_type = np.random.randint(0, n-1, (bs,))\n",
    "card_rank_mask = np.arange(bs * (n-1)).reshape(bs, n-1, 1)\n",
    "print(action_type)\n",
    "card_rank_mask"
   ]
  },
  {
   "cell_type": "code",
   "execution_count": 77,
   "metadata": {},
   "outputs": [
    {
     "name": "stdout",
     "output_type": "stream",
     "text": [
      "WARNING:tensorflow:From /Users/aptx4869/anaconda3/envs/drl/lib/python3.8/site-packages/tensorflow/python/util/dispatch.py:201: calling scan_v2 (from tensorflow.python.ops.functional_ops) with back_prop=False is deprecated and will be removed in a future version.\n",
      "Instructions for updating:\n",
      "back_prop=False is deprecated. Consider using tf.stop_gradient instead.\n",
      "Instead of:\n",
      "results = tf.scan(fn, elems, back_prop=False)\n",
      "Use:\n",
      "results = tf.nest.map_structure(tf.stop_gradient, tf.scan(fn, elems))\n"
     ]
    },
    {
     "data": {
      "text/plain": [
       "(array([[ 9.209749 ,  8.690623 ,  5.6069465],\n",
       "        [ 9.360001 ,  5.378809 , 10.760001 ]], dtype=float32),\n",
       " array([[ 9.209749 ,  9.446628 ,  4.9402804],\n",
       "        [15.580001 ,  4.0454755, 16.946669 ]], dtype=float32))"
      ]
     },
     "execution_count": 77,
     "metadata": {},
     "output_type": "execute_result"
    }
   ],
   "source": [
    "def vtrace_from_importance_weights(reward, value, next_value, pi, mu, discount, lambda_=1,\n",
    "    c_clip=1, rho_clip=1.0, rho_clip_pg=1.0,\n",
    "    name='vtrace_from_importance_weights'):\n",
    "\n",
    "    log_rhos = tf.convert_to_tensor(tf.math.log(pi/mu), dtype=tf.float32)\n",
    "    discounts = tf.convert_to_tensor(discount, dtype=tf.float32)\n",
    "    rewards = tf.convert_to_tensor(reward, dtype=tf.float32)\n",
    "    values = tf.convert_to_tensor(value, dtype=tf.float32)\n",
    "    bootstrap_value = tf.convert_to_tensor(next_value[-1], dtype=tf.float32)\n",
    "    if rho_clip is not None:\n",
    "        clip_rho_threshold = tf.convert_to_tensor(rho_clip, dtype=tf.float32)\n",
    "    if rho_clip_pg is not None:\n",
    "        clip_pg_rho_threshold = tf.convert_to_tensor(rho_clip_pg, dtype=tf.float32)\n",
    "\n",
    "    # Make sure tensor ranks are consistent.\n",
    "    rho_rank = log_rhos.shape.ndims  # Usually 2.\n",
    "    values.shape.assert_has_rank(rho_rank)\n",
    "    bootstrap_value.shape.assert_has_rank(rho_rank - 1)\n",
    "    discounts.shape.assert_has_rank(rho_rank)\n",
    "    rewards.shape.assert_has_rank(rho_rank)\n",
    "    if clip_rho_threshold is not None:\n",
    "        clip_rho_threshold.shape.assert_has_rank(0)\n",
    "    if clip_pg_rho_threshold is not None:\n",
    "        clip_pg_rho_threshold.shape.assert_has_rank(0)\n",
    "\n",
    "    rhos = tf.exp(log_rhos)\n",
    "    if clip_rho_threshold is not None:\n",
    "        clipped_rhos = tf.minimum(clip_rho_threshold, rhos, name='clipped_rhos')\n",
    "    else:\n",
    "        clipped_rhos = rhos\n",
    "\n",
    "    cs = tf.minimum(c_clip, rhos, name='cs')\n",
    "    # Append bootstrapped value to get [v1, ..., v_t+1]\n",
    "    values_t_plus_1 = tf.concat(\n",
    "        [values[1:], tf.expand_dims(bootstrap_value, 0)], axis=0)\n",
    "    deltas = clipped_rhos * (rewards + discounts * values_t_plus_1 - values)\n",
    "\n",
    "    # Note that all sequences are reversed, computation starts from the back.\n",
    "    sequences = (\n",
    "        tf.reverse(discounts, axis=[0]),\n",
    "        tf.reverse(cs, axis=[0]),\n",
    "        tf.reverse(deltas, axis=[0]),\n",
    "    )\n",
    "    # V-trace vs are calculated through a scan from the back to the beginning\n",
    "    # of the given trajectory.\n",
    "    def scanfunc(acc, sequence_item):\n",
    "        discount_t, c_t, delta_t = sequence_item\n",
    "        return delta_t + discount_t * c_t * acc\n",
    "\n",
    "    initial_values = tf.zeros_like(bootstrap_value)\n",
    "    vs_minus_v_xs = tf.scan(\n",
    "        fn=scanfunc,\n",
    "        elems=sequences,\n",
    "        initializer=initial_values,\n",
    "        parallel_iterations=1,\n",
    "        back_prop=False,\n",
    "        name='scan')\n",
    "    # Reverse the results back to original order.\n",
    "    vs_minus_v_xs = tf.reverse(vs_minus_v_xs, [0], name='vs_minus_v_xs')\n",
    "\n",
    "    # Add V(x_s) to get v_s.\n",
    "    vs = tf.add(vs_minus_v_xs, values, name='vs')\n",
    "\n",
    "    # Advantage for policy gradient.\n",
    "    vs_t_plus_1 = tf.concat([\n",
    "        vs[1:], tf.expand_dims(bootstrap_value, 0)], axis=0)\n",
    "    if clip_pg_rho_threshold is not None:\n",
    "        clipped_pg_rhos = tf.minimum(clip_pg_rho_threshold, rhos,\n",
    "                                   name='clipped_pg_rhos')\n",
    "    else:\n",
    "        clipped_pg_rhos = rhos\n",
    "    pg_advantages = (\n",
    "        clipped_pg_rhos * (rewards + discounts * vs_t_plus_1 - values))\n",
    "\n",
    "    # Make sure no gradients backpropagated through the returned values.\n",
    "    return tf.stop_gradient(vs), tf.stop_gradient(pg_advantages)\n",
    "\n",
    "tf.nest.map_structure(lambda x: x.numpy(), vtrace_from_importance_weights(**tf.nest.map_structure(\n",
    "    lambda x: tf.convert_to_tensor(x, tf.float32), values)))"
   ]
  },
  {
   "cell_type": "code",
   "execution_count": 14,
   "metadata": {},
   "outputs": [
    {
     "data": {
      "text/plain": [
       "array([-0.4375,  0.4375])"
      ]
     },
     "execution_count": 14,
     "metadata": {},
     "output_type": "execute_result"
    }
   ],
   "source": [
    "A = np.array([[3, 0], [5, 1]])\n",
    "x = np.array([.5, .5])\n",
    "y = np.array([.75, .25])\n",
    "i = 0\n",
    "x * ((A @ y) - x @ A @ y)"
   ]
  },
  {
   "cell_type": "code",
   "execution_count": 13,
   "metadata": {},
   "outputs": [
    {
     "data": {
      "text/plain": [
       "array([-0.28125,  0.28125])"
      ]
     },
     "execution_count": 13,
     "metadata": {},
     "output_type": "execute_result"
    }
   ],
   "source": [
    "B = np.array([[3, 5], [0, 1]])\n",
    "x = np.array([.5, .5])\n",
    "y = np.array([.75, .25])\n",
    "i = 1\n",
    "y * ((x @ B) - x @ B @ y)"
   ]
  },
  {
   "cell_type": "code",
   "execution_count": 20,
   "metadata": {},
   "outputs": [
    {
     "name": "stdout",
     "output_type": "stream",
     "text": [
      "10.7 ms ± 243 µs per loop (mean ± std. dev. of 7 runs, 100 loops each)\n"
     ]
    }
   ],
   "source": [
    "%%timeit\n",
    "np.swapaxes(x, 0, 1)"
   ]
  },
  {
   "cell_type": "code",
   "execution_count": 150,
   "metadata": {},
   "outputs": [
    {
     "name": "stdout",
     "output_type": "stream",
     "text": [
      "815 ns ± 124 ns per loop (mean ± std. dev. of 7 runs, 1000000 loops each)\n"
     ]
    }
   ],
   "source": [
    "%%timeit \n",
    "random.choice(range(10))"
   ]
  },
  {
   "cell_type": "code",
   "execution_count": 218,
   "metadata": {},
   "outputs": [
    {
     "data": {
      "text/plain": [
       "True"
      ]
     },
     "execution_count": 218,
     "metadata": {},
     "output_type": "execute_result"
    }
   ],
   "source": [
    "np.any([1])"
   ]
  },
  {
   "cell_type": "code",
   "execution_count": 219,
   "metadata": {},
   "outputs": [
    {
     "name": "stderr",
     "output_type": "stream",
     "text": [
      "/Users/aptx4869/opt/anaconda3/envs/grl/lib/python3.8/site-packages/redis/connection.py:72: UserWarning: redis-py works best with hiredis. Please consider installing\n",
      "  warnings.warn(msg)\n"
     ]
    }
   ],
   "source": [
    "import ray"
   ]
  },
  {
   "cell_type": "code",
   "execution_count": 227,
   "metadata": {},
   "outputs": [
    {
     "data": {
      "text/plain": [
       "<tf.Tensor: shape=(2, 10), dtype=float32, numpy=\n",
       "array([[-1.8751314 ,  1.1574111 ,  0.28891563, -1.036958  , -0.30806425,\n",
       "        -0.942376  ,  0.14197487, -0.18942305,  1.0531654 , -2.1253295 ],\n",
       "       [ 0.13698195, -0.37173527, -0.60122806,  0.07042462,  0.93663615,\n",
       "         0.24715364, -0.63460284, -0.41311222, -0.41269708,  1.1034516 ]],\n",
       "      dtype=float32)>"
      ]
     },
     "execution_count": 227,
     "metadata": {},
     "output_type": "execute_result"
    }
   ],
   "source": [
    "from nn.func import mlp\n",
    "l = mlp([10])\n",
    "x = np.random.normal(size=(2, 3))\n",
    "l(x)"
   ]
  },
  {
   "cell_type": "code",
   "execution_count": 254,
   "metadata": {},
   "outputs": [
    {
     "name": "stdout",
     "output_type": "stream",
     "text": [
      "[0.48889034 0.50763433 0.3878819  0.44746298 0.34857739]\n",
      "[1.63050591 1.66135632 1.47385572 1.56433838 1.41705021]\n",
      "[0.21046644 0.21444862 0.19024596 0.2019255  0.18291348]\n",
      "[ 0.03446378  0.07926115 -0.0098966   0.09980731  0.00971384]\n",
      "[1.68767884 1.79839658 1.45934149 1.72852818 1.43088228]\n",
      "[0.20823131 0.22189203 0.18005831 0.21327144 0.17654692]\n"
     ]
    }
   ],
   "source": [
    "x = np.random.uniform(0.3, .6, 5)\n",
    "def compute(x, new=None):\n",
    "    q = np.exp(x)\n",
    "    p = q / np.sum(q)\n",
    "    if new is not None:\n",
    "        q = np.exp(x + new)\n",
    "        p = q / np.sum(q)\n",
    "    return q, p\n",
    "q, p = compute(x, 0)\n",
    "print(x, q, p, sep='\\n')\n",
    "new = np.random.uniform(-.1, .1, 5)\n",
    "q, p = compute(x, new)\n",
    "print(new, q, p, sep='\\n')"
   ]
  },
  {
   "cell_type": "code",
   "execution_count": 269,
   "metadata": {},
   "outputs": [
    {
     "data": {
      "text/plain": [
       "array([0.22433632, 0.2133953 , 0.20298789, 0.19308806, 0.16619243])"
      ]
     },
     "execution_count": 269,
     "metadata": {},
     "output_type": "execute_result"
    }
   ],
   "source": [
    "score = 1-np.linspace(.4, .6, 5)\n",
    "score[-1] = .3\n",
    "x = np.exp(score)\n",
    "x / np.sum(x)"
   ]
  },
  {
   "cell_type": "code",
   "execution_count": 276,
   "metadata": {},
   "outputs": [
    {
     "data": {
      "text/plain": [
       "[<matplotlib.lines.Line2D at 0x7fbe56fed850>]"
      ]
     },
     "execution_count": 276,
     "metadata": {},
     "output_type": "execute_result"
    },
    {
     "data": {
      "image/png": "[encoded data removed]",
      "text/plain": [
       "<Figure size 432x288 with 1 Axes>"
      ]
     },
     "metadata": {
      "needs_background": "light"
     },
     "output_type": "display_data"
    }
   ],
   "source": [
    "x = np.linspace(.3, .6, 5)\n",
    "y = np.exp(x)\n",
    "y /= np.sum(y)\n",
    "plt.plot(x, y)"
   ]
  },
  {
   "cell_type": "code",
   "execution_count": 279,
   "metadata": {
    "scrolled": true
   },
   "outputs": [
    {
     "data": {
      "text/plain": [
       "[<matplotlib.lines.Line2D at 0x7fbe57342220>]"
      ]
     },
     "execution_count": 279,
     "metadata": {},
     "output_type": "execute_result"
    },
    {
     "data": {
      "image/png": "[encoded data removed]",
      "text/plain": [
       "<Figure size 432x288 with 1 Axes>"
      ]
     },
     "metadata": {
      "needs_background": "light"
     },
     "output_type": "display_data"
    }
   ],
   "source": [
    "x = np.linspace(.3, .6, 5)\n",
    "y = (x)**2\n",
    "y /= np.sum(y)\n",
    "plt.plot(x, y)"
   ]
  },
  {
   "cell_type": "code",
   "execution_count": 70,
   "metadata": {
    "scrolled": true
   },
   "outputs": [
    {
     "ename": "IndexError",
     "evalue": "tuple index out of range",
     "output_type": "error",
     "traceback": [
      "\u001b[0;31m---------------------------------------------------------------------------\u001b[0m",
      "\u001b[0;31mIndexError\u001b[0m                                Traceback (most recent call last)",
      "\u001b[0;32m<ipython-input-70-5dd8c1bc2428>\u001b[0m in \u001b[0;36m<module>\u001b[0;34m\u001b[0m\n\u001b[0;32m----> 1\u001b[0;31m \u001b[0mnp\u001b[0m\u001b[0;34m.\u001b[0m\u001b[0mshape\u001b[0m\u001b[0;34m(\u001b[0m\u001b[0;36m10\u001b[0m\u001b[0;34m)\u001b[0m\u001b[0;34m[\u001b[0m\u001b[0;36m0\u001b[0m\u001b[0;34m]\u001b[0m\u001b[0;34m\u001b[0m\u001b[0;34m\u001b[0m\u001b[0m\n\u001b[0m",
      "\u001b[0;31mIndexError\u001b[0m: tuple index out of range"
     ]
    }
   ],
   "source": [
    "np.shape(10)"
   ]
  },
  {
   "cell_type": "code",
   "execution_count": 206,
   "metadata": {},
   "outputs": [
    {
     "data": {
      "image/png": "[encoded data removed]",
      "text/plain": [
       "<Figure size 432x288 with 1 Axes>"
      ]
     },
     "metadata": {
      "needs_background": "light"
     },
     "output_type": "display_data"
    }
   ],
   "source": [
    "def nearest_cluster_idx(centroids, feat):\n",
    "    return np.argmin(np.mean((centroids - feat[None])**2, -1))\n",
    "\n",
    "def kmean(data, k, n):\n",
    "    max_feat = np.max(data, 0)\n",
    "    min_feat = np.min(data, 0)\n",
    "    step = data.shape[0] // k\n",
    "    centroids = data[:k]\n",
    "    \n",
    "    for _ in range(n):\n",
    "        feats = [[] for _ in range(k)]\n",
    "        for feat in data:\n",
    "            i = nearest_cluster_idx(centroids, feat)\n",
    "            feats[i].append(feat)\n",
    "        centroids = np.array([np.mean(fs, axis=0) for fs in feats])\n",
    "    return centroids\n",
    "\n",
    "data = np.concatenate([np.random.normal(i, 1, (10, 2)) for i in range(10)], 0)\n",
    "np.random.shuffle(data)\n",
    "centroids = kmean(data, 10, 100)\n",
    "plt.scatter(data[:, 0], data[:, 1])\n",
    "plt.scatter(centroids[:, 0], centroids[:, 1], c='r')\n",
    "plt.show()"
   ]
  },
  {
   "cell_type": "code",
   "execution_count": 181,
   "metadata": {},
   "outputs": [
    {
     "data": {
      "text/plain": [
       "<tf.Tensor: shape=(2, 5), dtype=float32, numpy=\n",
       "array([[-1.0000000e+10, -4.3082278e-02,  7.8758178e-03, -1.0000000e+10,\n",
       "        -5.6906357e-02],\n",
       "       [ 1.9747494e-03, -1.0000000e+10, -1.0000000e+10, -1.0000000e+10,\n",
       "        -1.0000000e+10]], dtype=float32)>"
      ]
     },
     "execution_count": 181,
     "metadata": {},
     "output_type": "execute_result"
    }
   ],
   "source": [
    "b_e = tf.expand_dims(b, 1)\n",
    "a_t = tf.transpose(a, [0, 2, 1])\n",
    "x = tf.squeeze(tf.matmul(b_e, a_t))\n",
    "tf.where(x == 0, -1e10, x)"
   ]
  },
  {
   "cell_type": "code",
   "execution_count": 219,
   "metadata": {},
   "outputs": [
    {
     "data": {
      "text/plain": [
       "156672000"
      ]
     },
     "execution_count": 219,
     "metadata": {},
     "output_type": "execute_result"
    }
   ],
   "source": [
    "import psutil\n",
    "process = pszutil.Process()\n",
    "process.memory_info().rss"
   ]
  },
  {
   "cell_type": "code",
   "execution_count": 284,
   "metadata": {},
   "outputs": [
    {
     "data": {
      "text/plain": [
       "{'a', 'b'}"
      ]
     },
     "execution_count": 284,
     "metadata": {},
     "output_type": "execute_result"
    }
   ],
   "source": [
    "d = {'a': 10, 'b': 20}\n",
    "set(d.keys())"
   ]
  },
  {
   "cell_type": "code",
   "execution_count": 123,
   "metadata": {},
   "outputs": [
    {
     "data": {
      "text/plain": [
       "[]"
      ]
     },
     "execution_count": 123,
     "metadata": {},
     "output_type": "execute_result"
    }
   ],
   "source": [
    "list(zip(*[]))"
   ]
  },
  {
   "cell_type": "code",
   "execution_count": 122,
   "metadata": {},
   "outputs": [
    {
     "name": "stdout",
     "output_type": "stream",
     "text": [
      "[(0, 1, 2, 3, 4, 5, 6, 7), (10, 11, 12, 13, 14, 15, 16, 17)]\n"
     ]
    },
    {
     "data": {
      "text/plain": [
       "((array([0, 1, 2, 3, 4, 5, 6, 7]), array([10, 11, 12, 13, 14, 15, 16, 17])),\n",
       " {'a': array([0, 1, 2, 3, 4, 5, 6, 7]), 'b': array([0, 1, 2, 3, 4, 5, 6, 7])})"
      ]
     },
     "execution_count": 122,
     "metadata": {},
     "output_type": "execute_result"
    }
   ],
   "source": [
    "from utility.utils import flatten_dict, batch_dicts\n",
    "def merge(agent_eids, agent_action, agent_terms, \n",
    "          other_eids, other_action, other_terms):\n",
    "    agent_action = list(zip(*agent_action))\n",
    "    agent_terms = flatten_dict(agent_terms)\n",
    "    other_action = list(zip(*other_action))\n",
    "    other_terms = flatten_dict(other_terms)\n",
    "    assert len(agent_eids) == len(agent_action) == len(agent_terms), (len(agent_eids), len(agent_action), len(agent_terms))\n",
    "    assert len(other_eids) == len(other_action) == len(other_terms), (len(other_eids), len(other_action), len(other_terms))\n",
    "    i = 0\n",
    "    j = 0\n",
    "    action, terms = [], []\n",
    "    while i != len(agent_eids) and j != len(other_eids):\n",
    "        if agent_eids[i] < other_eids[j]:\n",
    "            action.append(agent_action[i])\n",
    "            terms.append(agent_terms[i])\n",
    "            i += 1\n",
    "        else:\n",
    "            action.append(other_action[j])\n",
    "            terms.append(other_terms[j])\n",
    "            j += 1\n",
    "    while i != len(agent_eids):\n",
    "        action.append(agent_action[i])\n",
    "        terms.append(agent_terms[i])\n",
    "        i += 1\n",
    "    while j != len(other_eids):\n",
    "        action.append(other_action[j])\n",
    "        terms.append(other_terms[j])\n",
    "        j += 1\n",
    "    print(list(zip(*action)))\n",
    "    return tuple(map(np.stack, zip(*action))), batch_dicts(terms)\n",
    "\n",
    "eids1 = [1, 3, 4]\n",
    "eids2 = [0, 2, 5, 6, 7]\n",
    "a1 = ([1, 3, 4], [11, 13, 14])\n",
    "a2 = ([0, 2, 5, 6, 7], [10, 12, 15, 16, 17])\n",
    "t1 = {\n",
    "    'a': [1, 3, 4],\n",
    "    'b': [1, 3, 4]\n",
    "}\n",
    "t2 = {\n",
    "    'a': [0, 2, 5, 6, 7],\n",
    "    'b': [0, 2, 5, 6, 7]\n",
    "}\n",
    "merge(eids1, a1, t1, eids2, a2, t2)"
   ]
  }
 ],
 "metadata": {
  "kernelspec": {
   "display_name": "Python 3 (ipykernel)",
   "language": "python",
   "name": "python3"
  },
  "language_info": {
   "codemirror_mode": {
    "name": "ipython",
    "version": 3
   },
   "file_extension": ".py",
   "mimetype": "text/x-python",
   "name": "python",
   "nbconvert_exporter": "python",
   "pygments_lexer": "ipython3",
   "version": "3.8.12"
  }
 },
 "nbformat": 4,
 "nbformat_minor": 2
}
