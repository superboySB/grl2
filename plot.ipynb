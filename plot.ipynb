{
 "cells": [
  {
   "cell_type": "code",
   "execution_count": 1,
   "metadata": {},
   "outputs": [],
   "source": [
    "%load_ext autoreload\n",
    "%autoreload 2\n",
    "import os, sys, glob\n",
    "import numpy as np\n",
    "import pandas as pd\n",
    "import matplotlib.pyplot as plt\n",
    "import seaborn as sns\n",
    "import plotly.graph_objects as go\n",
    "import plotly.express as px\n",
    "%matplotlib inline"
   ]
  },
  {
   "cell_type": "code",
   "execution_count": 2,
   "metadata": {},
   "outputs": [],
   "source": [
    "def plot_data(data, x, y, outdir, tag, title, timing=None, smooth=1):\n",
    "    if smooth > 1:\n",
    "        \"\"\"\n",
    "        smooth data with moving window average.\n",
    "        that is,\n",
    "            smoothed_y[t] = average(y[t-k], y[t-k+1], ..., y[t+k-1], y[t+k])\n",
    "        where the \"smooth\" param is width of that window (2k+1)\n",
    "        \"\"\"\n",
    "        y = np.ones(smooth)\n",
    "        for datum in data:\n",
    "            x = np.asarray(datum[y])\n",
    "            z = np.ones(len(x))\n",
    "            smoothed_x = np.convolve(x,y,'same') / np.convolve(z,y,'same')\n",
    "            datum[y] = smoothed_x\n",
    "            \n",
    "    if isinstance(data, list):\n",
    "        data = pd.concat(data, ignore_index=True)\n",
    "        if timing:\n",
    "            data = data[data.timing == timing].drop('timing', axis=1)\n",
    "\n",
    "    if not os.path.isdir(outdir):\n",
    "        os.mkdir(outdir)\n",
    "    fig = plt.figure(figsize=(20, 10))\n",
    "    ax = fig.add_subplot(111)\n",
    "    sns.set(style=\"whitegrid\", font_scale=1.5)\n",
    "    sns.set_palette('Set2') # or husl\n",
    "    if 'timing' in data.columns:\n",
    "        sns.lineplot(x=x, y=y, ax=ax, data=data, hue=tag, style='timing')\n",
    "    else:\n",
    "        sns.lineplot(x=x, y=y, ax=ax, data=data, hue=tag)\n",
    "    ax.grid(True, alpha=0.8, linestyle=':')\n",
    "    ax.legend(loc='best').set_draggable(True)\n",
    "    ax.spines['top'].set_visible(False)\n",
    "    ax.spines['right'].set_visible(False)\n",
    "    if timing:\n",
    "        title = f'{title}-{timing}'\n",
    "    outpath = f'{outdir}/{title}.png'\n",
    "    ax.set_title(title)\n",
    "    fig.savefig(outpath)\n",
    "    fig.show()\n",
    "    print(f'Plot Path: {outpath}')\n",
    "\n",
    "def get_datasets(files, tag, condition=None):\n",
    "    unit = 0\n",
    "    datasets = []\n",
    "    for f in files:\n",
    "        assert f.endswith('log.txt')\n",
    "        data = pd.read_csv(f, sep='\\t')\n",
    "\n",
    "        data.insert(len(data.columns), tag, condition)\n",
    "\n",
    "        datasets.append(data)\n",
    "        unit +=1\n",
    "\n",
    "    return datasets"
   ]
  },
  {
   "cell_type": "code",
   "execution_count": 3,
   "metadata": {},
   "outputs": [
    {
     "ename": "AssertionError",
     "evalue": "\nNot equal to tolerance rtol=1e-07, atol=0\n\nMismatched elements: 4 / 4 (100%)\nMax absolute difference: 1.64806828\nMax relative difference: 3.51062932\n x: array([[-0.340345, -0.588002],\n       [-0.336668, -0.920949]])\n y: array([[ 0.135561, -0.232452],\n       [ 1.3114  , -1.396855]])",
     "output_type": "error",
     "traceback": [
      "\u001b[0;31m---------------------------------------------------------------------------\u001b[0m",
      "\u001b[0;31mAssertionError\u001b[0m                            Traceback (most recent call last)",
      "\u001b[0;32m<ipython-input-3-6a09ccc936b2>\u001b[0m in \u001b[0;36m<module>\u001b[0;34m\u001b[0m\n\u001b[1;32m      2\u001b[0m \u001b[0mb\u001b[0m \u001b[0;34m=\u001b[0m \u001b[0mnp\u001b[0m\u001b[0;34m.\u001b[0m\u001b[0mrandom\u001b[0m\u001b[0;34m.\u001b[0m\u001b[0mnormal\u001b[0m\u001b[0;34m(\u001b[0m\u001b[0msize\u001b[0m\u001b[0;34m=\u001b[0m\u001b[0;34m(\u001b[0m\u001b[0;36m2\u001b[0m\u001b[0;34m,\u001b[0m \u001b[0;36m2\u001b[0m\u001b[0;34m)\u001b[0m\u001b[0;34m)\u001b[0m\u001b[0;34m\u001b[0m\u001b[0;34m\u001b[0m\u001b[0m\n\u001b[1;32m      3\u001b[0m \u001b[0mc\u001b[0m \u001b[0;34m=\u001b[0m \u001b[0mnp\u001b[0m\u001b[0;34m.\u001b[0m\u001b[0mrandom\u001b[0m\u001b[0;34m.\u001b[0m\u001b[0mnormal\u001b[0m\u001b[0;34m(\u001b[0m\u001b[0msize\u001b[0m\u001b[0;34m=\u001b[0m\u001b[0;34m(\u001b[0m\u001b[0;36m2\u001b[0m\u001b[0;34m,\u001b[0m \u001b[0;36m2\u001b[0m\u001b[0;34m)\u001b[0m\u001b[0;34m)\u001b[0m\u001b[0;34m\u001b[0m\u001b[0;34m\u001b[0m\u001b[0m\n\u001b[0;32m----> 4\u001b[0;31m \u001b[0mnp\u001b[0m\u001b[0;34m.\u001b[0m\u001b[0mtesting\u001b[0m\u001b[0;34m.\u001b[0m\u001b[0massert_allclose\u001b[0m\u001b[0;34m(\u001b[0m\u001b[0ma\u001b[0m\u001b[0;34m@\u001b[0m\u001b[0mb\u001b[0m\u001b[0;34m@\u001b[0m\u001b[0mc\u001b[0m\u001b[0;34m,\u001b[0m \u001b[0mc\u001b[0m\u001b[0;34m@\u001b[0m\u001b[0ma\u001b[0m\u001b[0;34m@\u001b[0m\u001b[0mb\u001b[0m\u001b[0;34m)\u001b[0m\u001b[0;34m\u001b[0m\u001b[0;34m\u001b[0m\u001b[0m\n\u001b[0m",
      "\u001b[0;32m~/anaconda3/envs/drl/lib/python3.8/site-packages/numpy/testing/_private/utils.py\u001b[0m in \u001b[0;36massert_allclose\u001b[0;34m(actual, desired, rtol, atol, equal_nan, err_msg, verbose)\u001b[0m\n\u001b[1;32m   1525\u001b[0m     \u001b[0mactual\u001b[0m\u001b[0;34m,\u001b[0m \u001b[0mdesired\u001b[0m \u001b[0;34m=\u001b[0m \u001b[0mnp\u001b[0m\u001b[0;34m.\u001b[0m\u001b[0masanyarray\u001b[0m\u001b[0;34m(\u001b[0m\u001b[0mactual\u001b[0m\u001b[0;34m)\u001b[0m\u001b[0;34m,\u001b[0m \u001b[0mnp\u001b[0m\u001b[0;34m.\u001b[0m\u001b[0masanyarray\u001b[0m\u001b[0;34m(\u001b[0m\u001b[0mdesired\u001b[0m\u001b[0;34m)\u001b[0m\u001b[0;34m\u001b[0m\u001b[0;34m\u001b[0m\u001b[0m\n\u001b[1;32m   1526\u001b[0m     \u001b[0mheader\u001b[0m \u001b[0;34m=\u001b[0m \u001b[0;34m'Not equal to tolerance rtol=%g, atol=%g'\u001b[0m \u001b[0;34m%\u001b[0m \u001b[0;34m(\u001b[0m\u001b[0mrtol\u001b[0m\u001b[0;34m,\u001b[0m \u001b[0matol\u001b[0m\u001b[0;34m)\u001b[0m\u001b[0;34m\u001b[0m\u001b[0;34m\u001b[0m\u001b[0m\n\u001b[0;32m-> 1527\u001b[0;31m     assert_array_compare(compare, actual, desired, err_msg=str(err_msg),\n\u001b[0m\u001b[1;32m   1528\u001b[0m                          verbose=verbose, header=header, equal_nan=equal_nan)\n\u001b[1;32m   1529\u001b[0m \u001b[0;34m\u001b[0m\u001b[0m\n",
      "\u001b[0;32m~/anaconda3/envs/drl/lib/python3.8/site-packages/numpy/testing/_private/utils.py\u001b[0m in \u001b[0;36massert_array_compare\u001b[0;34m(comparison, x, y, err_msg, verbose, header, precision, equal_nan, equal_inf)\u001b[0m\n\u001b[1;32m    838\u001b[0m                                 \u001b[0mverbose\u001b[0m\u001b[0;34m=\u001b[0m\u001b[0mverbose\u001b[0m\u001b[0;34m,\u001b[0m \u001b[0mheader\u001b[0m\u001b[0;34m=\u001b[0m\u001b[0mheader\u001b[0m\u001b[0;34m,\u001b[0m\u001b[0;34m\u001b[0m\u001b[0;34m\u001b[0m\u001b[0m\n\u001b[1;32m    839\u001b[0m                                 names=('x', 'y'), precision=precision)\n\u001b[0;32m--> 840\u001b[0;31m             \u001b[0;32mraise\u001b[0m \u001b[0mAssertionError\u001b[0m\u001b[0;34m(\u001b[0m\u001b[0mmsg\u001b[0m\u001b[0;34m)\u001b[0m\u001b[0;34m\u001b[0m\u001b[0;34m\u001b[0m\u001b[0m\n\u001b[0m\u001b[1;32m    841\u001b[0m     \u001b[0;32mexcept\u001b[0m \u001b[0mValueError\u001b[0m\u001b[0;34m:\u001b[0m\u001b[0;34m\u001b[0m\u001b[0;34m\u001b[0m\u001b[0m\n\u001b[1;32m    842\u001b[0m         \u001b[0;32mimport\u001b[0m \u001b[0mtraceback\u001b[0m\u001b[0;34m\u001b[0m\u001b[0;34m\u001b[0m\u001b[0m\n",
      "\u001b[0;31mAssertionError\u001b[0m: \nNot equal to tolerance rtol=1e-07, atol=0\n\nMismatched elements: 4 / 4 (100%)\nMax absolute difference: 1.64806828\nMax relative difference: 3.51062932\n x: array([[-0.340345, -0.588002],\n       [-0.336668, -0.920949]])\n y: array([[ 0.135561, -0.232452],\n       [ 1.3114  , -1.396855]])"
     ]
    }
   ],
   "source": [
    "a = np.random.normal(size=(2, 2))\n",
    "b = np.random.normal(size=(2, 2))\n",
    "c = np.random.normal(size=(2, 2))\n",
    "np.testing.assert_allclose(a@b@c, c@a@b)"
   ]
  },
  {
   "cell_type": "code",
   "execution_count": 48,
   "metadata": {},
   "outputs": [
    {
     "name": "stdout",
     "output_type": "stream",
     "text": [
      "49.6 µs ± 3.73 µs per loop (mean ± std. dev. of 7 runs, 10000 loops each)\n"
     ]
    }
   ],
   "source": [
    "%%timeit\n",
    "tf.nest.map_structure(lambda x: x.numpy() if isinstance(x, tf.Tensor) else x, l)"
   ]
  },
  {
   "cell_type": "code",
   "execution_count": 61,
   "metadata": {},
   "outputs": [],
   "source": [
    "a = tf.random.uniform((64,), 0, 15, dtype=tf.int32)\n",
    "qs = tf.random.uniform((64, 15), 0, 10)"
   ]
  },
  {
   "cell_type": "code",
   "execution_count": 69,
   "metadata": {},
   "outputs": [
    {
     "name": "stderr",
     "output_type": "stream",
     "text": [
      "/Users/aptx4869/anaconda3/envs/drl/lib/python3.8/site-packages/gym/logger.py:30: UserWarning: \u001b[33mWARN: Box bound precision lowered by casting to float32\u001b[0m\n",
      "  warnings.warn(colorize('%s: %s'%('WARN', msg % args), 'yellow'))\n"
     ]
    },
    {
     "data": {
      "text/plain": [
       "(4,)"
      ]
     },
     "execution_count": 69,
     "metadata": {},
     "output_type": "execute_result"
    }
   ],
   "source": [
    "import gym\n",
    "env = gym.make('BipedalWalker-v3')\n",
    "env.action_space.shape"
   ]
  },
  {
   "cell_type": "code",
   "execution_count": 68,
   "metadata": {},
   "outputs": [
    {
     "data": {
      "text/plain": [
       "'a'"
      ]
     },
     "execution_count": 68,
     "metadata": {},
     "output_type": "execute_result"
    }
   ],
   "source": [
    "class A:\n",
    "    def __init__(self):\n",
    "        self.name = 'a';\n",
    "    def f(self):\n",
    "        return self.name\n",
    "\n",
    "class B:\n",
    "    def __init__(self):\n",
    "        self.name = 'b';\n",
    "    def f(self):\n",
    "        return self.name\n",
    "class C(A, B):\n",
    "    def __init__(self):\n",
    "        super().__init__()\n",
    "c = C()\n",
    "c.f()"
   ]
  },
  {
   "cell_type": "code",
   "execution_count": 96,
   "metadata": {},
   "outputs": [
    {
     "name": "stdout",
     "output_type": "stream",
     "text": [
      "[]\n"
     ]
    },
    {
     "data": {
      "text/plain": [
       "[{}]"
      ]
     },
     "execution_count": 96,
     "metadata": {},
     "output_type": "execute_result"
    }
   ],
   "source": [
    "def flatten_dict(**kwargs):\n",
    "    \"\"\" Flatten a dict of lists into a list of dicts\n",
    "    For example\n",
    "    f(lr=[1, 2], a=[10,3], b=dict(c=[2, 4], d=np.arange(3)))\n",
    "    >>>\n",
    "    [{'lr': 1, 'a': 10, 'b': {'c': 2, 'd': 0}},\n",
    "    {'lr': 1, 'a': 10, 'b': {'c': 2, 'd': 1}},\n",
    "    {'lr': 1, 'a': 10, 'b': {'c': 2, 'd': 2}},\n",
    "    {'lr': 1, 'a': 10, 'b': {'c': 4, 'd': 0}},\n",
    "    {'lr': 1, 'a': 10, 'b': {'c': 4, 'd': 1}},\n",
    "    {'lr': 1, 'a': 10, 'b': {'c': 4, 'd': 2}},\n",
    "    {'lr': 1, 'a': 3, 'b': {'c': 2, 'd': 0}},\n",
    "    {'lr': 1, 'a': 3, 'b': {'c': 2, 'd': 1}},\n",
    "    {'lr': 1, 'a': 3, 'b': {'c': 2, 'd': 2}},\n",
    "    {'lr': 1, 'a': 3, 'b': {'c': 4, 'd': 0}},\n",
    "    {'lr': 1, 'a': 3, 'b': {'c': 4, 'd': 1}},\n",
    "    {'lr': 1, 'a': 3, 'b': {'c': 4, 'd': 2}},\n",
    "    {'lr': 2, 'a': 10, 'b': {'c': 2, 'd': 0}},\n",
    "    {'lr': 2, 'a': 10, 'b': {'c': 2, 'd': 1}},\n",
    "    {'lr': 2, 'a': 10, 'b': {'c': 2, 'd': 2}},\n",
    "    {'lr': 2, 'a': 10, 'b': {'c': 4, 'd': 0}},\n",
    "    {'lr': 2, 'a': 10, 'b': {'c': 4, 'd': 1}},\n",
    "    {'lr': 2, 'a': 10, 'b': {'c': 4, 'd': 2}},\n",
    "    {'lr': 2, 'a': 3, 'b': {'c': 2, 'd': 0}},\n",
    "    {'lr': 2, 'a': 3, 'b': {'c': 2, 'd': 1}},\n",
    "    {'lr': 2, 'a': 3, 'b': {'c': 2, 'd': 2}},\n",
    "    {'lr': 2, 'a': 3, 'b': {'c': 4, 'd': 0}},\n",
    "    {'lr': 2, 'a': 3, 'b': {'c': 4, 'd': 1}},\n",
    "    {'lr': 2, 'a': 3, 'b': {'c': 4, 'd': 2}}]\n",
    "    \"\"\"\n",
    "    ks, vs = [], []\n",
    "    for k, v in kwargs.items():\n",
    "        print('here')\n",
    "        ks.append(k)\n",
    "        if isinstance(v, dict):\n",
    "            print(0)\n",
    "            vs.append(flatten_dict(**v))\n",
    "        elif isinstance(v, (int, float)):\n",
    "            print(1)\n",
    "            vs.append([v])\n",
    "        else:\n",
    "            print(2)\n",
    "            vs.append(v)\n",
    "    print(vs)\n",
    "    result = []\n",
    "    for k, v in itertools.product([ks], itertools.product(*vs)):\n",
    "        result.append(dict(zip(k, v)))\n",
    "\n",
    "    return result\n",
    "flatten_dict()"
   ]
  },
  {
   "cell_type": "code",
   "execution_count": 113,
   "metadata": {},
   "outputs": [
    {
     "data": {
      "text/plain": [
       "array([[1., 0.],\n",
       "       [1., 0.],\n",
       "       [1., 0.]])"
      ]
     },
     "execution_count": 113,
     "metadata": {},
     "output_type": "execute_result"
    }
   ],
   "source": [
    "sample time, obs_mean obs_var = 70.83269476890564 27.5120951034217 103.80096989803444"
   ]
  },
  {
   "cell_type": "code",
   "execution_count": 119,
   "metadata": {},
   "outputs": [
    {
     "name": "stdout",
     "output_type": "stream",
     "text": [
      "127.50065616957318 5460.969658266675\n"
     ]
    }
   ],
   "source": [
    "class RunningMeanStd(object):\n",
    "    # https://en.wikipedia.org/wiki/Algorithms_for_calculating_variance#Parallel_algorithm\n",
    "    def __init__(self, epsilon=1e-4, shape=(), comm=None, use_mpi=True):\n",
    "        self.mean = np.zeros(shape, 'float64')\n",
    "        self.use_mpi = use_mpi\n",
    "        self.var = np.ones(shape, 'float64')\n",
    "        self.count = epsilon\n",
    "\n",
    "    def update(self, x):\n",
    "        batch_mean, batch_std, batch_count = np.mean(x, axis=0), np.std(x, axis=0), x.shape[0]\n",
    "        batch_var = np.square(batch_std)\n",
    "        self.update_from_moments(batch_mean, batch_var, batch_count)\n",
    "\n",
    "    def update_from_moments(self, batch_mean, batch_var, batch_count):\n",
    "        delta = batch_mean - self.mean\n",
    "        tot_count = self.count + batch_count\n",
    "\n",
    "        new_mean = self.mean + delta * batch_count / tot_count\n",
    "        m_a = self.var * (self.count)\n",
    "        m_b = batch_var * (batch_count)\n",
    "        M2 = m_a + m_b + np.square(delta) * self.count * batch_count / (self.count + batch_count)\n",
    "        new_var = M2 / (self.count + batch_count)\n",
    "\n",
    "        new_count = batch_count + self.count\n",
    "\n",
    "        self.mean = new_mean\n",
    "        self.var = new_var\n",
    "        self.count = new_count\n",
    "\n",
    "obs = np.random.randint(0, 256, (32*10, 128, 84, 84, 1))\n",
    "rms = RunningMeanStd(shape=(84, 84, 1))\n",
    "rms.update(obs.reshape(-1, 84, 84, 1))\n",
    "print(rms.mean.mean(), rms.var.mean())"
   ]
  },
  {
   "cell_type": "code",
   "execution_count": 123,
   "metadata": {},
   "outputs": [
    {
     "name": "stdout",
     "output_type": "stream",
     "text": [
      "127.50065648082294 5460.969631911085\n"
     ]
    }
   ],
   "source": [
    "def moments(x, axis=None, mask=None):\n",
    "    if x.dtype == np.uint8:\n",
    "        x = x.astype(np.int32)\n",
    "    if mask is None:\n",
    "        x_mean = np.mean(x, axis=axis)\n",
    "        x2_mean = np.mean(x**2, axis=axis)\n",
    "    else:\n",
    "        if axis is None:\n",
    "            axis = tuple(range(x.ndim))\n",
    "        elif mask is not None:\n",
    "            axis = (axis,) if isinstance(axis, int) else tuple(axis)\n",
    "        # expand mask to match the dimensionality of x\n",
    "        while len(mask.shape) < len(x.shape):\n",
    "            mask = np.expand_dims(mask, -1)\n",
    "        # compute valid entries in x corresponding to True in mask\n",
    "        n = np.sum(mask)\n",
    "        for i in axis:\n",
    "            if mask.shape[i] != 1:\n",
    "                assert mask.shape[i] == x.shape[i], (\n",
    "                    f'{i}th dimension of mask({mask.shape[i]}) does not match'\n",
    "                    f'that of x({x.shape[i]})')\n",
    "            else:\n",
    "                n *= x.shape[i]\n",
    "        # compute x_mean and x_std from entries in x corresponding to True in mask\n",
    "        x_mask = x * mask\n",
    "        x_mean = np.sum(x_mask, axis=axis) / n\n",
    "        x2_mean = np.sum(x_mask**2, axis=axis) / n\n",
    "    x_var = x2_mean - x_mean**2\n",
    "\n",
    "    return x_mean, x_var\n",
    "\n",
    "class RunningMeanStd:\n",
    "    # https://en.wikipedia.org/wiki/Algorithms_for_calculating_variance#Parallel_algorithm\n",
    "    def __init__(self, axis, epsilon=1e-8, clip=None):\n",
    "        \"\"\" Compute running mean and std from data\n",
    "        A reimplementation of RunningMeanStd from OpenAI's baselines\n",
    "\n",
    "        Args:\n",
    "            axis: axis along which we compute mean and std from incoming data. \n",
    "                If it's None, we only receive at a time a sample without batch dimension\n",
    "        \"\"\"\n",
    "        if isinstance(axis, int):\n",
    "            axis = (axis, )\n",
    "        elif isinstance(axis, (tuple, list)):\n",
    "            axis = tuple(axis)\n",
    "        elif axis is None:\n",
    "            pass\n",
    "        else:\n",
    "            raise ValueError(f'Invalid axis({axis}) of type({type(axis)})')\n",
    "        if isinstance(axis, tuple):\n",
    "            assert axis == tuple(range(len(axis))), \\\n",
    "                f'axis should only specifies leading axes so that '\\\n",
    "                f'mean and var can be broadcasted automatically when normalizing. '\\\n",
    "                f'but receving axis = {axis}'\n",
    "        self._axis = axis\n",
    "        if self._axis is not None:\n",
    "            self._shape_slice = np.s_[np.min(self._axis): np.max(self._axis) + 1]\n",
    "        self._mean = None\n",
    "        self._var = None\n",
    "        self._epsilon = epsilon\n",
    "        self._count = epsilon\n",
    "        self._clip = clip\n",
    "\n",
    "    @property\n",
    "    def axis(self):\n",
    "        return self._axis\n",
    "\n",
    "    def get_stats(self):\n",
    "        Stats = collections.namedtuple('RMS', 'mean var count')\n",
    "        return Stats(self._mean, self._var, self._count)\n",
    "\n",
    "    def update(self, x, mask=None):\n",
    "        x = x.astype(np.float64)\n",
    "        if self._axis is None:\n",
    "            assert mask is None, mask\n",
    "            batch_mean, batch_var, batch_count = x, np.zeros_like(x), 1\n",
    "        else:\n",
    "            batch_mean, batch_var = moments(x, self._axis, mask)\n",
    "            batch_count = np.prod(x.shape[self._shape_slice]) if mask is None else np.sum(mask)\n",
    "        if batch_count > 0:\n",
    "            self.update_from_moments(batch_mean, batch_var, batch_count)\n",
    "\n",
    "    def update_from_moments(self, batch_mean, batch_var, batch_count):\n",
    "        if self._count == self._epsilon:\n",
    "            self._mean = np.zeros_like(batch_mean, 'float64')\n",
    "            self._var = np.ones_like(batch_var, 'float64')\n",
    "        if batch_mean.ndim == 0:\n",
    "            print('before', batch_mean, batch_var, self._mean, self._var)\n",
    "\n",
    "        delta = batch_mean - self._mean\n",
    "        total_count = self._count + batch_count\n",
    "\n",
    "        new_mean = self._mean + delta * batch_count / total_count\n",
    "        # no minus one here to be consistent with np.std\n",
    "        m_a = self._var * self._count\n",
    "        m_b = batch_var * batch_count\n",
    "        M2 = m_a + m_b + delta**2 * self._count * batch_count / total_count\n",
    "        assert np.all(np.isfinite(M2)), f'M2: {M2}'\n",
    "        new_var = M2 / total_count\n",
    "\n",
    "        self._mean = new_mean\n",
    "        self._var = new_var\n",
    "        self._count = total_count\n",
    "        if batch_mean.ndim == 0:\n",
    "            print('after', batch_mean, batch_var, self._mean, self._var)\n",
    "        assert np.all(self._var > 0), self._var[self._var <= 0]\n",
    "\n",
    "    def normalize(self, x, subtract_mean=True):\n",
    "        assert not np.isinf(np.std(x)), f'{np.min(x)}\\t{np.max(x)}'\n",
    "        assert self._var is not None, (self._mean, self._var, self._count)\n",
    "        if subtract_mean:\n",
    "            x = x - self._mean\n",
    "        x /= np.sqrt(self._var)\n",
    "        if self._clip:\n",
    "            x = np.clip(x, -self._clip, self._clip)\n",
    "        x = x.astype(np.float32)\n",
    "        return x\n",
    "\n",
    "rms = RunningMeanStd(axis=(0, 1))\n",
    "rms.update(obs)\n",
    "print(rms._mean.mean(), rms._var.mean())"
   ]
  },
  {
   "cell_type": "code",
   "execution_count": 130,
   "metadata": {},
   "outputs": [
    {
     "name": "stdout",
     "output_type": "stream",
     "text": [
      "[[ 0.00848476 -0.9593116  -0.2822219 ]\n",
      " [-0.5781269  -0.23498824  0.7813769 ]]\n",
      "tf.Tensor(\n",
      "[[ 0.7346219   0.54332507 -0.40636006]\n",
      " [-0.58764595  0.80889094  0.01917788]], shape=(2, 3), dtype=float32)\n"
     ]
    }
   ],
   "source": [
    "def ortho_init(scale=1.0):\n",
    "    def _ortho_init(shape, dtype, partition_info=None):\n",
    "        #lasagne ortho init for tf\n",
    "        shape = tuple(shape)\n",
    "        if len(shape) == 2:\n",
    "            flat_shape = shape\n",
    "        elif len(shape) == 4: # assumes NHWC\n",
    "            flat_shape = (np.prod(shape[:-1]), shape[-1])\n",
    "        else:\n",
    "            raise NotImplementedError\n",
    "        a = np.random.normal(0.0, 1.0, flat_shape)\n",
    "        u, _, v = np.linalg.svd(a, full_matrices=False)\n",
    "        q = u if u.shape == flat_shape else v # pick the one with the correct shape\n",
    "        q = q.reshape(shape)\n",
    "        return (scale * q[:shape[0], :shape[1]]).astype(np.float32)\n",
    "    return _ortho_init\n",
    "print(ortho_init()((2, 3), np.float32))\n",
    "print(tf.keras.initializers.orthogonal()((2, 3)))"
   ]
  },
  {
   "cell_type": "code",
   "execution_count": 40,
   "metadata": {},
   "outputs": [
    {
     "data": {
      "text/plain": [
       "(1, 2, 3)"
      ]
     },
     "execution_count": 40,
     "metadata": {},
     "output_type": "execute_result"
    }
   ],
   "source": [
    "a = np.arange(10)\n",
    "b = np.expand_dims(a, tuple(range(1,4)))\n",
    "tuple(range(1, b.ndim))"
   ]
  },
  {
   "cell_type": "code",
   "execution_count": 281,
   "metadata": {},
   "outputs": [
    {
     "data": {
      "text/plain": [
       "<tf.Tensor: shape=(4,), dtype=float32, numpy=array([-28.36734  , -13.2932205, -13.2932205,  -7.553925 ], dtype=float32)>"
      ]
     },
     "execution_count": 281,
     "metadata": {},
     "output_type": "execute_result"
    }
   ],
   "source": [
    "# %%timeit\n",
    "prior_tiled = tf.tile(prior[None], [4, 1])\n",
    "-tf.nn.sparse_softmax_cross_entropy_with_logits(\n",
    "            logits=prior_tiled, labels=action)"
   ]
  },
  {
   "cell_type": "code",
   "execution_count": 209,
   "metadata": {},
   "outputs": [
    {
     "name": "stdout",
     "output_type": "stream",
     "text": [
      "break 0 3 17.67268975449707 29.33568373449707\n",
      "break 1 4 21.447633721509376 26.308249532109375\n",
      "break 2 3 20.6541745900293 25.563887530029298\n",
      "break 8 4 24.672687381328124 34.27864748132812\n",
      "break 9 3 15.830997932861328 25.53398793286133\n",
      "[3. 4. 3. 5. 4. 3. 2. 1. 4. 3.]\n",
      "[3. 4. 3. 5. 4. 3. 2. 1. 4. 3.]\n"
     ]
    }
   ],
   "source": [
    "def adjust_n_steps(data, seqlen, n_steps, max_steps, gamma):\n",
    "    results = {}\n",
    "    for k, v in data.items():\n",
    "        if k == 'q':\n",
    "            q = v\n",
    "        else:\n",
    "            results[k] = v.copy()[:seqlen]\n",
    "    for i in range(seqlen):\n",
    "        if n_steps < max_steps:\n",
    "            for j in range(1, max_steps):\n",
    "                if results['discount'][i] == 1:\n",
    "                    cum_rew = results['reward'][i] + gamma**j * data['reward'][i+j]\n",
    "                    if j >= n_steps and cum_rew + gamma**(j+1) * q[i+j+1] * data['discount'][i+j+1] \\\n",
    "                        <= results['reward'][i] + gamma**j * q[i+j] * data['discount'][i+j]:\n",
    "                        print('break', i, j, cum_rew + gamma**(j+1) * q[i+j+1] * data['discount'][i+j+1], \\\n",
    "                            results['reward'][i] + gamma**j * q[i+j] * data['discount'][i+j])\n",
    "                        break\n",
    "                    results['reward'][i] = cum_rew\n",
    "                    results['next_obs'][i] = data['next_obs'][i+j]\n",
    "                    results['discount'][i] = data['discount'][i+j]\n",
    "                    results['steps'][i] += 1\n",
    "                else:\n",
    "                    break\n",
    "        else:\n",
    "            for j in range(1, n_steps):\n",
    "                if results['discount'][i]:\n",
    "                    results['reward'][i] = results['reward'][i] + gamma**j * data['reward'][i+j]\n",
    "                    results['next_obs'][i] = data['next_obs'][i+j]\n",
    "                    results['discount'][i] = data['discount'][i+j]\n",
    "                    results['steps'][i] += 1\n",
    "    return results\n",
    "\n",
    "def adjust_n_steps_envvec(data, seqlen, n_steps, max_steps, gamma):\n",
    "    # we do forward update since updating discount in a backward pass is problematic when max_steps > n_steps\n",
    "    results = {}\n",
    "    for k, v in data.items():\n",
    "        if k == 'q':\n",
    "            q = v\n",
    "        else:\n",
    "            results[k] = v.copy()[:, :seqlen]\n",
    "    obs_exp_dims = tuple(range(1, data['obs'].ndim))\n",
    "    for i in range(seqlen):\n",
    "        cond = np.ones_like(results['reward'][:, 0], dtype=bool)\n",
    "        if n_steps < max_steps:\n",
    "            for j in range(1, max_steps):\n",
    "                disc = results['discount'][:, i]\n",
    "                cum_rew = results['reward'][:, i] + gamma**j * data['reward'][:, i+j] * disc\n",
    "                cur_cond = disc == 1 if j < n_steps else np.logical_and(\n",
    "                    disc == 1, cum_rew + gamma**(j+1) * q[:, i+j+1] * data['discount'][:, i+j+1] \\\n",
    "                        > results['reward'][:, i] + gamma**j * q[:, i+j] * data['discount'][:, i+j]\n",
    "                )\n",
    "                cond = np.logical_and(cond, cur_cond)\n",
    "                results['reward'][:, i] = np.where(\n",
    "                    cond, cum_rew, results['reward'][:, i])\n",
    "                results['next_obs'][:, i] = np.where(\n",
    "                    np.expand_dims(cond, obs_exp_dims), data['next_obs'][:, i+j], results['next_obs'][:, i])\n",
    "                results['discount'][:, i] = np.where(\n",
    "                    cond, data['discount'][:, i+j], results['discount'][:, i])\n",
    "                results['steps'][:, i] += np.where(\n",
    "                    cond, np.ones_like(cond, dtype=np.uint8), np.zeros_like(cond, dtype=np.uint8))\n",
    "        else:\n",
    "            for j in range(1, n_steps):\n",
    "                disc = data['discount'][:, i]\n",
    "                cond = disc == 1\n",
    "                results['reward'][:, i] = np.where(\n",
    "                    cond, results['reward'][:, i] + gamma**j + data['reward'][: i+j] * disc, results['reward'][:, i])\n",
    "                results['next_obs'][:, i] = np.where(\n",
    "                    np.expand_dims(cond, obs_exp_dims), data['next_obs'][:, i+j], results['next_obs'][:, i])\n",
    "                results['discount'][:, i] = np.where(\n",
    "                    cond, data['discount'][:, i+j], results['discount'][:, i])\n",
    "                results['steps'][:, i] += np.where(\n",
    "                    cond, 1, 0)\n",
    "    return results\n",
    "\n",
    "data = {}\n",
    "seqlen = 10\n",
    "max_steps = 5\n",
    "n = seqlen+max_steps\n",
    "obs = np.random.randint(0, 256, size=(n+1, 4, 4, 3))\n",
    "data['obs'] = obs[:-1]\n",
    "data['next_obs'] = np.random.normal(obs[1:])\n",
    "data['reward'] = np.random.randint(0, 10, size=(n,)).astype(np.float32)\n",
    "data['q'] = np.random.randint(0, 20, size=(n,)).astype(np.float32)\n",
    "data['discount'] = np.ones((n,))\n",
    "data['discount'][7] = 0\n",
    "data['steps'] = np.ones((n,))\n",
    "res1 = adjust_n_steps(data, seqlen, 3, max_steps, .99)\n",
    "print(res1['steps'])\n",
    "exp_data = {}\n",
    "for k, v in data.items():\n",
    "    exp_data[k] = np.expand_dims(v, 0)\n",
    "res2 = adjust_n_steps_envvec(exp_data, seqlen, 3, max_steps, .99)\n",
    "print(res2['steps'][0])\n",
    "for k in res1.keys():\n",
    "    np.testing.assert_allclose(res1[k], res2[k][0], atol=1e-6, rtol=1e-6)"
   ]
  },
  {
   "cell_type": "code",
   "execution_count": 239,
   "metadata": {},
   "outputs": [
    {
     "data": {
      "text/plain": [
       "800000000"
      ]
     },
     "execution_count": 239,
     "metadata": {},
     "output_type": "execute_result"
    }
   ],
   "source": [
    "800_000_000"
   ]
  },
  {
   "cell_type": "code",
   "execution_count": 288,
   "metadata": {},
   "outputs": [
    {
     "name": "stdout",
     "output_type": "stream",
     "text": [
      "tf.Tensor(\n",
      "[0.5        0.5714286  0.64285713 0.71428573 0.78571427 0.85714287\n",
      " 0.9285714  1.         1.1049386  1.2208894  1.349008   1.490571\n",
      " 1.6469895  1.8198224  2.010792   2.2218018  2.4549546  2.7125742\n",
      " 2.9972281  3.3117535  3.659284   4.043285   4.4675813  4.9364033 ], shape=(24,), dtype=float32)\n",
      "temp tf.Tensor([3.659284  4.043285  4.4675813 4.9364033], shape=(4,), dtype=float32)\n",
      "max tf.Tensor(0.29400754, shape=(), dtype=float32)\n",
      "min tf.Tensor(0.003257714, shape=(), dtype=float32)\n"
     ]
    }
   ],
   "source": [
    "class A():\n",
    "    def __init__(self):\n",
    "        self.config = {\n",
    "            'act_temp': [.5, 1],\n",
    "            'n_lin_act_temp': 8,\n",
    "            'logits_coef': .5\n",
    "        }\n",
    "wid = 6\n",
    "n = wid - 1\n",
    "policy = A()\n",
    "logits = tf.random.uniform((4, 15), -10, 10)\n",
    "act_tmp = policy.config['act_temp']\n",
    "if isinstance(act_tmp, str):\n",
    "    act_tmp = eval(policy.config['act_temp'])\n",
    "min_tmp, int_tmp = act_tmp\n",
    "n_lin_tmp = policy.config['n_lin_act_temp']\n",
    "temps = np.linspace(min_tmp, int_tmp, n_lin_tmp, dtype=np.float32)\n",
    "temps = np.linspace(min_tmp, int_tmp, n_lin_tmp, dtype=np.float32)\n",
    "if n_lin_tmp < B * num_workers:\n",
    "    log_temps = tf.math.exp(tf.linspace(\n",
    "                np.log(int_tmp, dtype=np.float32), \n",
    "                tf.math.log(tf.reduce_max(logits) * policy.config['logits_coef']), \n",
    "                B * num_workers - n_lin_tmp + 1))[1:]\n",
    "    temps = tf.concat([temps, log_temps], axis=0)\n",
    "temp = temps[n*B:(n+1)*B]\n",
    "\n",
    "inv_temp = 1 / temp\n",
    "inv_temp = tf.expand_dims(inv_temp, axis=-1)\n",
    "print(temps)\n",
    "print('temp', temp)\n",
    "logits = logits * inv_temp\n",
    "prob = tf.nn.softmax(logits, axis=-1)\n",
    "print('max', tf.reduce_max(prob))\n",
    "print('min', tf.reduce_min(prob))"
   ]
  },
  {
   "cell_type": "code",
   "execution_count": 287,
   "metadata": {},
   "outputs": [
    {
     "name": "stdout",
     "output_type": "stream",
     "text": [
      "[2.62144000e-04 3.60540318e-04 4.95869908e-04 6.81995753e-04\n",
      " 9.37984337e-04 1.29005879e-03 1.77428515e-03 2.44026693e-03\n",
      " 3.35622641e-03 4.61599327e-03 6.34861634e-03 8.73158324e-03\n",
      " 1.20090019e-02 1.65166068e-02 2.27161510e-02 3.12427075e-02\n",
      " 4.29697255e-02 5.90985050e-02 8.12812570e-02 1.11790353e-01\n",
      " 1.53751104e-01 2.11461914e-01 2.90834602e-01 4.00000000e-01]\n",
      "[2.62144000e-04 3.60540318e-04 4.95869908e-04 6.81995753e-04\n",
      " 9.37984337e-04 1.29005879e-03 1.77428515e-03 2.44026693e-03\n",
      " 3.35622641e-03 4.61599327e-03 6.34861634e-03 8.73158324e-03\n",
      " 1.20090019e-02 1.65166068e-02 2.27161510e-02 3.12427075e-02\n",
      " 4.29697255e-02 5.90985050e-02 8.12812570e-02 1.11790353e-01\n",
      " 1.53751104e-01 2.11461914e-01 2.90834602e-01 4.00000000e-01]\n"
     ]
    }
   ],
   "source": [
    "def apex_epsilon_greedy(env_per_worker, n_workers, epsilon=.4, alpha=8):\n",
    "    # the 𝝐-greedy schedule used in Ape-X and Agent57\n",
    "    n_envs = n_workers * env_per_worker\n",
    "    env_ids = np.arange(n_envs)\n",
    "    epsilons = np.sort(epsilon ** (1 + env_ids / (n_envs - 1) * alpha))\n",
    "    return epsilons\n",
    "e1 = apex_epsilon_greedy(4, 6,)\n",
    "print(e1)\n",
    "e2 = np.logspace(np.log10(2.62144000e-04), np.log10(.4), 24)\n",
    "print(e2)\n",
    "np.testing.assert_allclose(e1, e2)"
   ]
  },
  {
   "cell_type": "code",
   "execution_count": 244,
   "metadata": {},
   "outputs": [
    {
     "name": "stdout",
     "output_type": "stream",
     "text": [
      "[0.99   0.9925 0.995 ]\n",
      "0 73.5174 65.34 True\n",
      "0 78.613821 72.5274 True\n",
      "0 74.03440573 77.653621 False\n",
      "1 80.4079 74.26 True\n",
      "1 75.772127 79.4279 False\n",
      "1 79.92589674999999 74.831827 True\n",
      "1 84.07822384239999 79.04470074999999 True\n",
      "2 76.51729999999999 80.21 False\n",
      "2 80.692825 75.54729999999999 True\n",
      "2 84.85679176 79.772425 True\n",
      "2 82.38188950309998 84.00529676 False\n",
      "3 80.46749999999999 75.27 True\n",
      "3 84.643224 79.5075 True\n",
      "3 82.10291869 83.742724 False\n",
      "4 83.4376 78.25 True\n",
      "4 80.831231 82.4876 False\n",
      "4 94.71858178 79.950631 True\n",
      "4 88.49912132349999 93.92648878 False\n",
      "5 78.56689999999999 80.24 False\n",
      "5 92.54402200000001 77.62689999999999 True\n",
      "5 86.20113265 91.683322 False\n",
      "6 89.37780000000001 74.31 True\n",
      "6 82.910235 88.4478 False\n",
      "6 92.09262367 82.069435 True\n",
      "6 101.27328349319998 91.35993266999999 True\n",
      "7 78.6265 84.22 False\n",
      "7 87.83093300000002 77.7065 True\n",
      "7 97.02351868 87.010033 True\n",
      "7 109.08684965289999 96.32052868 True\n",
      "8 82.57669999999999 72.35 True\n",
      "8 91.781332 81.66669999999999 True\n",
      "8 103.87560570999999 90.980332 True\n",
      "8 119.75338596229999 103.20231670999999 True\n",
      "9 85.54679999999999 75.33 True\n",
      "9 97.67232899999999 84.6468 True\n",
      "9 113.60948077 96.891229 True\n",
      "9 111.4001212737 112.96589277 False\n",
      "10 90.4771 77.32 True\n",
      "10 106.47422300000001 89.58709999999999 True\n",
      "10 104.13143563 105.713023 False\n",
      "11 98.34769999999999 81.29 True\n",
      "11 95.870137 97.4677 False\n",
      "11 116.74709872 95.128837 True\n",
      "11 119.4193331939 116.16291272 True\n",
      "12 86.6163 88.23 False\n",
      "12 107.58292800000001 85.74629999999999 True\n",
      "12 110.15084160999999 106.861528 True\n",
      "12 123.42893915399999 109.59635660999999 True\n",
      "13 97.4272 75.37 True\n",
      "13 99.88973899999999 96.5672 True\n",
      "13 113.1605446 99.18823900000001 True\n",
      "13 130.2915152638 112.6357606 True\n",
      "14 88.6361 85.28 True\n",
      "14 101.89954 87.7861 True\n",
      "14 119.05203562 101.21794 True\n",
      "14 142.86003167299998 118.55695262 True\n",
      "15 89.646 75.39 True\n",
      "15 106.82023799999999 88.806 True\n",
      "15 130.7071027 106.158538 True\n",
      "16 93.5962 75.4 True\n",
      "16 117.56273 92.7662 True\n",
      "17 103.42699999999999 78.38 True\n",
      "(20, 3)\n"
     ]
    }
   ],
   "source": [
    "def _adjust_nstep(n_step, gamma, obs, actions, rewards, new_obs, dones, q, max_step):\n",
    "    assert not any(dones[:-1]), \"Unexpected done in middle of trajectory\"\n",
    "\n",
    "    traj_length = len(rewards)\n",
    "    n = len(gamma)\n",
    "    rewards = np.tile(rewards, [n, 1]).transpose()\n",
    "    steps = np.ones_like(rewards)\n",
    "    print(gamma)\n",
    "    assert rewards.shape == (traj_length, n)\n",
    "    for i in range(traj_length):\n",
    "        if max_step:\n",
    "            for j in range(1, max_step):\n",
    "                if i + j < traj_length:\n",
    "                    cum_rew = rewards[i] + gamma**j * rewards[i + j]\n",
    "                    if i+j+1 < traj_length:\n",
    "                        print(i,\n",
    "                            cum_rew[0] + gamma[0]**(j+1) * q[i+j+1], \n",
    "                            rewards[i][0] + gamma[0]**j * q[i+j], \n",
    "                            cum_rew[0] + gamma[0]**(j+1) * q[i+j+1] > rewards[i][0] + gamma[0]**j * q[i+j])\n",
    "                    if j < n_step or (i+j+1 < traj_length \n",
    "                            and cum_rew[0] + gamma[0]**(j+1) * q[i+j+1] > rewards[i][0] + gamma[0]**j * q[i+j]):\n",
    "                        rewards[i] = cum_rew\n",
    "                    else:\n",
    "                        break\n",
    "                    new_obs[i] = new_obs[i+j]\n",
    "                    dones[i] = dones[i+j]\n",
    "                    steps[i] = j+1\n",
    "                else:\n",
    "                    break\n",
    "        else:\n",
    "            for j in range(1, n_step):\n",
    "                if i + j < traj_length:\n",
    "                    new_obs[i] = new_obs[i + j]\n",
    "                    dones[i] = dones[i + j]\n",
    "                    rewards[i] += gamma**j * rewards[i + j]\n",
    "                    steps[i] = j + 1\n",
    "\n",
    "    return steps, rewards\n",
    "\n",
    "n_step = 3\n",
    "gamma = np.linspace(.99, .995, 3)\n",
    "obs = np.zeros((20, 4))\n",
    "actions = np.zeros(20)\n",
    "rewards = np.arange(20)\n",
    "new_obs = np.zeros((20, 4))\n",
    "dones = np.zeros(20)\n",
    "q = np.arange(60, 80)\n",
    "np.random.shuffle(q)\n",
    "max_step = 5\n",
    "steps, rewards = _adjust_nstep(n_step, gamma, obs, actions, rewards, new_obs, dones, q, max_step)\n",
    "print(steps.shape)"
   ]
  },
  {
   "cell_type": "code",
   "execution_count": 100,
   "metadata": {},
   "outputs": [
    {
     "data": {
      "text/plain": [
       "array([[0.05      , 0.07333333, 0.09666667, 0.12      ],\n",
       "       [0.14333333, 0.16666667, 0.19      , 0.21333333],\n",
       "       [0.23666667, 0.26      , 0.28333333, 0.30666667],\n",
       "       [0.33      , 0.35333333, 0.37666667, 0.4       ]])"
      ]
     },
     "execution_count": 100,
     "metadata": {},
     "output_type": "execute_result"
    }
   ],
   "source": [
    "epsilons = np.linspace(.05, .4, (5-1) * 4).reshape(4, -1)\n",
    "# epsilon = epsilons[:, n-1]\n",
    "epsilons"
   ]
  },
  {
   "cell_type": "code",
   "execution_count": 85,
   "metadata": {},
   "outputs": [
    {
     "data": {
      "text/plain": [
       "<tf.Tensor: shape=(15,), dtype=float32, numpy=\n",
       "array([1.0000000e+00, 1.3894953e+07, 1.9306972e+14, 2.6826975e+21,\n",
       "       3.7275915e+28, 5.1794876e+35,           inf,           inf,\n",
       "                 inf,           inf,           inf,           inf,\n",
       "                 inf,           inf,           inf], dtype=float32)>"
      ]
     },
     "execution_count": 85,
     "metadata": {},
     "output_type": "execute_result"
    }
   ],
   "source": [
    "10.**tf.linspace(np.log10(int_tmp, dtype=np.float32), max_logits, B * num_workers - n_lin_tmp + 1)"
   ]
  },
  {
   "cell_type": "code",
   "execution_count": 73,
   "metadata": {},
   "outputs": [
    {
     "data": {
      "text/plain": [
       "<tf.Tensor: shape=(13,), dtype=float32, numpy=\n",
       "array([1.0000000e+00, 6.8129206e+00, 4.6415886e+01, 3.1622775e+02,\n",
       "       2.1544343e+03, 1.4677987e+04, 1.0000000e+05, 6.8129156e+05,\n",
       "       4.6415870e+06, 3.1622776e+07, 2.1544331e+08, 1.4677971e+09,\n",
       "       1.0000000e+10], dtype=float32)>"
      ]
     },
     "execution_count": 73,
     "metadata": {},
     "output_type": "execute_result"
    }
   ],
   "source": [
    "int_tmp=1\n",
    "max_logits = tf.Variable(10, trainable=False, dtype=tf.float32)\n",
    "10.**tf.linspace(np.log10(int_tmp, dtype=np.float32), max_logits, B * num_workers - n_lin_tmp + 1)"
   ]
  },
  {
   "cell_type": "code",
   "execution_count": 99,
   "metadata": {},
   "outputs": [
    {
     "data": {
      "text/plain": [
       "20"
      ]
     },
     "execution_count": 99,
     "metadata": {},
     "output_type": "execute_result"
    }
   ],
   "source": [
    "max_step = None\n",
    "traj_length = 20\n",
    "max_step or traj_length"
   ]
  },
  {
   "cell_type": "code",
   "execution_count": 137,
   "metadata": {},
   "outputs": [
    {
     "name": "stdout",
     "output_type": "stream",
     "text": [
      "35.6 µs ± 1.09 µs per loop (mean ± std. dev. of 7 runs, 10000 loops each)\n"
     ]
    }
   ],
   "source": [
    "%%timeit\n",
    "tf.squeeze(tf.random.categorical(x, 1))"
   ]
  },
  {
   "cell_type": "code",
   "execution_count": 93,
   "metadata": {},
   "outputs": [
    {
     "name": "stdout",
     "output_type": "stream",
     "text": [
      "0.6403124237432849\n"
     ]
    },
    {
     "data": {
      "text/plain": [
       "<tf.Tensor: shape=(), dtype=float32, numpy=0.64031243>"
      ]
     },
     "execution_count": 93,
     "metadata": {},
     "output_type": "execute_result"
    }
   ],
   "source": [
    "a = tf.constant([.5, .4])\n",
    "b = tf.constant([0., 0.])\n",
    "print((.5**2+.4**2)**.5)\n",
    "tf.norm(a-b)"
   ]
  },
  {
   "cell_type": "code",
   "execution_count": 50,
   "metadata": {},
   "outputs": [
    {
     "name": "stdout",
     "output_type": "stream",
     "text": [
      "{'model': {'custom_model_config': {'encoder': {'filters': [1, 1, 1], 'n': 1}}}}\n"
     ]
    }
   ],
   "source": [
    "target = dict(\n",
    "    model=dict(\n",
    "        custom_model_config=dict(\n",
    "            encoder=dict(\n",
    "                filters=[3, 2, 1],\n",
    "                n=1\n",
    "            )\n",
    "        )\n",
    "    )\n",
    ")\n",
    "source = dict(\n",
    "    model=dict(\n",
    "        custom_model_config=dict(\n",
    "            encoder=dict(\n",
    "                filters=[1, 1, 1],\n",
    "                n=1\n",
    "            )\n",
    "        )\n",
    "    )\n",
    ")\n",
    "def merge_dict(target, source):\n",
    "    for k, v in source.items():\n",
    "        if isinstance(target[k], dict):\n",
    "            assert isinstance(v, dict)\n",
    "            merge_dict(target[k], source[k])\n",
    "        else:\n",
    "            target[k] = v\n",
    "merge_dict(target, source)\n",
    "print(target)"
   ]
  },
  {
   "cell_type": "code",
   "execution_count": 92,
   "metadata": {},
   "outputs": [
    {
     "data": {
      "text/plain": [
       "<matplotlib.image.AxesImage at 0x7f9c3806acd0>"
      ]
     },
     "execution_count": 92,
     "metadata": {},
     "output_type": "execute_result"
    },
    {
     "data": {
      "image/png": "[encoded data removed]",
      "text/plain": [
       "<Figure size 432x288 with 1 Axes>"
      ]
     },
     "metadata": {
      "needs_background": "light"
     },
     "output_type": "display_data"
    }
   ],
   "source": [
    "import random\n",
    "import numpy as np\n",
    "import tensorflow as tf\n",
    "\n",
    "def apply_da(x):\n",
    "    pad = 4\n",
    "    h, w, c = x.shape\n",
    "    paddings = [[pad, pad], [pad, pad], [0, 0]]\n",
    "    x = np.pad(x, paddings, mode='edge')\n",
    "    sh = np.random.randint(0, 2*pad)\n",
    "    sw = np.random.randint(0, 2*pad)\n",
    "    x = x[sh:sh+h, sw:sw+w, :]\n",
    "    return x\n",
    "\n",
    "import matplotlib.pyplot as plt\n",
    "x = apply_da(obs)\n",
    "plt.imshow(x)"
   ]
  },
  {
   "cell_type": "code",
   "execution_count": 116,
   "metadata": {},
   "outputs": [
    {
     "data": {
      "text/plain": [
       "array([0.01      , 0.02695652, 0.04391304, 0.06086957, 0.07782609,\n",
       "       0.09478261, 0.11173913, 0.12869565, 0.14565217, 0.1626087 ,\n",
       "       0.17956522, 0.19652174, 0.21347826, 0.23043478, 0.2473913 ,\n",
       "       0.26434783, 0.28130435, 0.29826087, 0.31521739, 0.33217391,\n",
       "       0.34913043, 0.36608696, 0.38304348, 0.4       ])"
      ]
     },
     "execution_count": 116,
     "metadata": {},
     "output_type": "execute_result"
    }
   ],
   "source": [
    "epsilons = np.linspace(0.01, .4, m * B)\n",
    "epsilon = epsilons[n*B:(n+1)*B]\n",
    "epsilons"
   ]
  },
  {
   "cell_type": "code",
   "execution_count": 47,
   "metadata": {},
   "outputs": [
    {
     "name": "stdout",
     "output_type": "stream",
     "text": [
      "tf.Tensor(-0.108698756, shape=(), dtype=float32) tf.Tensor(0.9891395, shape=(), dtype=float32)\n"
     ]
    },
    {
     "data": {
      "text/plain": [
       "<tf.Tensor: shape=(50,), dtype=float32, numpy=\n",
       "array([-0.28186697,  0.8483434 ,  0.08353338,  0.81607485, -0.94028175,\n",
       "       -0.51400024, -0.40140545,  1.6839927 , -1.5812025 , -0.6928396 ,\n",
       "        0.31172827,  1.9175485 , -0.54670495,  1.5821981 ,  0.48406303,\n",
       "        0.712562  , -0.16271879, -0.00921027, -0.17081334, -0.34536922,\n",
       "       -0.7756538 ,  1.0517248 , -0.8912965 , -0.12052303, -1.3263113 ,\n",
       "       -2.0328372 , -0.03018278, -0.50669664,  0.40516868, -0.57453114,\n",
       "        0.5344831 , -2.2583141 ,  0.7508173 , -0.4116248 ,  0.9041305 ,\n",
       "       -0.6592518 ,  1.0733013 , -0.06597132, -1.3990381 , -1.9398024 ,\n",
       "       -0.4169602 ,  0.3204978 , -1.6257585 ,  2.4037998 , -1.2556072 ,\n",
       "       -1.5783515 ,  0.61870295,  0.07896592,  0.14175874, -0.89640796],\n",
       "      dtype=float32)>"
      ]
     },
     "execution_count": 47,
     "metadata": {},
     "output_type": "execute_result"
    }
   ],
   "source": [
    "class RunningMeanStd:\n",
    "    def __init__(self, shape=(), scale=1., clip=10., epsilon=1e-2):\n",
    "        self._sum = tf.Variable(np.zeros(shape), trainable=False, dtype=tf.float32, name='sum')\n",
    "        self._sumsq = tf.Variable(np.zeros(shape), trainable=False, dtype=tf.float32, name='sum_squares')\n",
    "        self._count = tf.Variable(np.zeros(shape), trainable=False, dtype=tf.float32, name='count')\n",
    "        self._scale = scale\n",
    "        self._clip = clip\n",
    "        self._epsilon = epsilon\n",
    "\n",
    "\n",
    "    def update(self, x):\n",
    "        self._sum.assign_add(tf.reduce_sum(x, axis=0))\n",
    "        self._sumsq.assign_add(tf.reduce_sum(x**2, axis=0))\n",
    "        self._count.assign_add(tf.cast(tf.shape(x)[0], self._count.dtype))\n",
    "\n",
    "    def normalize(self, x, subtract_mean=True):\n",
    "        mean = self._sum / self._count\n",
    "        std = tf.sqrt(tf.maximum(self._sumsq / self._count - mean**2, self._epsilon))\n",
    "        print(mean, std)\n",
    "        if subtract_mean:\n",
    "            x = x - mean\n",
    "        x = x / std\n",
    "        x = tf.clip_by_value(self._scale * x, -self._clip, self._clip)\n",
    "        return x\n",
    "\n",
    "x1 = tf.random.normal((50,))\n",
    "x2 = tf.random.normal((50,))\n",
    "rms = RunningMeanStd(clip=100)\n",
    "rms.update(x1)\n",
    "rms.update(x2)\n",
    "rms.normalize(x2)"
   ]
  },
  {
   "cell_type": "code",
   "execution_count": 49,
   "metadata": {},
   "outputs": [
    {
     "data": {
      "text/plain": [
       "nan"
      ]
     },
     "execution_count": 49,
     "metadata": {},
     "output_type": "execute_result"
    }
   ],
   "source": [
    "np.nan or 1"
   ]
  },
  {
   "cell_type": "code",
   "execution_count": 48,
   "metadata": {},
   "outputs": [
    {
     "name": "stdout",
     "output_type": "stream",
     "text": [
      "tf.Tensor(-0.108698756, shape=(), dtype=float32) tf.Tensor(0.98913956, shape=(), dtype=float32)\n"
     ]
    },
    {
     "data": {
      "text/plain": [
       "<tf.Tensor: shape=(50,), dtype=float32, numpy=\n",
       "array([-0.28186697,  0.8483433 ,  0.08353338,  0.8160748 , -0.9402817 ,\n",
       "       -0.51400024, -0.40140545,  1.6839926 , -1.5812024 , -0.69283956,\n",
       "        0.31172827,  1.9175484 , -0.5467049 ,  1.5821981 ,  0.484063  ,\n",
       "        0.71256196, -0.16271879, -0.00921027, -0.17081332, -0.3453692 ,\n",
       "       -0.7756537 ,  1.0517247 , -0.89129645, -0.12052302, -1.3263112 ,\n",
       "       -2.0328372 , -0.03018278, -0.5066966 ,  0.40516865, -0.5745311 ,\n",
       "        0.534483  , -2.2583141 ,  0.75081724, -0.4116248 ,  0.90413046,\n",
       "       -0.65925175,  1.0733012 , -0.06597131, -1.399038  , -1.9398023 ,\n",
       "       -0.41696018,  0.3204978 , -1.6257584 ,  2.4037998 , -1.2556072 ,\n",
       "       -1.5783514 ,  0.61870295,  0.07896592,  0.14175873, -0.8964079 ],\n",
       "      dtype=float32)>"
      ]
     },
     "execution_count": 48,
     "metadata": {},
     "output_type": "execute_result"
    }
   ],
   "source": [
    "x = tf.concat([x1, x2], axis=0)\n",
    "mean = tf.reduce_mean(x)\n",
    "std = tf.math.reduce_std(x)\n",
    "print(mean, std)\n",
    "(x2 - mean) / std"
   ]
  },
  {
   "cell_type": "code",
   "execution_count": 47,
   "metadata": {},
   "outputs": [
    {
     "name": "stdout",
     "output_type": "stream",
     "text": [
      "(2, 32, 32, 1)\n"
     ]
    }
   ],
   "source": [
    "import tensorflow as tf\n",
    "from tensorflow.keras.applications import imagenet_utils\n",
    "def correct_pad(inputs, kernel_size):\n",
    "    \"\"\"Returns a tuple for zero-padding for 2D convolution with downsampling.\n",
    "\n",
    "    Arguments:\n",
    "    inputs: Input tensor.\n",
    "    kernel_size: An integer or tuple/list of 2 integers.\n",
    "\n",
    "    Returns:\n",
    "    A tuple.\n",
    "    \"\"\"\n",
    "    input_size = x.shape[1:-1]\n",
    "    if isinstance(kernel_size, int):\n",
    "        kernel_size = (kernel_size, kernel_size)\n",
    "    adjust = (1 - input_size[0] % 2, 1 - input_size[1] % 2)\n",
    "    correct = (kernel_size[0] // 2, kernel_size[1] // 2)\n",
    "    return ((correct[0] - adjust[0], correct[0]),\n",
    "          (correct[1] - adjust[1], correct[1]))\n",
    "\n",
    "x = tf.random.normal((2, 64, 64, 3))\n",
    "f = tf.ones((3, 3, 3, 1))\n",
    "y = tf.nn.conv2d(x, f, strides=2, padding='SAME')\n",
    "print(y.shape)"
   ]
  },
  {
   "cell_type": "code",
   "execution_count": 71,
   "metadata": {},
   "outputs": [
    {
     "name": "stdout",
     "output_type": "stream",
     "text": [
      "conv2d: 0.07517433166503906\n",
      "dw: 0.03070998191833496\n",
      "12.5 ms ± 397 µs per loop (mean ± std. dev. of 7 runs, 100 loops each)\n",
      "14.2 ms ± 230 µs per loop (mean ± std. dev. of 7 runs, 100 loops each)\n"
     ]
    }
   ],
   "source": [
    "import tensorflow as tf\n",
    "import time\n",
    "x = tf.random.normal((64, 64, 64, 3))\n",
    "conv = tf.keras.layers.Conv2D(16, 3, strides=1, padding='same')\n",
    "dw = tf.keras.layers.DepthwiseConv2D(3, padding='same')\n",
    "start = time.time()\n",
    "conv(x)\n",
    "print('conv2d:', time.time() - start)    # approximate 0.0036s\n",
    "start = time.time()\n",
    "dw(x)\n",
    "print('dw:', time.time() - start)    # approximate 0.0034s\n",
    "%timeit conv(x)    # 1000 loops, best of 3: 225 µs per loop\n",
    "%timeit dw(x)    # 1000 loops, best of 3: 352 µs per loop"
   ]
  },
  {
   "cell_type": "code",
   "execution_count": 312,
   "metadata": {
    "scrolled": true
   },
   "outputs": [
    {
     "data": {
      "text/plain": [
       "1"
      ]
     },
     "execution_count": 312,
     "metadata": {},
     "output_type": "execute_result"
    }
   ],
   "source": [
    "len({'a': 2})"
   ]
  },
  {
   "cell_type": "code",
   "execution_count": 7,
   "metadata": {},
   "outputs": [],
   "source": [
    "import matplotlib\n",
    "%matplotlib inline\n",
    "matplotlib.use('TkAgg')"
   ]
  },
  {
   "cell_type": "code",
   "execution_count": 9,
   "metadata": {
    "scrolled": true
   },
   "outputs": [],
   "source": [
    "x = np.arange(10)\n",
    "y1 = np.arange(10)\n",
    "y2 = np.arange(10)**.9\n",
    "\n",
    "sns.set(style=\"whitegrid\", font_scale=1.5)\n",
    "sns.set_palette('Set2') # or husl\n",
    "x = np.concatenate([x, x], axis=0)\n",
    "y = np.concatenate([y1, y2], axis=0)\n",
    "tag = ['y1' for _ in y1] + ['y2' for _ in y2]\n",
    "fig = plt.figure(figsize=(10, 10))\n",
    "ax = fig.add_subplot(1, 1, 1)\n",
    "df = {'x': x, 'y': y, 'tag': tag}\n",
    "df = pd.DataFrame.from_dict(df)\n",
    "sns.lineplot(x=x, y=y, ax=ax, hue=tag)\n",
    "ax.grid(True, alpha=0.8, linestyle=':')\n",
    "ax.legend(loc='best').set_draggable(True)\n",
    "ax.spines['top'].set_visible(False)\n",
    "ax.spines['right'].set_visible(False)\n",
    "fig.show()"
   ]
  },
  {
   "cell_type": "code",
   "execution_count": 147,
   "metadata": {},
   "outputs": [],
   "source": [
    "from env.func import create_env\n",
    "env = create_env({'name':'procgen_fruitbot'})"
   ]
  },
  {
   "cell_type": "code",
   "execution_count": 153,
   "metadata": {},
   "outputs": [
    {
     "data": {
      "text/plain": [
       "<tf.Tensor: shape=(), dtype=float32, numpy=0.8888889>"
      ]
     },
     "execution_count": 153,
     "metadata": {},
     "output_type": "execute_result"
    }
   ],
   "source": [
    "from utility.schedule import TFPiecewiseSchedule\n",
    "lr = TFPiecewiseSchedule([(10, 1), (100, 0)])\n",
    "step = tf.convert_to_tensor(20)\n",
    "lr(step)"
   ]
  },
  {
   "cell_type": "code",
   "execution_count": 165,
   "metadata": {},
   "outputs": [
    {
     "data": {
      "text/plain": [
       "<tf.Tensor: shape=(), dtype=float32, numpy=0.5>"
      ]
     },
     "execution_count": 165,
     "metadata": {},
     "output_type": "execute_result"
    }
   ],
   "source": [
    "lr = tf.keras.optimizers.schedules.PiecewiseConstantDecay([10, 100], [1, .5, 0])\n",
    "step = tf.convert_to_tensor(20)\n",
    "lr(step)"
   ]
  },
  {
   "cell_type": "code",
   "execution_count": 148,
   "metadata": {},
   "outputs": [
    {
     "data": {
      "text/plain": [
       "<matplotlib.image.AxesImage at 0x7fd6cd78ffd0>"
      ]
     },
     "execution_count": 148,
     "metadata": {},
     "output_type": "execute_result"
    },
    {
     "data": {
      "image/png": "[encoded data removed]",
      "text/plain": [
       "<Figure size 432x288 with 1 Axes>"
      ]
     },
     "metadata": {
      "needs_background": "light"
     },
     "output_type": "display_data"
    }
   ],
   "source": [
    "import matplotlib.pyplot as plt\n",
    "obs = env.reset().obs\n",
    "plt.imshow(obs)"
   ]
  },
  {
   "cell_type": "code",
   "execution_count": 60,
   "metadata": {},
   "outputs": [],
   "source": [
    "import tensorflow as tf\n",
    "u = 5\n",
    "x0 = tf.reshape(tf.range(2*u,dtype=tf.float32), (2, u))\n",
    "x1 = tf.reshape(tf.range(2*u,dtype=tf.float32), (2, u))\n",
    "x0 = tf.random.shuffle(x0*.3)\n",
    "x1 = tf.random.shuffle(x1*.3)\n",
    "l = tf.keras.layers.Dense(u, kernel_initializer=tf.keras.initializers.constant(.3), use_bias=False)\n",
    "l1 = tf.keras.layers.Dense(u, kernel_initializer=tf.keras.initializers.constant(.3), use_bias=False)\n",
    "l2 = tf.keras.layers.Dense(u, kernel_initializer=tf.keras.initializers.constant(.3), use_bias=False)"
   ]
  },
  {
   "cell_type": "code",
   "execution_count": 64,
   "metadata": {},
   "outputs": [],
   "source": [
    "x = tf.random.normal((64, 32, 32, 32))"
   ]
  },
  {
   "cell_type": "code",
   "execution_count": 75,
   "metadata": {},
   "outputs": [
    {
     "name": "stdout",
     "output_type": "stream",
     "text": [
      "871 µs ± 54 µs per loop (mean ± std. dev. of 7 runs, 1000 loops each)\n"
     ]
    }
   ],
   "source": [
    "%%timeit\n",
    "y = tf.reduce_mean(x, [1, 2])\n",
    "tf.reshape(y, ([y.shape[0], 1, 1, y.shape[-1]]))"
   ]
  },
  {
   "cell_type": "code",
   "execution_count": 2,
   "metadata": {},
   "outputs": [
    {
     "name": "stderr",
     "output_type": "stream",
     "text": [
      "2020-10-06 09:26:27,293\tINFO resource_spec.py:204 -- Starting Ray with 3.86 GiB memory available for workers and up to 1.94 GiB for objects. You can adjust these settings with ray.init(memory=<bytes>, object_store_memory=<bytes>).\n",
      "2020-10-06 09:26:27,526\tWARNING services.py:923 -- Redis failed to start, retrying now.\n",
      "2020-10-06 09:26:27,814\tINFO services.py:1163 -- View the Ray dashboard at \u001b[1m\u001b[32mlocalhost:8265\u001b[39m\u001b[22m\n"
     ]
    },
    {
     "name": "stdout",
     "output_type": "stream",
     "text": [
      "\u001b[2m\u001b[36m(pid=70048)\u001b[0m 2020-10-06 09:26:32.248018: I tensorflow/core/platform/cpu_feature_guard.cc:143] Your CPU supports instructions that this TensorFlow binary was not compiled to use: AVX2 FMA\n",
      "\u001b[2m\u001b[36m(pid=70048)\u001b[0m 2020-10-06 09:26:32.269030: I tensorflow/compiler/xla/service/service.cc:168] XLA service 0x7f93453155b0 initialized for platform Host (this does not guarantee that XLA will be used). Devices:\n",
      "\u001b[2m\u001b[36m(pid=70048)\u001b[0m 2020-10-06 09:26:32.269424: I tensorflow/compiler/xla/service/service.cc:176]   StreamExecutor device (0): Host, Default Version\n",
      "\u001b[2m\u001b[36m(pid=70048)\u001b[0m 2020-10-06 09:26:32.341461: W tensorflow/python/util/util.cc:329] Sets are not currently considered sequences, but this may change in the future, so consider avoiding using them.\n"
     ]
    }
   ],
   "source": [
    "import tensorflow as tf\n",
    "from tensorflow.keras import layers\n",
    "import ray\n",
    "if not ray.is_initialized():\n",
    "    ray.init()\n",
    "\n",
    "class CNN(tf.Module):\n",
    "    def __init__(self):\n",
    "        self._layers = [\n",
    "            layers.Conv2D(16, 3, 2, padding='same'),\n",
    "            layers.Conv2D(32, 3, 2, padding='same'),\n",
    "            layers.Conv2D(32, 3, 2, padding='same'),\n",
    "            layers.Flatten(),\n",
    "            layers.Dense(512),\n",
    "            layers.Dense(1)\n",
    "        ]\n",
    "    def __call__(self, x):\n",
    "        for l in self._layers:\n",
    "            x = l(x)\n",
    "        return x\n",
    "\n",
    "    def get_weights(self):\n",
    "        return [v.numpy() for v in self.variables]\n",
    "\n",
    "    def set_weights(self, weights):\n",
    "        [v.assign(w) for v, w in zip(self.variables, weights)]\n",
    "\n",
    "class Model:\n",
    "    def __init__(self):\n",
    "        self.net = CNN()\n",
    "        x = tf.random.normal((1, 64, 64, 3))\n",
    "        self.net(x)\n",
    "    \n",
    "    def get_weights(self):\n",
    "        return self.net.get_weights()\n",
    "    \n",
    "    def set_weights(self, t):\n",
    "        w = t.get_weights()\n",
    "        self.net.set_weights(w)\n",
    "\n",
    "\n",
    "m = Model()       # regard this as the local learner\n",
    "RemoteModel = ray.remote(Model)\n",
    "rm = RemoteModel.remote()   # regard this as a remote worker\n",
    "ray.get(rm.set_weights.remote(m))\n",
    "ws1 = m.get_weights()\n",
    "ws2 = ray.get(rm.get_weights.remote())\n",
    "for w1, w2 in zip(ws1, ws2):\n",
    "    np.testing.assert_allclose(w1, w2)"
   ]
  },
  {
   "cell_type": "code",
   "execution_count": 27,
   "metadata": {},
   "outputs": [
    {
     "name": "stdout",
     "output_type": "stream",
     "text": [
      "\u001b[2m\u001b[36m(pid=69447)\u001b[0m 2020-10-06 09:21:10.717521: I tensorflow/core/platform/cpu_feature_guard.cc:143] Your CPU supports instructions that this TensorFlow binary was not compiled to use: AVX2 FMA\n",
      "\u001b[2m\u001b[36m(pid=69447)\u001b[0m 2020-10-06 09:21:10.733471: I tensorflow/compiler/xla/service/service.cc:168] XLA service 0x7ff28e98a0e0 initialized for platform Host (this does not guarantee that XLA will be used). Devices:\n",
      "\u001b[2m\u001b[36m(pid=69447)\u001b[0m 2020-10-06 09:21:10.733537: I tensorflow/compiler/xla/service/service.cc:176]   StreamExecutor device (0): Host, Default Version\n",
      "\u001b[2m\u001b[36m(pid=69447)\u001b[0m 2020-10-06 09:21:10.789411: W tensorflow/python/util/util.cc:329] Sets are not currently considered sequences, but this may change in the future, so consider avoiding using them.\n"
     ]
    }
   ],
   "source": [
    "import tensorflow as tf\n",
    "from tensorflow.keras import layers\n",
    "import ray\n",
    "if not ray.is_initialized():\n",
    "    ray.init()\n",
    "\n",
    "class CNN(tf.Module):\n",
    "    def __init__(self):\n",
    "        self._layers = [\n",
    "            layers.Conv2D(16, 3, 2, padding='same'),\n",
    "            layers.Conv2D(32, 3, 2, padding='same'),\n",
    "            layers.Conv2D(32, 3, 2, padding='same'),\n",
    "            layers.Flatten(),\n",
    "            layers.Dense(512),\n",
    "            layers.Dense(1)\n",
    "        ]\n",
    "    def __call__(self, x):\n",
    "        for l in self._layers:\n",
    "            x = l(x)\n",
    "        return x\n",
    "\n",
    "    def get_weights(self):\n",
    "        return [v.numpy() for v in self.variables]\n",
    "\n",
    "    def set_weights(self, weights):\n",
    "        [v.assign(w) for v, w in zip(self.variables, weights)]\n",
    "\n",
    "class Model:\n",
    "    def __init__(self):\n",
    "        self.net = CNN()\n",
    "        x = tf.random.normal((1, 64, 64, 3))\n",
    "        self.net(x)\n",
    "    \n",
    "    def get_weights(self):\n",
    "        return self.net.get_weights()\n",
    "    \n",
    "    def set_weights(self, t):\n",
    "        w = t.get_weights()\n",
    "        self.net.set_weights(w)\n",
    "\n",
    "\n",
    "m = Model()       # regard this as the local learner\n",
    "RemoteModel = ray.remote(Model)\n",
    "rm = RemoteModel.remote()   # regard this as a remote worker\n",
    "ray.get(rm.set_weights.remote(m))\n",
    "ws1 = m.get_weights()\n",
    "ws2 = ray.get(rm.get_weights.remote())\n",
    "for w1, w2 in zip(ws1, ws2):\n",
    "    np.testing.assert_allclose(w1, w2)"
   ]
  },
  {
   "cell_type": "code",
   "execution_count": 28,
   "metadata": {},
   "outputs": [
    {
     "ename": "NameError",
     "evalue": "name 'x0' is not defined",
     "output_type": "error",
     "traceback": [
      "\u001b[0;31m---------------------------------------------------------------------------\u001b[0m",
      "\u001b[0;31mNameError\u001b[0m                                 Traceback (most recent call last)",
      "\u001b[0;32m<ipython-input-28-1b2edf921e87>\u001b[0m in \u001b[0;36m<module>\u001b[0;34m\u001b[0m\n\u001b[1;32m      1\u001b[0m \u001b[0;31m# %%timeit\u001b[0m\u001b[0;34m\u001b[0m\u001b[0;34m\u001b[0m\u001b[0;34m\u001b[0m\u001b[0m\n\u001b[0;32m----> 2\u001b[0;31m \u001b[0mxs0\u001b[0m \u001b[0;34m=\u001b[0m \u001b[0mtf\u001b[0m\u001b[0;34m.\u001b[0m\u001b[0mreduce_sum\u001b[0m\u001b[0;34m(\u001b[0m\u001b[0mx0\u001b[0m\u001b[0;34m,\u001b[0m \u001b[0;34m-\u001b[0m\u001b[0;36m1\u001b[0m\u001b[0;34m)\u001b[0m\u001b[0;34m\u001b[0m\u001b[0;34m\u001b[0m\u001b[0m\n\u001b[0m\u001b[1;32m      3\u001b[0m \u001b[0mxs1\u001b[0m \u001b[0;34m=\u001b[0m \u001b[0mtf\u001b[0m\u001b[0;34m.\u001b[0m\u001b[0mreduce_sum\u001b[0m\u001b[0;34m(\u001b[0m\u001b[0mx1\u001b[0m\u001b[0;34m,\u001b[0m \u001b[0;34m-\u001b[0m\u001b[0;36m1\u001b[0m\u001b[0;34m)\u001b[0m\u001b[0;34m\u001b[0m\u001b[0;34m\u001b[0m\u001b[0m\n\u001b[1;32m      4\u001b[0m \u001b[0mprint\u001b[0m\u001b[0;34m(\u001b[0m\u001b[0mxs0\u001b[0m\u001b[0;34m[\u001b[0m\u001b[0;34m:\u001b[0m\u001b[0;36m5\u001b[0m\u001b[0;34m]\u001b[0m\u001b[0;34m,\u001b[0m \u001b[0mxs1\u001b[0m\u001b[0;34m[\u001b[0m\u001b[0;34m:\u001b[0m\u001b[0;36m5\u001b[0m\u001b[0;34m]\u001b[0m\u001b[0;34m,\u001b[0m \u001b[0mxs0\u001b[0m\u001b[0;34m[\u001b[0m\u001b[0;34m:\u001b[0m\u001b[0;36m5\u001b[0m\u001b[0;34m]\u001b[0m\u001b[0;34m+\u001b[0m\u001b[0mxs1\u001b[0m\u001b[0;34m[\u001b[0m\u001b[0;34m:\u001b[0m\u001b[0;36m5\u001b[0m\u001b[0;34m]\u001b[0m\u001b[0;34m,\u001b[0m \u001b[0msep\u001b[0m\u001b[0;34m=\u001b[0m\u001b[0;34m'\\n'\u001b[0m\u001b[0;34m)\u001b[0m\u001b[0;34m\u001b[0m\u001b[0;34m\u001b[0m\u001b[0m\n\u001b[1;32m      5\u001b[0m \u001b[0my0\u001b[0m \u001b[0;34m=\u001b[0m \u001b[0ml1\u001b[0m\u001b[0;34m(\u001b[0m\u001b[0mx0\u001b[0m\u001b[0;34m)\u001b[0m\u001b[0;34m\u001b[0m\u001b[0;34m\u001b[0m\u001b[0m\n",
      "\u001b[0;31mNameError\u001b[0m: name 'x0' is not defined"
     ]
    }
   ],
   "source": [
    "# %%timeit\n",
    "xs0 = tf.reduce_sum(x0, -1)\n",
    "xs1 = tf.reduce_sum(x1, -1)\n",
    "print(xs0[:5], xs1[:5], xs0[:5]+xs1[:5], sep='\\n')\n",
    "y0 = l1(x0)\n",
    "y1 = l2(x1)\n",
    "print((y0 + y1)[:5, 0])\n",
    "# print(l1.variables)\n",
    "# print(l2.variables)"
   ]
  },
  {
   "cell_type": "code",
   "execution_count": 63,
   "metadata": {},
   "outputs": [
    {
     "data": {
      "text/plain": [
       "5.0"
      ]
     },
     "execution_count": 63,
     "metadata": {},
     "output_type": "execute_result"
    }
   ],
   "source": [
    "np.log2(32)"
   ]
  },
  {
   "cell_type": "code",
   "execution_count": 247,
   "metadata": {
    "scrolled": true
   },
   "outputs": [],
   "source": [
    "tf.random.set_seed(0)\n",
    "shape = (5, 2*2, 2, 3)\n",
    "a = tf.random.normal(shape)\n",
    "b = tf.random.normal(shape)\n",
    "v = tf.random.normal(shape)"
   ]
  },
  {
   "cell_type": "code",
   "execution_count": 252,
   "metadata": {},
   "outputs": [
    {
     "name": "stdout",
     "output_type": "stream",
     "text": [
      "tf.Tensor(\n",
      "[[ 1.9171882  -2.6141732  -3.0143652   3.073635  ]\n",
      " [-0.30795598  1.2741388  -0.6916716   1.7253525 ]], shape=(2, 4), dtype=float32)\n",
      "tf.Tensor(\n",
      "[[0.2382881  0.00256541 0.00171932 0.75742716]\n",
      " [0.07049312 0.3429587  0.04802874 0.5385195 ]], shape=(2, 4), dtype=float32)\n"
     ]
    },
    {
     "data": {
      "text/plain": [
       "<tf.Tensor: shape=(2, 3), dtype=float32, numpy=\n",
       "array([[-0.40805963,  0.03214235,  0.15788347],\n",
       "       [ 0.2589882 , -0.9299773 , -0.66830754]], dtype=float32)>"
      ]
     },
     "execution_count": 252,
     "metadata": {},
     "output_type": "execute_result"
    }
   ],
   "source": [
    "# %%timeit\n",
    "c = tf.transpose(a, [0, 2, 1, 3])\n",
    "d = tf.transpose(b, [0, 2, 1, 3])\n",
    "w = tf.transpose(v, [0, 2, 1, 3])\n",
    "e = tf.matmul(c, d, transpose_b=True)\n",
    "print(e[0, :, 0])\n",
    "e = tf.nn.softmax(e)\n",
    "print(e[0, :, 0])\n",
    "e = tf.matmul(e, w)\n",
    "e = tf.transpose(e, [0, 2, 1, 3])\n",
    "e[0, 0]"
   ]
  },
  {
   "cell_type": "code",
   "execution_count": 279,
   "metadata": {
    "scrolled": true
   },
   "outputs": [
    {
     "data": {
      "text/plain": [
       "<tf.Variable 'UnreadVariable' shape=() dtype=int64, numpy=1>"
      ]
     },
     "execution_count": 279,
     "metadata": {},
     "output_type": "execute_result"
    }
   ],
   "source": [
    "x = tf.random.normal((2, 3))\n",
    "l = layers.Dense(2)\n",
    "with tf.GradientTape() as tape:\n",
    "    y = l(x)\n",
    "    loss = tf.reduce_mean((y-1)**2)\n",
    "g = tape.gradient(loss, l.variables)\n",
    "opt = tf.keras.optimizers.Adam(1e-3)\n",
    "opt.apply_gradients(zip(g, l.variables))"
   ]
  },
  {
   "cell_type": "code",
   "execution_count": 281,
   "metadata": {},
   "outputs": [
    {
     "data": {
      "text/plain": [
       "{'name': 'Adam',\n",
       " 'learning_rate': 0.001,\n",
       " 'decay': 0.0,\n",
       " 'beta_1': 0.9,\n",
       " 'beta_2': 0.999,\n",
       " 'epsilon': 1e-07,\n",
       " 'amsgrad': False}"
      ]
     },
     "execution_count": 281,
     "metadata": {},
     "output_type": "execute_result"
    }
   ],
   "source": [
    "env = create_env()"
   ]
  },
  {
   "cell_type": "code",
   "execution_count": 212,
   "metadata": {},
   "outputs": [
    {
     "name": "stdout",
     "output_type": "stream",
     "text": [
      "7.16 ms ± 896 µs per loop (mean ± std. dev. of 7 runs, 100 loops each)\n"
     ]
    }
   ],
   "source": [
    "%%timeit\n",
    "l1(x)\n",
    "l2(x)\n",
    "l3(x)"
   ]
  },
  {
   "cell_type": "code",
   "execution_count": 58,
   "metadata": {
    "scrolled": true
   },
   "outputs": [],
   "source": [
    "import tensorflow as tf\n",
    "from tensorflow.keras import layers\n",
    "\n",
    "fs = 3\n",
    "x_32 = tf.random.normal((64, 32, 32, 32))\n",
    "x_64 = tf.random.normal((64, 32, 32, 64))\n",
    "l32_32 = layers.Conv2D(32, fs, padding='same')\n",
    "l32_64 = layers.Conv2D(64, fs, padding='same')\n",
    "l64_64 = layers.Conv2D(64, fs, padding='same')\n",
    "l64_32 = layers.Conv2D(32, fs, padding='same')"
   ]
  },
  {
   "cell_type": "code",
   "execution_count": 59,
   "metadata": {},
   "outputs": [
    {
     "name": "stdout",
     "output_type": "stream",
     "text": [
      "8 ms ± 312 µs per loop (mean ± std. dev. of 7 runs, 100 loops each)\n"
     ]
    }
   ],
   "source": [
    "%%timeit\n",
    "l32_32(x_32)"
   ]
  },
  {
   "cell_type": "code",
   "execution_count": 60,
   "metadata": {},
   "outputs": [
    {
     "name": "stdout",
     "output_type": "stream",
     "text": [
      "23.1 ms ± 2.46 ms per loop (mean ± std. dev. of 7 runs, 10 loops each)\n"
     ]
    }
   ],
   "source": [
    "%%timeit\n",
    "l64_64(x_64)"
   ]
  },
  {
   "cell_type": "code",
   "execution_count": 61,
   "metadata": {},
   "outputs": [
    {
     "name": "stdout",
     "output_type": "stream",
     "text": [
      "15.7 ms ± 1.64 ms per loop (mean ± std. dev. of 7 runs, 10 loops each)\n"
     ]
    }
   ],
   "source": [
    "%%timeit\n",
    "l32_64(x_32)"
   ]
  },
  {
   "cell_type": "code",
   "execution_count": 62,
   "metadata": {},
   "outputs": [
    {
     "name": "stdout",
     "output_type": "stream",
     "text": [
      "11.2 ms ± 249 µs per loop (mean ± std. dev. of 7 runs, 100 loops each)\n"
     ]
    }
   ],
   "source": [
    "%%timeit\n",
    "l64_32(x_64)"
   ]
  },
  {
   "cell_type": "code",
   "execution_count": 90,
   "metadata": {
    "scrolled": true
   },
   "outputs": [
    {
     "data": {
      "text/plain": [
       "<tf.Tensor: shape=(2, 4, 4, 32), dtype=float32, numpy=\n",
       "array([[[[ 1.32528090e+00,  2.73560852e-01, -1.78197220e-01, ...,\n",
       "           1.18587241e-02,  1.28796554e+00, -2.04672262e-01],\n",
       "         [ 7.11216033e-01,  1.05891228e+00, -2.66307265e-01, ...,\n",
       "           1.40329286e-01,  1.12847112e-01, -2.42907763e-01],\n",
       "         [-2.84346014e-01, -6.01930767e-02,  1.74544886e-01, ...,\n",
       "          -7.81291351e-02, -1.13903977e-01, -1.40023716e-02],\n",
       "         [ 6.47567034e-01, -2.16924876e-01,  1.59592792e-01, ...,\n",
       "           8.57557714e-01, -1.79159418e-01, -1.61195859e-01]],\n",
       "\n",
       "        [[-2.55698144e-01, -1.06455423e-01, -7.17366068e-03, ...,\n",
       "           3.86843294e-01, -2.21828789e-01, -7.41114095e-02],\n",
       "         [ 9.68240380e-01,  1.30160224e+00, -2.98003584e-01, ...,\n",
       "           8.61036658e-01, -1.02161631e-01, -1.20031193e-01],\n",
       "         [-2.97979116e-01,  3.18839729e-01,  4.93105054e-01, ...,\n",
       "           5.36277771e-01,  3.34502548e-01, -2.38954067e-01],\n",
       "         [ 1.38202578e-01,  7.85326362e-02,  1.05311148e-01, ...,\n",
       "           1.39948919e-01,  1.61815375e-01, -2.28574529e-01]],\n",
       "\n",
       "        [[-1.39191344e-01,  2.30661839e-01, -1.22102425e-02, ...,\n",
       "           1.17834854e+00,  8.10433269e-01,  6.18389368e-01],\n",
       "         [ 1.02596983e-01,  1.18002641e+00,  1.06560051e+00, ...,\n",
       "          -7.94968102e-03, -1.36532327e-02,  5.69353640e-01],\n",
       "         [ 1.12396419e+00,  1.57699573e+00, -1.46890238e-01, ...,\n",
       "          -2.06644669e-01,  5.09178698e-01, -2.28345901e-01],\n",
       "         [ 8.69637370e-01, -1.08913518e-01, -1.42340571e-01, ...,\n",
       "           1.10207088e-01,  5.10643959e-01,  2.04006001e-01]],\n",
       "\n",
       "        [[ 1.40447512e-01, -1.70576185e-01,  1.23831618e+00, ...,\n",
       "          -2.27250710e-01, -6.17528521e-02,  7.98388183e-01],\n",
       "         [ 6.17156744e-01,  8.59150171e-01,  6.33752465e-01, ...,\n",
       "          -4.73113470e-02, -2.32300013e-01,  3.06601465e-01],\n",
       "         [-1.61356643e-01,  1.78341222e+00, -1.43870190e-01, ...,\n",
       "          -1.39322057e-01, -3.83666344e-02, -1.06739335e-01],\n",
       "         [ 3.29642147e-01, -2.43452460e-01, -2.93699503e-01, ...,\n",
       "          -2.42127791e-01,  4.65780616e-01,  3.29406232e-01]]],\n",
       "\n",
       "\n",
       "       [[[-5.95476925e-02, -1.70515627e-01,  3.17992926e+00, ...,\n",
       "           6.80373907e-02,  2.53831834e-01,  1.09883510e-01],\n",
       "         [-2.71016777e-01, -2.67455608e-01,  4.99820448e-02, ...,\n",
       "           2.53394525e-02,  6.37687922e-01,  4.10680801e-01],\n",
       "         [-2.25909531e-01,  1.34141117e-01, -2.70355284e-01, ...,\n",
       "          -8.07222873e-02,  2.27338338e+00,  4.73217666e-01],\n",
       "         [ 1.56962430e+00,  6.78516448e-01,  2.48086661e-01, ...,\n",
       "           1.71516728e+00, -2.30559275e-01, -2.45257035e-01]],\n",
       "\n",
       "        [[ 1.70923829e+00,  7.13823080e-01,  1.21889912e-01, ...,\n",
       "           7.13276446e-01,  1.21902156e+00, -2.45237589e-01],\n",
       "         [ 2.31411710e-01, -2.10933059e-01,  3.84774357e-01, ...,\n",
       "          -2.50896931e-01, -2.47559041e-01,  9.28259313e-01],\n",
       "         [-2.69429922e-01,  1.15513980e+00,  3.15692246e-01, ...,\n",
       "           2.34281018e-01, -1.57425702e-01, -2.50875384e-01],\n",
       "         [ 2.27981195e-01,  1.40349925e+00, -4.88364361e-02, ...,\n",
       "           3.34610760e-01, -7.23930225e-02,  8.77307594e-01]],\n",
       "\n",
       "        [[ 2.32967749e-01,  9.04049631e-03, -2.21309423e-01, ...,\n",
       "          -9.92533416e-02, -2.21245483e-01, -2.48378918e-01],\n",
       "         [ 6.79050565e-01,  1.35362220e+00, -1.52890339e-01, ...,\n",
       "          -2.37812996e-01,  4.24923077e-02,  5.55531025e-01],\n",
       "         [-2.71125019e-01,  4.51287329e-01,  2.08900169e-01, ...,\n",
       "          -1.82156548e-01, -2.45403424e-01, -4.07756828e-02],\n",
       "         [ 4.27196622e-01,  3.70447397e-01,  1.72264338e-01, ...,\n",
       "          -2.47957975e-01, -2.49019220e-01,  2.93178717e-03]],\n",
       "\n",
       "        [[-2.59151757e-01,  6.29671574e-01,  4.98573989e-01, ...,\n",
       "          -2.50659257e-01,  7.73239493e-01,  1.16156392e-01],\n",
       "         [ 1.59206879e+00, -1.35904700e-01,  2.66332924e-01, ...,\n",
       "           1.59426928e-01,  1.27333673e-02, -2.48955280e-01],\n",
       "         [ 4.56560373e-01, -2.56593138e-01,  2.96878844e-01, ...,\n",
       "           4.82408375e-01, -1.43589973e-01, -2.10650489e-01],\n",
       "         [ 1.92583293e-01, -2.62080282e-01,  1.90699279e+00, ...,\n",
       "           1.26686782e-01, -2.07711697e-01, -2.25296244e-01]]]],\n",
       "      dtype=float32)>"
      ]
     },
     "execution_count": 90,
     "metadata": {},
     "output_type": "execute_result"
    }
   ],
   "source": [
    "MOVING_AVERAGE_DECAY = 0.9\n",
    "EPSILON = 1e-5\n",
    "\n",
    "LAYER_BN_RELU = 'bn_relu'\n",
    "LAYER_EVONORM_B0 = 'evonorm_b0'\n",
    "LAYER_EVONORM_S0 = 'evonorm_s0'\n",
    "LAYER_EVONORMS = [\n",
    "    LAYER_EVONORM_B0,\n",
    "    LAYER_EVONORM_S0,\n",
    "]\n",
    "# tf = tf.compat.v1\n",
    "def _instance_std(inputs,\n",
    "                  epsilon=EPSILON,\n",
    "                  data_format='channels_first'):\n",
    "    \"\"\"Instance standard deviation.\"\"\"\n",
    "    axes = [1, 2] if data_format == 'channels_last' else [2, 3]\n",
    "    _, variance = tf.nn.moments(inputs, axes=axes, keepdims=True)\n",
    "    return tf.sqrt(variance + epsilon)\n",
    "\n",
    "\n",
    "def _batch_std(inputs,\n",
    "               training,\n",
    "               decay=MOVING_AVERAGE_DECAY,\n",
    "               epsilon=EPSILON,\n",
    "               data_format='channels_first',\n",
    "               name='moving_variance'):\n",
    "    \"\"\"Batch standard deviation.\"\"\"\n",
    "    if data_format == 'channels_last':\n",
    "        var_shape, axes = (1, 1, 1, inputs.shape[3]), [0, 1, 2]\n",
    "    else:\n",
    "        var_shape, axes = (1, inputs.shape[1], 1, 1), [0, 2, 3]\n",
    "    moving_variance = tf.get_variable(\n",
    "        name=name,\n",
    "        shape=var_shape,\n",
    "        initializer=tf.initializers.ones(),\n",
    "        dtype=tf.float32,\n",
    "        collections=[\n",
    "          tf.GraphKeys.MOVING_AVERAGE_VARIABLES,\n",
    "          tf.GraphKeys.GLOBAL_VARIABLES\n",
    "        ],\n",
    "        trainable=False)\n",
    "    if training:\n",
    "        _, variance = tf.nn.moments(inputs, axes, keep_dims=True)\n",
    "        variance = tf.cast(variance, tf.float32)\n",
    "        update_op = tf.assign_sub(\n",
    "            moving_variance,\n",
    "            (moving_variance - variance) * (1 - decay))\n",
    "        tf.add_to_collection(tf.GraphKeys.UPDATE_OPS, update_op)\n",
    "    else:\n",
    "        variance = moving_variance\n",
    "    std = tf.sqrt(variance + epsilon)\n",
    "    return tf.cast(std, inputs.dtype)\n",
    "\n",
    "\n",
    "def _group_std(inputs,\n",
    "               epsilon=EPSILON,\n",
    "               data_format='channels_first',\n",
    "               num_groups=32):\n",
    "    \"\"\"Grouped standard deviation along the channel dimension.\"\"\"\n",
    "    axis = 3 if data_format == 'channels_last' else 1\n",
    "    while num_groups > 1:\n",
    "        if inputs.shape[axis] % num_groups == 0:\n",
    "            break\n",
    "        num_groups -= 1\n",
    "    if data_format == 'channels_last':\n",
    "        _, h, w, c = inputs.shape.as_list()\n",
    "        x = tf.reshape(inputs, [-1, h, w, num_groups, c // num_groups])\n",
    "        _, variance = tf.nn.moments(x, [1, 2, 4], keep_dims=True)\n",
    "    else:\n",
    "        _, c, h, w = inputs.shape.as_list()\n",
    "        x = tf.reshape(inputs, [-1, num_groups, c // num_groups, h, w])\n",
    "        _, variance = tf.nn.moments(x, [2, 3, 4], keep_dims=True)\n",
    "    std = tf.sqrt(variance + epsilon)\n",
    "    std = tf.broadcast_to(std, x.shape.as_list())\n",
    "    return tf.reshape(std, inputs.shape.as_list())\n",
    "\n",
    "\n",
    "def evonorm(inputs,\n",
    "            is_training,\n",
    "            layer=LAYER_EVONORM_B0,\n",
    "            nonlinearity=True,\n",
    "            init_zero=False,\n",
    "            decay=MOVING_AVERAGE_DECAY,\n",
    "            epsilon=EPSILON,\n",
    "            num_groups=32,\n",
    "            data_format='channels_last'):\n",
    "    \"\"\"Apply an EvoNorm transformation (an alternative to BN-ReLU).\n",
    "\n",
    "     Hanxiao Liu, Andrew Brock, Karen Simonyan, Quoc V. Le.\n",
    "     Evolving Normalization-Activation Layers.\n",
    "     https://arxiv.org/abs/2004.02967\n",
    "\n",
    "    Args:\n",
    "    inputs: `Tensor` whose shape is either `[batch, channels, ...]` with\n",
    "        the \"channels_first\" format or `[batch, height, width, channels]`\n",
    "        with the \"channels_last\" format.\n",
    "    is_training: `bool` for whether the model is training.\n",
    "    layer: `String` specifies the EvoNorm instantiation.\n",
    "    nonlinearity: `bool` if False, apply an affine transform only.\n",
    "    init_zero: `bool` if True, initializes scale parameter of batch\n",
    "        normalization with 0 instead of 1 (default).\n",
    "    decay: `float` a scalar decay used in the moving average.\n",
    "    epsilon: `float` a small float added to variance to avoid dividing by zero.\n",
    "    num_groups: `int` the number of groups per layer, used only when `layer` ==\n",
    "        LAYER_EVONORM_S0.\n",
    "    data_format: `str` either \"channels_first\" for `[batch, channels, height,\n",
    "        width]` or \"channels_last for `[batch, height, width, channels]`.\n",
    "\n",
    "    Returns:\n",
    "    A normalized `Tensor` with the same `data_format`.\n",
    "    \"\"\"\n",
    "    if init_zero:\n",
    "        gamma_initializer = tf.zeros_initializer()\n",
    "    else:\n",
    "        gamma_initializer = tf.ones_initializer()\n",
    "\n",
    "    if data_format == 'channels_last':\n",
    "        var_shape = (1, 1, 1, inputs.shape[3])\n",
    "    else:\n",
    "        var_shape = (1, inputs.shape[1], 1, 1)\n",
    "    with tf.variable_scope(None, default_name='evonorm'):\n",
    "        beta = tf.get_variable(\n",
    "            'beta',\n",
    "            shape=var_shape,\n",
    "            dtype=inputs.dtype,\n",
    "            initializer=tf.zeros_initializer())\n",
    "        gamma = tf.get_variable(\n",
    "            'gamma',\n",
    "            shape=var_shape,\n",
    "            dtype=inputs.dtype,\n",
    "            initializer=gamma_initializer)\n",
    "        if nonlinearity:\n",
    "            v = tf.get_variable(\n",
    "              'v',\n",
    "              shape=var_shape,\n",
    "              dtype=inputs.dtype,\n",
    "              initializer=tf.ones_initializer())\n",
    "            if layer == LAYER_EVONORM_S0:\n",
    "                den = _group_std(\n",
    "                inputs,\n",
    "                epsilon=epsilon,\n",
    "                data_format=data_format,\n",
    "                num_groups=num_groups)\n",
    "                inputs = inputs * tf.nn.sigmoid(v * inputs) / den\n",
    "            elif layer == LAYER_EVONORM_B0:\n",
    "                left = _batch_std(\n",
    "                    inputs,\n",
    "                    decay=decay,\n",
    "                    epsilon=epsilon,\n",
    "                    data_format=data_format,\n",
    "                    training=is_training)\n",
    "                right = v * inputs + _instance_std(\n",
    "                    inputs, epsilon=epsilon, data_format=data_format)\n",
    "                inputs = inputs / tf.maximum(left, right)\n",
    "            else:\n",
    "                raise ValueError('Unknown EvoNorm layer: {}'.format(layer))\n",
    "        return inputs * gamma + beta\n",
    "tf.random.set_random_seed(0)\n",
    "x = tf.random.normal((2, 4, 4, 32))\n",
    "evonorm(x, False, LAYER_EVONORM_S0, num_groups=4)"
   ]
  },
  {
   "cell_type": "code",
   "execution_count": 92,
   "metadata": {},
   "outputs": [
    {
     "name": "stdout",
     "output_type": "stream",
     "text": [
      "None\n"
     ]
    }
   ],
   "source": [
    "b = {'a': 1}.get('b')\n",
    "print(b)"
   ]
  },
  {
   "cell_type": "code",
   "execution_count": 239,
   "metadata": {
    "scrolled": false
   },
   "outputs": [],
   "source": [
    "l.set_weights(l2.get_weights())\n",
    "opt = tf.keras.optimizers.Adam(2e-3)\n",
    "with tf.GradientTape() as tape:\n",
    "    y = l(x)\n",
    "    loss = .5 * tf.reduce_mean((y - 1)**2)\n",
    "vs = l.trainable_variables\n",
    "gs = tape.gradient(loss, vs)\n",
    "opt.apply_gradients(zip(gs, vs))\n",
    "w2 = l.get_weights()"
   ]
  },
  {
   "cell_type": "code",
   "execution_count": 242,
   "metadata": {},
   "outputs": [
    {
     "data": {
      "text/plain": [
       "'dfwef'"
      ]
     },
     "execution_count": 242,
     "metadata": {},
     "output_type": "execute_result"
    }
   ],
   "source": [
    "scores = {\n",
    "    'coinrun': [5, 10],\n",
    "    'starpilot': [2.5, 64],\n",
    "    'caveflyer': [3.5, 12],\n",
    "    'dodgeball': [1.5, 19],\n",
    "    'fruitbot': [-1.5, 32.4],\n",
    "    'chaser': [.5, 13],\n",
    "    'miner': [1.5, 13],\n",
    "    'jumper': [1, 10],\n",
    "    'leaper': [1.5, 10],\n",
    "    'maze': [5, 10],\n",
    "    'bigfish': [1, 40],\n",
    "    'heist': [3.5, 10],\n",
    "    'climber': [2, 12.6],\n",
    "    'plunder': [4.5, 30],\n",
    "    'ninja': [3.5, 10],\n",
    "    'bossfight': [.5, 13],\n",
    "    'c1': [5, 24]\n",
    "}\n",
    "\n",
    "coinrun_score = 8.8\n",
    "bigfish_score = 22\n",
    "miner_score = 10\n",
    "normalized_scores = []\n",
    "for name in ['coinrun', 'bigfish', 'miner']:\n",
    "    "
   ]
  },
  {
   "cell_type": "code",
   "execution_count": 234,
   "metadata": {
    "scrolled": true
   },
   "outputs": [
    {
     "name": "stdout",
     "output_type": "stream",
     "text": [
      "tf.Tensor(\n",
      "[[4 5]\n",
      " [2 3]\n",
      " [0 1]], shape=(3, 2), dtype=int32)\n",
      "(3, 4, 4, 2)\n",
      "tf.Tensor(\n",
      "[[[[4. 5.]\n",
      "   [4. 5.]\n",
      "   [4. 5.]\n",
      "   [4. 5.]]\n",
      "\n",
      "  [[4. 5.]\n",
      "   [4. 5.]\n",
      "   [4. 5.]\n",
      "   [4. 5.]]\n",
      "\n",
      "  [[4. 5.]\n",
      "   [4. 5.]\n",
      "   [4. 5.]\n",
      "   [4. 5.]]\n",
      "\n",
      "  [[4. 5.]\n",
      "   [4. 5.]\n",
      "   [4. 5.]\n",
      "   [4. 5.]]]\n",
      "\n",
      "\n",
      " [[[2. 3.]\n",
      "   [2. 3.]\n",
      "   [2. 3.]\n",
      "   [2. 3.]]\n",
      "\n",
      "  [[2. 3.]\n",
      "   [2. 3.]\n",
      "   [2. 3.]\n",
      "   [2. 3.]]\n",
      "\n",
      "  [[2. 3.]\n",
      "   [2. 3.]\n",
      "   [2. 3.]\n",
      "   [2. 3.]]\n",
      "\n",
      "  [[2. 3.]\n",
      "   [2. 3.]\n",
      "   [2. 3.]\n",
      "   [2. 3.]]]\n",
      "\n",
      "\n",
      " [[[0. 1.]\n",
      "   [0. 1.]\n",
      "   [0. 1.]\n",
      "   [0. 1.]]\n",
      "\n",
      "  [[0. 1.]\n",
      "   [0. 1.]\n",
      "   [0. 1.]\n",
      "   [0. 1.]]\n",
      "\n",
      "  [[0. 1.]\n",
      "   [0. 1.]\n",
      "   [0. 1.]\n",
      "   [0. 1.]]\n",
      "\n",
      "  [[0. 1.]\n",
      "   [0. 1.]\n",
      "   [0. 1.]\n",
      "   [0. 1.]]]], shape=(3, 4, 4, 2), dtype=float32)\n"
     ]
    }
   ],
   "source": [
    "a = tf.constant([2, 1, 0])[..., None]\n",
    "c = tf.range(2)[None]\n",
    "i = a * 2 + c\n",
    "print(i)\n",
    "x = tf.ones((3, 4, 4, 8))\n",
    "v = tf.range(8, dtype=tf.float32)\n",
    "v = tf.reshape(v, (1, 1, 1, 8))\n",
    "x = x * v\n",
    "# print(x)\n",
    "y = tf.gather(x, i, axis=-1,batch_dims=1)\n",
    "print(y.shape)\n",
    "print(y)"
   ]
  },
  {
   "cell_type": "code",
   "execution_count": 409,
   "metadata": {
    "scrolled": true
   },
   "outputs": [
    {
     "data": {
      "text/plain": [
       "<tensorflow.python.ops.init_ops_v2.GlorotUniform at 0x7fe84740d3d0>"
      ]
     },
     "execution_count": 409,
     "metadata": {},
     "output_type": "execute_result"
    }
   ],
   "source": [
    "x = tf.random.uniform((2, 3, 3, 3), 0, 1)\n",
    "l = tf.keras.layers.Conv2D(3, 3, trainable=False)\n",
    "l(x)\n",
    "ki = tf.keras.initializers.get('glorot_uniform')\n",
    "ki"
   ]
  },
  {
   "cell_type": "code",
   "execution_count": 414,
   "metadata": {},
   "outputs": [
    {
     "name": "stdout",
     "output_type": "stream",
     "text": [
      "[[-0.19756787 -0.06822005  0.31459454]\n",
      " [ 0.09108767 -0.05315256 -0.23182988]\n",
      " [ 0.31561747  0.13336363  0.2311497 ]]\n",
      "[[ 0.20526233  0.281184   -0.32184705]\n",
      " [-0.26354975 -0.24081159  0.06373253]\n",
      " [-0.16821647  0.3108113   0.01806116]]\n"
     ]
    }
   ],
   "source": [
    "# %%timeit\n",
    "print(l.variables[0][0, 0].numpy())\n",
    "w = l.variables[0]\n",
    "w.assign(ki(w.shape))\n",
    "print(l.variables[0][0, 0].numpy())"
   ]
  },
  {
   "cell_type": "code",
   "execution_count": 408,
   "metadata": {},
   "outputs": [
    {
     "name": "stdout",
     "output_type": "stream",
     "text": [
      "225 µs ± 4.6 µs per loop (mean ± std. dev. of 7 runs, 1000 loops each)\n"
     ]
    }
   ],
   "source": [
    "%%timeit\n",
    "l(x)"
   ]
  },
  {
   "cell_type": "code",
   "execution_count": 311,
   "metadata": {
    "scrolled": true
   },
   "outputs": [
    {
     "name": "stdout",
     "output_type": "stream",
     "text": [
      "tf.Tensor(\n",
      "[[0 9]\n",
      " [1 4]], shape=(2, 2), dtype=int32)\n",
      "tf.Tensor(\n",
      "[[-0.8469832  -0.21888533 -0.30787975 -0.18129683  0.3369443  -0.8984027\n",
      "  -0.7467201   0.01811226  0.63877887  0.15181074  0.07506377  1.3474562\n",
      "   0.10659567 -1.173811    0.5844975 ]\n",
      " [-0.7929566   1.1438088   1.5290663   0.6928618   1.2734599  -0.69927055\n",
      "  -0.48324805 -1.1484063  -1.5618385  -2.1519914   0.12078126 -0.37238482\n",
      "  -0.2242153  -0.6183415   0.02820674]], shape=(2, 15), dtype=float32)\n"
     ]
    },
    {
     "data": {
      "text/plain": [
       "<tf.Tensor: shape=(2,), dtype=float32, numpy=array([0.15181074, 1.2734599 ], dtype=float32)>"
      ]
     },
     "execution_count": 311,
     "metadata": {},
     "output_type": "execute_result"
    }
   ],
   "source": [
    "a = tf.random.uniform((2,), 0, 15, dtype=tf.int32)\n",
    "idx = tf.stack([tf.range(a.shape[0]), a], -1)\n",
    "q = tf.random.normal((2, 15))\n",
    "print(idx)\n",
    "print(q)\n",
    "tf.gather_nd(q, idx)"
   ]
  },
  {
   "cell_type": "code",
   "execution_count": 595,
   "metadata": {},
   "outputs": [
    {
     "name": "stdout",
     "output_type": "stream",
     "text": [
      "0.0 28060\n"
     ]
    },
    {
     "data": {
      "text/plain": [
       "<matplotlib.image.AxesImage at 0x7fa0402c6df0>"
      ]
     },
     "execution_count": 595,
     "metadata": {},
     "output_type": "execute_result"
    },
    {
     "data": {
      "image/png": "[encoded data removed]",
      "text/plain": [
       "<Figure size 432x288 with 1 Axes>"
      ]
     },
     "metadata": {
      "needs_background": "light"
     },
     "output_type": "display_data"
    }
   ],
   "source": [
    "for i in range(1000):\n",
    "    o, r, d, d2 = env.step(0)\n",
    "    if env.game_over():\n",
    "        print(i, 'here', env.game_over())\n",
    "        env.reset()\n",
    "img = env.get_screen()\n",
    "print(env.score(), env.epslen())\n",
    "plt.imshow(img)"
   ]
  },
  {
   "cell_type": "code",
   "execution_count": 70,
   "metadata": {},
   "outputs": [
    {
     "name": "stdout",
     "output_type": "stream",
     "text": [
      "1\n",
      "2\n",
      "3\n",
      "4\n",
      "5\n",
      "6\n",
      "7\n",
      "8\n",
      "9\n",
      "10\n",
      "reset\n",
      "11\n",
      "12\n",
      "13\n",
      "14\n"
     ]
    }
   ],
   "source": [
    "class Env:\n",
    "    def __init__(self, n):\n",
    "        self.n = n\n",
    "        self.reset()\n",
    "\n",
    "    def reset(self):\n",
    "        self.idx = 0\n",
    "        self.s2r = [.1 if i % 2 == 0 else np.random.normal() for i in range(self.n)]\n",
    "        return self.idx\n",
    "    \n",
    "    def step(self):\n",
    "        if self.idx == len(self.s2r):\n",
    "            self.reset()\n",
    "        r = self.s2r[self.idx]\n",
    "        self.idx += 1\n",
    "        return self.idx-1, r\n",
    "    \n",
    "    def done(self):\n",
    "        return self.idx == len(self.s2r)\n",
    "    \n",
    "class EnvVec:\n",
    "    def __init__(self, n, n_envs):\n",
    "        self.envs = [Env(n) for _ in range(n_envs)]\n",
    "        \n",
    "    def reset(self):\n",
    "        return [e.reset() for e in self.envs]\n",
    "    \n",
    "    def step(self):\n",
    "        return list(zip(*[e.step() for e in self.envs]))\n",
    "    \n",
    "    def done(self):\n",
    "        return np.all([e.done() for e in self.envs])\n",
    "n = 10\n",
    "env = EnvVec(n, 10)\n",
    "s = env.reset()\n",
    "for i in range(1, 15):\n",
    "    if env.done():\n",
    "        print('reset')\n",
    "        \n",
    "    s, r = env.step()\n",
    "    \n",
    "    print(i)"
   ]
  },
  {
   "cell_type": "code",
   "execution_count": 82,
   "metadata": {
    "scrolled": false
   },
   "outputs": [
    {
     "name": "stdout",
     "output_type": "stream",
     "text": [
      "1 [(0.1, 0.1)]\n",
      "1 [(0.1, 0.1), (-1.6590103642265044, -0.1350388852006844)]\n",
      "2 [(0.1, 0.1)]\n",
      "2 [(0.1, 0.1), (-1.2110441685376914, 1.068158538470314)]\n"
     ]
    }
   ],
   "source": [
    "import tensorflow as tf\n",
    "from tensorflow.keras import layers\n",
    "gamma_p = 1\n",
    "lambda_p = 1\n",
    "\n",
    "gamma_l = layers.Dense(1)\n",
    "lambda_l = layers.Dense(1)\n",
    "value_l = layers.Dense(1)\n",
    "\n",
    "def compute_gamma(s):\n",
    "    return tf.squeeze(gamma_l(s))\n",
    "\n",
    "def compute_lambda(s):\n",
    "    return tf.squeeze(lambda_l(s))\n",
    "\n",
    "def compute_value(s):\n",
    "    return tf.squeeze(value_l(s), 0)\n",
    "\n",
    "def lambda_return(reward, value, discount, lambda_, bootstrap=None, axis=0):\n",
    "    \"\"\"\n",
    "    discount includes the done signal if there is any.\n",
    "    axis specifies the time dimension\n",
    "    \"\"\"\n",
    "    if isinstance(discount, (int, float)):\n",
    "        discount = discount * tf.ones_like(reward)\n",
    "    if isinstance(lambda_, (int, float)):\n",
    "        lambda_ = lambda_ * tf.ones_like(reward)\n",
    "    tf.debugging.assert_shapes([\n",
    "        [reward, (None, 10)],\n",
    "        [value, (None, 10)],\n",
    "        [discount, (None, 10)],\n",
    "        [lambda_, (None, 10)],\n",
    "    ])\n",
    "    # swap 'axis' with the 0-th dimension\n",
    "    dims = list(range(reward.shape.ndims))\n",
    "    dims = [axis] + dims[1:axis] + [0] + dims[axis + 1:]\n",
    "    if axis != 0:\n",
    "        reward = tf.transpose(reward, dims)\n",
    "        value = tf.transpose(value, dims)\n",
    "        discount = tf.transpose(discount, dims)\n",
    "    if bootstrap is None:\n",
    "        bootstrap = tf.zeros_like(value[-1])\n",
    "    next_values = tf.concat([value[1:], bootstrap[None]], 0)\n",
    "    # 1-step target: r + 𝛾 * v' * (1 - 𝝀)\n",
    "    inputs = reward + discount * next_values * (1 - lambda_)\n",
    "    # lambda function computes lambda return starting from the end\n",
    "    returns = static_scan(\n",
    "        lambda acc, cur: cur[0] + cur[1] * cur[2] * acc,\n",
    "        bootstrap, (inputs, discount, lambda_), reverse=True\n",
    "    )\n",
    "    if axis != 0:\n",
    "         returns = tf.transpose(returns, dims)\n",
    "    return returns\n",
    "\n",
    "lr = 1e-3\n",
    "v_opt = tf.keras.optimizers.Adam(lr)\n",
    "g_opt = tf.keras.optimizers.Adam(lr, beta_1=0)\n",
    "\n",
    "n = 10\n",
    "n_envs = 10\n",
    "n_eps = 10000\n",
    "env = EnvVec(n, n_envs)\n",
    "        \n",
    "@tf.function\n",
    "def update(s, r, s2, r2):\n",
    "    s = tf.one_hot(s, n)\n",
    "    with tf.GradientTape() as t2:\n",
    "        with tf.GradientTape() as t:\n",
    "            gam = compute_gamma(s)\n",
    "            v = compute_value(s)\n",
    "            target = lambda_return(r, v, gam, lambda_p, axis=1)\n",
    "            loss = .5 * (target - v)**2\n",
    "        grads = t.gradient(loss, value_l.variables)\n",
    "        norm = v_opt.apply_gradients(zip(grads, value_l.variables))\n",
    "        \n",
    "        v2 = compute_value(s2)\n",
    "        target2 = lambda_return(r2, v2, gamma_p, lambda_p, axis=1)\n",
    "        loss2 = .5 * (target2 - v2)**2\n",
    "    grads2 = t2.gradient(loss2, gamma_l.variables)\n",
    "    norm2 = g_opt.apply_gradients(zip(grads2, gamma_l.variables))\n",
    "        \n",
    "    \n",
    "for _ in range(int(n_eps)):\n",
    "    env.reset()\n",
    "    s1, r1 = [], []\n",
    "    s2, r2 = [], []\n",
    "    while not env.done():\n",
    "        s, r = env.step()\n",
    "        s1.append(s)\n",
    "        r1.append(r)\n",
    "        print(1, r1)\n",
    "    env.reset()\n",
    "    while not env.done():\n",
    "        s, r = env.step()\n",
    "        s2.append(s)\n",
    "        r2.append(r)\n",
    "        print(2, r2)\n",
    "    r1 = np.array(r1)\n",
    "    r2 = np.array(r2)\n",
    "    s1 = np.array(s1)\n",
    "    s2 = np.array(s2)\n"
   ]
  },
  {
   "cell_type": "code",
   "execution_count": 71,
   "metadata": {},
   "outputs": [],
   "source": [
    "def static_scan(fn, start, inputs, reverse=False):\n",
    "    \"\"\" Sequentially apply fn to inputs, with starting state start.\n",
    "    inputs are expected to be time-major, and the outputs of fn are expected\n",
    "    to have the same structure as start. \n",
    "    This function is equivalent to \n",
    "    tf.scan(\n",
    "        fn=fn\n",
    "        elems=inputs, \n",
    "        initializer=start,\n",
    "        parallel_iterations=1,\n",
    "        reverse=reverse\n",
    "    )\n",
    "    In practice, we find it's faster than tf.scan\n",
    "    \"\"\"\n",
    "    last = start\n",
    "    outputs = [[] for _ in tf.nest.flatten(start)]\n",
    "    indices = range(len(tf.nest.flatten(inputs)[0]))\n",
    "    if reverse:\n",
    "        indices = reversed(indices)\n",
    "    for index in indices:\n",
    "        # extract inputs at step index\n",
    "        inp = tf.nest.map_structure(lambda x: x[index], inputs)\n",
    "        last = fn(last, inp)\n",
    "        # distribute outputs\n",
    "        [o.append(l) for o, l in zip(outputs, tf.nest.flatten(last))]\n",
    "    if reverse:\n",
    "        outputs = [list(reversed(x)) for x in outputs]\n",
    "    outputs = [tf.stack(x) for x in outputs]\n",
    "    # reconstruct outputs to have the same structure as start\n",
    "    return tf.nest.pack_sequence_as(start, outputs)\n"
   ]
  },
  {
   "cell_type": "code",
   "execution_count": 283,
   "metadata": {},
   "outputs": [
    {
     "name": "stdout",
     "output_type": "stream",
     "text": [
      "(-inf, inf)\n",
      "int64\n",
      "666 True {'prev_level_seed': 1753219764, 'prev_level_complete': 0, 'level_seed': 1388491082}\n"
     ]
    },
    {
     "data": {
      "text/plain": [
       "<matplotlib.image.AxesImage at 0x7fd0bb416a60>"
      ]
     },
     "execution_count": 283,
     "metadata": {},
     "output_type": "execute_result"
    },
    {
     "data": {
      "image/png": "[encoded data removed]",
      "text/plain": [
       "<Figure size 432x288 with 1 Axes>"
      ]
     },
     "metadata": {
      "needs_background": "light"
     },
     "output_type": "display_data"
    }
   ],
   "source": [
    "from env.procgen import Procgen\n",
    "import matplotlib.pyplot as plt\n",
    "env = Procgen(dict(\n",
    "    name='plunder',\n",
    "    distribution_mode='easy'\n",
    "))\n",
    "print(env.reward_range)\n",
    "print(env.action_space.dtype)\n",
    "o = env.reset()\n",
    "for i in range(10000):\n",
    "    o, r, d, ii = env.step(0)\n",
    "    if d:\n",
    "        print(i, d, ii)\n",
    "        break\n",
    "plt.imshow(o[..., 0])"
   ]
  },
  {
   "cell_type": "code",
   "execution_count": 286,
   "metadata": {},
   "outputs": [
    {
     "data": {
      "text/plain": [
       "<matplotlib.image.AxesImage at 0x7fd0bc101e80>"
      ]
     },
     "execution_count": 286,
     "metadata": {},
     "output_type": "execute_result"
    },
    {
     "data": {
      "image/png": "[encoded data removed]",
      "text/plain": [
       "<Figure size 432x288 with 1 Axes>"
      ]
     },
     "metadata": {
      "needs_background": "light"
     },
     "output_type": "display_data"
    }
   ],
   "source": [
    "plt.imshow(o[..., 2])"
   ]
  },
  {
   "cell_type": "code",
   "execution_count": 90,
   "metadata": {},
   "outputs": [
    {
     "name": "stdout",
     "output_type": "stream",
     "text": [
      "(6, 2, 2, 2, 4, 4)\n"
     ]
    },
    {
     "data": {
      "text/plain": [
       "(6, 2, 4, 4)"
      ]
     },
     "execution_count": 90,
     "metadata": {},
     "output_type": "execute_result"
    }
   ],
   "source": [
    "from skimage.util.shape import view_as_windows\n",
    "imgs = np.random.normal(size=(6, 5, 5, 2))\n",
    "output_size = 4\n",
    "n = imgs.shape[0]\n",
    "img_size = imgs.shape[1]\n",
    "crop_max = img_size - output_size\n",
    "w1 = np.random.randint(0, crop_max, n)\n",
    "h1 = np.random.randint(0, crop_max, n)\n",
    "# creates all sliding windows combinations of size (output_size)\n",
    "windows = view_as_windows(\n",
    "    imgs, (1, output_size, output_size, 1))[..., 0,:,:, 0]\n",
    "# selects a random window for each batch element\n",
    "print(windows.shape)\n",
    "cropped_imgs = windows[np.arange(n), w1, h1]\n",
    "cropped_imgs.shape"
   ]
  },
  {
   "cell_type": "code",
   "execution_count": 93,
   "metadata": {},
   "outputs": [
    {
     "data": {
      "text/plain": [
       "<TimeLimit<AtariEnv<QbertNoFrameskip-v4>>>"
      ]
     },
     "execution_count": 93,
     "metadata": {},
     "output_type": "execute_result"
    }
   ],
   "source": [
    "import atari_py as atari\n",
    "gym.make('QbertNoFrameskip-v4')"
   ]
  },
  {
   "cell_type": "code",
   "execution_count": 102,
   "metadata": {},
   "outputs": [
    {
     "name": "stdout",
     "output_type": "stream",
     "text": [
      "tf.Tensor(\n",
      "[[0.33333334 0.33333334 0.33333334]\n",
      " [0.33333334 0.33333334 0.33333334]], shape=(2, 3), dtype=float32)\n"
     ]
    }
   ],
   "source": [
    "import tensorflow_probability as tfp\n",
    "tfd = tfp.distributions\n",
    "\n",
    "probs = tf.nn.softmax(tf.zeros((2, 3)))\n",
    "d = tfd.Categorical(probs=probs)\n",
    "print(d.probs)"
   ]
  },
  {
   "cell_type": "code",
   "execution_count": 76,
   "metadata": {},
   "outputs": [
    {
     "name": "stdout",
     "output_type": "stream",
     "text": [
      "79.4 µs ± 1.67 µs per loop (mean ± std. dev. of 7 runs, 10000 loops each)\n"
     ]
    }
   ],
   "source": [
    "%%timeit\n",
    "o = env.step(env.action_space.sample())[0]\n",
    "cv2.cvtColor(o, cv2.COLOR_RGB2GRAY)"
   ]
  },
  {
   "cell_type": "code",
   "execution_count": 75,
   "metadata": {},
   "outputs": [
    {
     "name": "stdout",
     "output_type": "stream",
     "text": [
      "88.6 µs ± 2.81 µs per loop (mean ± std. dev. of 7 runs, 10000 loops each)\n"
     ]
    }
   ],
   "source": [
    "%%timeit\n",
    "env.step(env.action_space.sample())\n",
    "env.ale.getScreenGrayscale(buffer)"
   ]
  },
  {
   "cell_type": "code",
   "execution_count": 46,
   "metadata": {},
   "outputs": [
    {
     "name": "stdout",
     "output_type": "stream",
     "text": [
      "ab\n"
     ]
    }
   ],
   "source": [
    "from typing import overload, Tuple\n",
    "@overload\n",
    "def process(response: None) -> None:\n",
    "    ...\n",
    "@overload\n",
    "def process(response: int) -> Tuple[int, str]:\n",
    "    ...\n",
    "@overload\n",
    "def process(response: bytes) -> str:\n",
    "    ...\n",
    "def process(response):\n",
    "    print(response)\n",
    "process('ab')"
   ]
  }
 ],
 "metadata": {
  "kernelspec": {
   "display_name": "Python 3",
   "language": "python",
   "name": "python3"
  },
  "language_info": {
   "codemirror_mode": {
    "name": "ipython",
    "version": 3
   },
   "file_extension": ".py",
   "mimetype": "text/x-python",
   "name": "python",
   "nbconvert_exporter": "python",
   "pygments_lexer": "ipython3",
   "version": "3.8.3"
  }
 },
 "nbformat": 4,
 "nbformat_minor": 2
}
