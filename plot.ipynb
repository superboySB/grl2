{
 "cells": [
  {
   "cell_type": "code",
   "execution_count": 109,
   "metadata": {},
   "outputs": [
    {
     "name": "stdout",
     "output_type": "stream",
     "text": [
      "The autoreload extension is already loaded. To reload it, use:\n",
      "  %reload_ext autoreload\n"
     ]
    }
   ],
   "source": [
    "%load_ext autoreload\n",
    "%autoreload 2\n",
    "import os, sys, glob\n",
    "import numpy as np\n",
    "import pandas as pd\n",
    "import matplotlib.pyplot as plt\n",
    "import seaborn as sns\n",
    "import plotly.graph_objects as go\n",
    "import plotly.express as px\n",
    "import jax\n",
    "from jax import lax, nn, random\n",
    "import jax.numpy as jnp\n",
    "import haiku as hk\n",
    "import optax\n",
    "%matplotlib inline"
   ]
  },
  {
   "cell_type": "code",
   "execution_count": 2,
   "metadata": {},
   "outputs": [],
   "source": [
    "def plot_data(data, x, y, outdir, tag, title, timing=None, smooth=1):\n",
    "    if smooth > 1:\n",
    "        \"\"\"\n",
    "        smooth data with moving window average.\n",
    "        that is,\n",
    "            smoothed_y[t] = average(y[t-k], y[t-k+1], ..., y[t+k-1], y[t+k])\n",
    "        where the \"smooth\" param is width of that window (2k+1)\n",
    "        \"\"\"\n",
    "        y = np.ones(smooth)\n",
    "        for datum in data:\n",
    "            x = np.asarray(datum[y])\n",
    "            z = np.ones(len(x))\n",
    "            smoothed_x = np.convolve(x,y,'same') / np.convolve(z,y,'same')\n",
    "            datum[y] = smoothed_x\n",
    "            \n",
    "    if isinstance(data, list):\n",
    "        data = pd.concat(data, ignore_index=True)\n",
    "        if timing:\n",
    "            data = data[data.timing == timing].drop('timing', axis=1)\n",
    "\n",
    "    if not os.path.isdir(outdir):\n",
    "        os.mkdir(outdir)\n",
    "    fig = plt.figure(figsize=(20, 10))\n",
    "    ax = fig.add_subplot(111)\n",
    "    sns.set(style=\"whitegrid\", font_scale=1.5)\n",
    "    sns.set_palette('Set2') # or husl\n",
    "    if 'timing' in data.columns:\n",
    "        sns.lineplot(x=x, y=y, ax=ax, data=data, hue=tag, style='timing')\n",
    "    else:\n",
    "        sns.lineplot(x=x, y=y, ax=ax, data=data, hue=tag)\n",
    "    ax.grid(True, alpha=0.8, linestyle=':')\n",
    "    ax.legend(loc='best').set_draggable(True)\n",
    "    ax.spines['top'].set_visible(False)\n",
    "    ax.spines['right'].set_visible(False)\n",
    "    if timing:\n",
    "        title = f'{title}-{timing}'\n",
    "    outpath = f'{outdir}/{title}.png'\n",
    "    ax.set_title(title)\n",
    "    fig.savefig(outpath)\n",
    "    fig.show()\n",
    "    print(f'Plot Path: {outpath}')\n",
    "\n",
    "def get_datasets(files, tag, condition=None):\n",
    "    unit = 0\n",
    "    datasets = []\n",
    "    for f in files:\n",
    "        assert f.endswith('log.txt')\n",
    "        data = pd.read_csv(f, sep='\\t')\n",
    "\n",
    "        data.insert(len(data.columns), tag, condition)\n",
    "\n",
    "        datasets.append(data)\n",
    "        unit +=1\n",
    "\n",
    "    return datasets"
   ]
  },
  {
   "cell_type": "code",
   "execution_count": 112,
   "metadata": {},
   "outputs": [
    {
     "data": {
      "text/plain": [
       "DeviceArray(2.7182817, dtype=float32, weak_type=True)"
      ]
     },
     "execution_count": 112,
     "metadata": {},
     "output_type": "execute_result"
    }
   ],
   "source": [
    "from functools import partial\n",
    "@partial(jax.jit, static_argnums=0)\n",
    "def f(fn, x):\n",
    "    return fn(x)\n",
    "def g(x):\n",
    "    return lax.exp(x)\n",
    "f(g, 1.)"
   ]
  },
  {
   "cell_type": "code",
   "execution_count": 182,
   "metadata": {},
   "outputs": [
    {
     "data": {
      "text/plain": [
       "True"
      ]
     },
     "execution_count": 182,
     "metadata": {},
     "output_type": "execute_result"
    }
   ],
   "source": [
    "from core.typing import AttrDict\n",
    "import cloudpickle\n",
    "\n",
    "data = AttrDict()\n",
    "data == {}\n"
   ]
  },
  {
   "cell_type": "code",
   "execution_count": 180,
   "metadata": {},
   "outputs": [
    {
     "data": {
      "text/plain": [
       "True"
      ]
     },
     "execution_count": 180,
     "metadata": {},
     "output_type": "execute_result"
    }
   ],
   "source": [
    "x = tuple()\n",
    "x = None\n",
    "x in [None]"
   ]
  }
 ],
 "metadata": {
  "kernelspec": {
   "display_name": "Python 3 (ipykernel)",
   "language": "python",
   "name": "python3"
  },
  "language_info": {
   "codemirror_mode": {
    "name": "ipython",
    "version": 3
   },
   "file_extension": ".py",
   "mimetype": "text/x-python",
   "name": "python",
   "nbconvert_exporter": "python",
   "pygments_lexer": "ipython3",
   "version": "3.8.12"
  }
 },
 "nbformat": 4,
 "nbformat_minor": 2
}
