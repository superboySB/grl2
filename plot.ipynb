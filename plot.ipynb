{
 "cells": [
  {
   "cell_type": "code",
   "execution_count": 1,
   "metadata": {},
   "outputs": [
    {
     "name": "stderr",
     "output_type": "stream",
     "text": [
      "/Users/aptx4869/opt/anaconda3/envs/grl/lib/python3.8/site-packages/haiku/_src/data_structures.py:37: FutureWarning: jax.tree_structure is deprecated, and will be removed in a future release. Use jax.tree_util.tree_structure instead.\n",
      "  PyTreeDef = type(jax.tree_structure(None))\n"
     ]
    }
   ],
   "source": [
    "%load_ext autoreload\n",
    "%autoreload 2\n",
    "import os, sys, glob\n",
    "import numpy as np\n",
    "import pandas as pd\n",
    "import matplotlib.pyplot as plt\n",
    "import seaborn as sns\n",
    "import plotly.graph_objects as go\n",
    "import plotly.express as px\n",
    "import jax\n",
    "from jax import lax, nn, random\n",
    "import jax.numpy as jnp\n",
    "import haiku as hk\n",
    "import optax\n",
    "%matplotlib inline"
   ]
  },
  {
   "cell_type": "code",
   "execution_count": 2,
   "metadata": {},
   "outputs": [],
   "source": [
    "def plot_data(data, x, y, outdir, tag, title, timing=None, smooth=1):\n",
    "    if smooth > 1:\n",
    "        \"\"\"\n",
    "        smooth data with moving window average.\n",
    "        that is,\n",
    "            smoothed_y[t] = average(y[t-k], y[t-k+1], ..., y[t+k-1], y[t+k])\n",
    "        where the \"smooth\" param is width of that window (2k+1)\n",
    "        \"\"\"\n",
    "        y = np.ones(smooth)\n",
    "        for datum in data:\n",
    "            x = np.asarray(datum[y])\n",
    "            z = np.ones(len(x))\n",
    "            smoothed_x = np.convolve(x,y,'same') / np.convolve(z,y,'same')\n",
    "            datum[y] = smoothed_x\n",
    "            \n",
    "    if isinstance(data, list):\n",
    "        data = pd.concat(data, ignore_index=True)\n",
    "        if timing:\n",
    "            data = data[data.timing == timing].drop('timing', axis=1)\n",
    "\n",
    "    if not os.path.isdir(outdir):\n",
    "        os.mkdir(outdir)\n",
    "    fig = plt.figure(figsize=(20, 10))\n",
    "    ax = fig.add_subplot(111)\n",
    "    sns.set(style=\"whitegrid\", font_scale=1.5)\n",
    "    sns.set_palette('Set2') # or husl\n",
    "    if 'timing' in data.columns:\n",
    "        sns.lineplot(x=x, y=y, ax=ax, data=data, hue=tag, style='timing')\n",
    "    else:\n",
    "        sns.lineplot(x=x, y=y, ax=ax, data=data, hue=tag)\n",
    "    ax.grid(True, alpha=0.8, linestyle=':')\n",
    "    ax.legend(loc='best').set_draggable(True)\n",
    "    ax.spines['top'].set_visible(False)\n",
    "    ax.spines['right'].set_visible(False)\n",
    "    if timing:\n",
    "        title = f'{title}-{timing}'\n",
    "    outpath = f'{outdir}/{title}.png'\n",
    "    ax.set_title(title)\n",
    "    fig.savefig(outpath)\n",
    "    fig.show()\n",
    "    print(f'Plot Path: {outpath}')\n",
    "\n",
    "def get_datasets(files, tag, condition=None):\n",
    "    unit = 0\n",
    "    datasets = []\n",
    "    for f in files:\n",
    "        assert f.endswith('log.txt')\n",
    "        data = pd.read_csv(f, sep='\\t')\n",
    "\n",
    "        data.insert(len(data.columns), tag, condition)\n",
    "\n",
    "        datasets.append(data)\n",
    "        unit +=1\n",
    "\n",
    "    return datasets"
   ]
  },
  {
   "cell_type": "code",
   "execution_count": 16,
   "metadata": {
    "scrolled": true
   },
   "outputs": [],
   "source": [
    "def payoff(*, p1=None, p2=None):\n",
    "    if p1 is None:\n",
    "        p = np.matmul(ps1, p2)\n",
    "    else:\n",
    "        p = np.matmul(p1.T, ps2)\n",
    "\n",
    "    return p\n",
    "\n",
    "def get_random_pi():\n",
    "    p1 = np.random.uniform(0, 1, A)\n",
    "    p1 = p1 / np.sum(p1)\n",
    "    return p1\n",
    "\n",
    "def get_prob(x):\n",
    "    return x / np.sum(x)\n",
    "\n",
    "def compute_obj(q, x, p):\n",
    "    return np.sum(eta * x * q - x * (np.log(x) - np.log(p)))\n",
    "\n",
    "\n",
    "for _ in range(10000):\n",
    "    A = np.random.randint(2, 10)\n",
    "    V = 10\n",
    "\n",
    "    ps1 = np.random.uniform(0, V, (A, A))\n",
    "    ps2 = np.random.uniform(0, V, (A, A))\n",
    "    eta = 1 / V\n",
    "    p1 = get_random_pi()\n",
    "    p2 = get_random_pi()\n",
    "    pi1 = get_random_pi()\n",
    "    pi2 = get_random_pi()\n",
    "\n",
    "    for i in range(100000):\n",
    "        q1 = payoff(p2=pi2)\n",
    "        q2 = payoff(p1=pi1)\n",
    "        new_pi1 = get_prob(p1 * np.exp(eta * q1))\n",
    "        new_pi2 = get_prob(p2 * np.exp(eta * q2))\n",
    "        if np.all(np.abs(new_pi1 - pi1) < 1e-7) and np.all(np.abs(new_pi2 - pi2) < 1e-7):\n",
    "            break\n",
    "        pi1 = new_pi1\n",
    "        pi2 = new_pi2\n",
    "#     print(i)\n",
    "    q1 = payoff(p2=pi2)\n",
    "    q2 = payoff(p1=pi1)\n",
    "    tp1 = get_prob(p1 * np.exp(eta * q1))\n",
    "    tp2 = get_prob(p2 * np.exp(eta * q2))\n",
    "\n",
    "    np.testing.assert_allclose(pi1, tp1, 1e-3)\n",
    "    np.testing.assert_allclose(pi2, tp2, 1e-3)\n",
    "\n",
    "    pv1 = compute_obj(q1, pi1, p1)\n",
    "    pv2 = compute_obj(q2, pi2, p2)\n",
    "\n",
    "    pi1_pt = get_prob(pi1+np.random.uniform(0, .1, pi1.shape))\n",
    "    pi2_pt = get_prob(pi2+np.random.uniform(0, .1, pi2.shape))\n",
    "\n",
    "    pv1_pt = compute_obj(q1, pi1_pt, p1)\n",
    "    pv2_pt = compute_obj(q2, pi2_pt, p2)\n",
    "\n",
    "    assert pv1_pt <= pv1, (pv1_pt, pv1)\n",
    "    assert pv2_pt <= pv2, (pv2_pt, pv2)"
   ]
  },
  {
   "cell_type": "code",
   "execution_count": 32,
   "metadata": {},
   "outputs": [
    {
     "name": "stdout",
     "output_type": "stream",
     "text": [
      "0:01:41\n"
     ]
    }
   ],
   "source": [
    "from datetime import datetime\n",
    "\n",
    "t1 = int(time.time())\n",
    "t1 = datetime.fromtimestamp(t1)\n",
    "# t1 = time.gmtime(t1)\n",
    "time.sleep(1)\n",
    "t2 = int(time.time() + 100)\n",
    "t2 = datetime.fromtimestamp(t2)\n",
    "print(str(t2 - t1))\n",
    "# t2 = time.gmtime(t2)\n",
    "# tt = (t2 - t1)\n",
    "# t = time.gmtime(tt)\n",
    "# print(tt)\n",
    "# time.strftime('%d %H:%M:%S', t)"
   ]
  },
  {
   "cell_type": "code",
   "execution_count": 297,
   "metadata": {},
   "outputs": [
    {
     "name": "stdout",
     "output_type": "stream",
     "text": [
      "[[-0.01285148  0.01285153]] [[-0.01285148  0.01285154]]\n"
     ]
    }
   ],
   "source": [
    "from jax import lax, random, nn\n",
    "\n",
    "b = 1\n",
    "d = 2\n",
    "rng = random.PRNGKey(0)\n",
    "rngs = random.split(rng)\n",
    "x = random.normal(rngs[0], (b, d))\n",
    "y = random.normal(rngs[1], (b, d))\n",
    "\n",
    "def f(y, x):\n",
    "    xprob = nn.softmax(x)\n",
    "    xlogprob = nn.log_softmax(x)\n",
    "    ylogprob = nn.log_softmax(y)\n",
    "    kl = jnp.sum(xprob * (xlogprob - ylogprob), -1)\n",
    "    return kl.mean()\n",
    "\n",
    "std_grads = jax.grad(f)(x, y)\n",
    "\n",
    "xprob = nn.softmax(x)\n",
    "yprob = nn.softmax(y)\n",
    "manual_grads = xprob - yprob\n",
    "print(std_grads, manual_grads)\n",
    "chex.assert_trees_all_close(std_grads, manual_grads)"
   ]
  },
  {
   "cell_type": "code",
   "execution_count": 49,
   "metadata": {},
   "outputs": [
    {
     "data": {
      "text/plain": [
       "(DeviceArray([[[-4.8031993 ],\n",
       "               [-1.9288876 ]],\n",
       " \n",
       "              [[-4.3365793 ],\n",
       "               [-0.52105284]]], dtype=float32),\n",
       " DeviceArray([[[-4.738098 ],\n",
       "               [-2.655896 ]],\n",
       " \n",
       "              [[-4.8359227],\n",
       "               [-2.9744918]]], dtype=float32))"
      ]
     },
     "execution_count": 49,
     "metadata": {},
     "output_type": "execute_result"
    }
   ],
   "source": [
    "from core.typing import dict2AttrDict\n",
    "from jax_tools import jax_loss\n",
    "data = dict(\n",
    "    reward=np.random.normal(size=(2, 2, 1)), \n",
    "    discount=np.ones((2, 2, 1)), \n",
    "    reset=np.zeros((2, 2, 1)), \n",
    "    value=np.random.normal(size=(2, 2, 1)), \n",
    "    next_value=np.random.normal(size=(2, 2, 1)), \n",
    "    ratio=np.ones((2, 2, 1))+1, \n",
    ")\n",
    "config = dict2AttrDict({\n",
    "    'target_type': 'gae'\n",
    "})\n",
    "gamma=.99\n",
    "lam=.95\n",
    "jax_loss.compute_target_advantage(\n",
    "    config=config, \n",
    "    **data, \n",
    "    gamma=gamma,  \n",
    "    lam=lam\n",
    ")"
   ]
  },
  {
   "cell_type": "code",
   "execution_count": 36,
   "metadata": {},
   "outputs": [
    {
     "data": {
      "text/plain": [
       "(DeviceArray([[0., 0., 0.],\n",
       "              [0., 0., 0.]], dtype=float32),\n",
       " DeviceArray([1., 1., 1.], dtype=float32))"
      ]
     },
     "execution_count": 36,
     "metadata": {},
     "output_type": "execute_result"
    }
   ],
   "source": [
    "class MultivariateNormalDiag(distrax.MultivariateNormalDiag):\n",
    "    def __init__(self, mu, std):\n",
    "        super().__init__(mu, std)\n",
    "\n",
    "    def stop_gradient(self):\n",
    "        loc = lax.stop_gradient(self.loc)\n",
    "        scale = lax.stop_gradient(self._scale_diag)\n",
    "        print(loc, scale)\n",
    "        super().__init__(loc, scale)\n",
    "\n",
    "# from jax_tools.jax_dist import MultivariateNormalDiag\n",
    "loc = jnp.ones((2, 3))\n",
    "scale = jnp.ones(3)\n",
    "rng = jax.random.PRNGKey(0)\n",
    "# dist = MultivariateNormalDiag(loc, scale)\n",
    "def loss(params, rng):\n",
    "    dist = MultivariateNormalDiag(*params)\n",
    "#     dist.stop_gradient()\n",
    "    lp = dist.entropy()\n",
    "    return jnp.mean(lp)\n",
    "jax.grad(loss)((loc, scale), rng)"
   ]
  },
  {
   "cell_type": "code",
   "execution_count": 45,
   "metadata": {},
   "outputs": [
    {
     "name": "stdout",
     "output_type": "stream",
     "text": [
      "[DeviceArray([0, 1, 2], dtype=int32), DeviceArray([2, 0, 1], dtype=int32), DeviceArray([1, 2, 0], dtype=int32)]\n"
     ]
    }
   ],
   "source": [
    "a = jnp.arange(3)\n",
    "actions = [a]\n",
    "for _ in range(2):\n",
    "    a = jnp.roll(a, 1)\n",
    "    actions.append(a)\n",
    "print(actions)"
   ]
  }
 ],
 "metadata": {
  "kernelspec": {
   "display_name": "Python 3 (ipykernel)",
   "language": "python",
   "name": "python3"
  },
  "language_info": {
   "codemirror_mode": {
    "name": "ipython",
    "version": 3
   },
   "file_extension": ".py",
   "mimetype": "text/x-python",
   "name": "python",
   "nbconvert_exporter": "python",
   "pygments_lexer": "ipython3",
   "version": "3.8.12"
  }
 },
 "nbformat": 4,
 "nbformat_minor": 2
}
