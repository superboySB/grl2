{
 "cells": [
  {
   "cell_type": "code",
   "execution_count": 1,
   "metadata": {},
   "outputs": [],
   "source": [
    "%load_ext autoreload\n",
    "%autoreload 2\n",
    "import os, sys, glob\n",
    "import numpy as np\n",
    "import pandas as pd\n",
    "import matplotlib.pyplot as plt\n",
    "import seaborn as sns\n",
    "import plotly.graph_objects as go\n",
    "import plotly.express as px\n",
    "%matplotlib inline"
   ]
  },
  {
   "cell_type": "code",
   "execution_count": 2,
   "metadata": {},
   "outputs": [],
   "source": [
    "def plot_data(data, x, y, outdir, tag, title, timing=None, smooth=1):\n",
    "    if smooth > 1:\n",
    "        \"\"\"\n",
    "        smooth data with moving window average.\n",
    "        that is,\n",
    "            smoothed_y[t] = average(y[t-k], y[t-k+1], ..., y[t+k-1], y[t+k])\n",
    "        where the \"smooth\" param is width of that window (2k+1)\n",
    "        \"\"\"\n",
    "        y = np.ones(smooth)\n",
    "        for datum in data:\n",
    "            x = np.asarray(datum[y])\n",
    "            z = np.ones(len(x))\n",
    "            smoothed_x = np.convolve(x,y,'same') / np.convolve(z,y,'same')\n",
    "            datum[y] = smoothed_x\n",
    "            \n",
    "    if isinstance(data, list):\n",
    "        data = pd.concat(data, ignore_index=True)\n",
    "        if timing:\n",
    "            data = data[data.timing == timing].drop('timing', axis=1)\n",
    "\n",
    "    if not os.path.isdir(outdir):\n",
    "        os.mkdir(outdir)\n",
    "    fig = plt.figure(figsize=(20, 10))\n",
    "    ax = fig.add_subplot(111)\n",
    "    sns.set(style=\"whitegrid\", font_scale=1.5)\n",
    "    sns.set_palette('Set2') # or husl\n",
    "    if 'timing' in data.columns:\n",
    "        sns.lineplot(x=x, y=y, ax=ax, data=data, hue=tag, style='timing')\n",
    "    else:\n",
    "        sns.lineplot(x=x, y=y, ax=ax, data=data, hue=tag)\n",
    "    ax.grid(True, alpha=0.8, linestyle=':')\n",
    "    ax.legend(loc='best').set_draggable(True)\n",
    "    ax.spines['top'].set_visible(False)\n",
    "    ax.spines['right'].set_visible(False)\n",
    "    if timing:\n",
    "        title = f'{title}-{timing}'\n",
    "    outpath = f'{outdir}/{title}.png'\n",
    "    ax.set_title(title)\n",
    "    fig.savefig(outpath)\n",
    "    fig.show()\n",
    "    print(f'Plot Path: {outpath}')\n",
    "\n",
    "def get_datasets(files, tag, condition=None):\n",
    "    unit = 0\n",
    "    datasets = []\n",
    "    for f in files:\n",
    "        assert f.endswith('log.txt')\n",
    "        data = pd.read_csv(f, sep='\\t')\n",
    "\n",
    "        data.insert(len(data.columns), tag, condition)\n",
    "\n",
    "        datasets.append(data)\n",
    "        unit +=1\n",
    "\n",
    "    return datasets"
   ]
  },
  {
   "cell_type": "code",
   "execution_count": 7,
   "metadata": {
    "scrolled": true
   },
   "outputs": [
    {
     "name": "stdout",
     "output_type": "stream",
     "text": [
      "mask tf.Tensor([[False  True  True]], shape=(1, 3), dtype=bool)\n",
      "tf.Tensor(\n",
      "[[[[False]\n",
      "   [False]\n",
      "   [False]]\n",
      "\n",
      "  [[False]\n",
      "   [ True]\n",
      "   [ True]]\n",
      "\n",
      "  [[False]\n",
      "   [ True]\n",
      "   [ True]]]], shape=(1, 3, 3, 1), dtype=bool) tf.Tensor(\n",
      "[[[[ 0.          0.          0.          0.        ]\n",
      "   [ 0.          0.          0.          0.        ]\n",
      "   [ 0.          0.          0.          0.        ]]\n",
      "\n",
      "  [[ 0.          0.          0.          0.        ]\n",
      "   [ 0.5927538   1.1629112  -1.266045   -0.42372763]\n",
      "   [ 0.171547   -1.2593116  -1.1901214  -0.24145375]]\n",
      "\n",
      "  [[ 0.          0.          0.          0.        ]\n",
      "   [-0.05628216 -0.6279982  -1.2477854  -0.7696505 ]\n",
      "   [ 0.74516904  0.42692438  1.4101542  -1.0267613 ]]]], shape=(1, 3, 3, 4), dtype=float32)\n"
     ]
    }
   ],
   "source": [
    "import tensorflow as tf\n",
    "b = 1\n",
    "u = 3\n",
    "d = 4\n",
    "raw_ae = tf.random.normal((b, u, u, d))\n",
    "mask = tf.cast(tf.random.uniform((b, u), 0, 2, dtype=tf.int32), tf.bool)\n",
    "print('mask', mask)\n",
    "mask1 = tf.expand_dims(mask, -2)\n",
    "mask1 = tf.expand_dims(mask1, -1)\n",
    "mask2 = tf.expand_dims(mask, -1)\n",
    "mask2 = tf.expand_dims(mask2, -1)\n",
    "mask = tf.math.logical_and(mask1, mask2)\n",
    "raw_ae = tf.where(mask, raw_ae, tf.zeros_like(raw_ae))\n",
    "print(mask, raw_ae)"
   ]
  },
  {
   "cell_type": "code",
   "execution_count": 36,
   "metadata": {},
   "outputs": [
    {
     "name": "stdout",
     "output_type": "stream",
     "text": [
      "[[-0.49860578 -0.11736446  0.50636331]\n",
      " [ 0.99319608 -0.5362236  -0.66417662]]\n"
     ]
    },
    {
     "data": {
      "text/plain": [
       "<tf.Tensor: shape=(2, 3), dtype=float64, numpy=\n",
       "array([[-0.49860578, -0.11736446,  0.50636331],\n",
       "       [ 0.99319608, -0.5362236 , -0.66417662]])>"
      ]
     },
     "execution_count": 36,
     "metadata": {},
     "output_type": "execute_result"
    }
   ],
   "source": [
    "from tensorflow_probability import distributions as tfd\n",
    "mean = np.random.normal(size=(2, 3))\n",
    "d = tfd.MultivariateNormalDiag(mean, np.abs(np.random.normal(size=(2, 3))))\n",
    "print(mean)\n",
    "d.mean()"
   ]
  },
  {
   "cell_type": "code",
   "execution_count": null,
   "metadata": {},
   "outputs": [],
   "source": [
    "import numpy as np\n",
    "import random\n",
    "import gym\n",
    "\n",
    "from env.func import create_env\n",
    "config = {\n",
    "    'env_name': 'grf-11_vs_11_stochastic',\n",
    "    'seed': 42\n",
    "}\n",
    "random.seed(42)\n",
    "np.random.seed(42)\n",
    "env = create_env(config)\n",
    "o, r, d, re = env.reset()\n",
    "a = env.random_action()\n",
    "print('action', a)\n",
    "o, r, d, re = env.step(a)\n",
    "print('obs', o[0]['obs'][0, 0, 50:60])\n",
    "a = env.random_action()\n",
    "print('action', a)\n",
    "o, r, d, re = env.step(a)\n",
    "print('obs', o[0]['obs'][0, 0, 50:60])"
   ]
  },
  {
   "cell_type": "code",
   "execution_count": 30,
   "metadata": {
    "scrolled": true
   },
   "outputs": [
    {
     "name": "stdout",
     "output_type": "stream",
     "text": [
      "tf.Tensor(\n",
      "[[[[ 0  1  2]\n",
      "   [ 3  4  5]\n",
      "   [ 6  7  8]\n",
      "   [ 9 10 11]]\n",
      "\n",
      "  [[ 0  1  2]\n",
      "   [ 3  4  5]\n",
      "   [ 6  7  8]\n",
      "   [ 9 10 11]]\n",
      "\n",
      "  [[ 0  1  2]\n",
      "   [ 3  4  5]\n",
      "   [ 6  7  8]\n",
      "   [ 9 10 11]]\n",
      "\n",
      "  [[ 0  1  2]\n",
      "   [ 3  4  5]\n",
      "   [ 6  7  8]\n",
      "   [ 9 10 11]]]\n",
      "\n",
      "\n",
      " [[[12 13 14]\n",
      "   [15 16 17]\n",
      "   [18 19 20]\n",
      "   [21 22 23]]\n",
      "\n",
      "  [[12 13 14]\n",
      "   [15 16 17]\n",
      "   [18 19 20]\n",
      "   [21 22 23]]\n",
      "\n",
      "  [[12 13 14]\n",
      "   [15 16 17]\n",
      "   [18 19 20]\n",
      "   [21 22 23]]\n",
      "\n",
      "  [[12 13 14]\n",
      "   [15 16 17]\n",
      "   [18 19 20]\n",
      "   [21 22 23]]]], shape=(2, 4, 4, 3), dtype=int32)\n"
     ]
    }
   ],
   "source": [
    "input_length = 4\n",
    "x = tf.reshape(tf.range(2*input_length*3), (2, 4, 3))\n",
    "idx = np.tile(\n",
    "    np.arange(0, input_length, dtype=np.int32), \n",
    "    [input_length, 1]\n",
    ")\n",
    "y1 = tf.gather(x, idx, axis=-2)\n",
    "print(y1)"
   ]
  },
  {
   "cell_type": "code",
   "execution_count": 33,
   "metadata": {},
   "outputs": [
    {
     "name": "stdout",
     "output_type": "stream",
     "text": [
      "99.9 µs ± 6.76 µs per loop (mean ± std. dev. of 7 runs, 10000 loops each)\n"
     ]
    }
   ],
   "source": [
    "%%timeit\n",
    "y = tf.expand_dims(x, 1)\n",
    "y = tf.tile(y, (1, input_length, 1, 1))\n",
    "# tf.debugging.assert_equal(y, y1)"
   ]
  },
  {
   "cell_type": "code",
   "execution_count": 34,
   "metadata": {},
   "outputs": [
    {
     "name": "stdout",
     "output_type": "stream",
     "text": [
      "31.9 µs ± 1.78 µs per loop (mean ± std. dev. of 7 runs, 10000 loops each)\n"
     ]
    }
   ],
   "source": [
    "%%timeit\n",
    "y1 = tf.gather(x, idx, axis=-2)"
   ]
  },
  {
   "cell_type": "code",
   "execution_count": 179,
   "metadata": {},
   "outputs": [
    {
     "name": "stdout",
     "output_type": "stream",
     "text": [
      "transition\n",
      "[[0.48   0.25   0.01   0.25   0.01  ]\n",
      " [0.01   0.9636 0.01   0.01   0.0064]\n",
      " [0.25   0.25   0.     0.25   0.25  ]\n",
      " [0.01   0.25   0.01   0.72   0.01  ]\n",
      " [0.25   0.14   0.01   0.25   0.35  ]]\n",
      "eig values\n",
      "[-0.01      +0.j  1.        +0.j  0.33894303+0.j  0.47      +0.j\n",
      "  0.71465697+0.j]\n",
      "leig vectors\n",
      "[[-1.27451325e-01  3.40685858e-02 -8.42122012e-01 -7.07106781e-01\n",
      "   6.72853276e-03]\n",
      " [-8.49675503e-02  9.95122638e-01  1.35015231e-01  1.03005446e-16\n",
      "  -7.13835314e-01]\n",
      " [ 8.13834645e-01  1.13573131e-02  1.77027800e-16  7.86424168e-17\n",
      "  -2.09731072e-17]\n",
      " [-4.24837751e-02  9.04579693e-02  2.47248629e-01  7.07106781e-01\n",
      "   7.00247688e-01]\n",
      " [-5.58931994e-01  1.60821211e-02  4.59858152e-01 -4.93527975e-16\n",
      "   6.85909340e-03]]\n",
      "reig vectors\n",
      "[[-0.009998    0.4472136  -0.02484188 -0.38441533  0.4445365 ]\n",
      " [-0.009998    0.4472136  -0.01665756  0.0278215  -0.07090326]\n",
      " [ 0.99980006  0.4472136   0.5609866  -0.55882322  0.49465702]\n",
      " [-0.009998    0.4472136  -0.02484188  0.03923729  0.4445365 ]\n",
      " [-0.009998    0.4472136   0.82691131 -0.73323111  0.59587059]]\n",
      "[[ 8.21808646e-01 -9.63408271e-16  9.27476520e-16  6.08132428e-17\n",
      "  -6.14902064e-16]\n",
      " [-5.27322239e-17  5.12993629e-01 -2.17114877e-16  1.73623945e-16\n",
      "  -2.98498503e-16]\n",
      " [ 1.64648684e-16 -8.02387470e-17  3.92790657e-01 -1.24586741e-16\n",
      "   1.87849645e-18]\n",
      " [ 8.89824509e-17 -2.58175378e-16 -2.45886209e-16  2.99567640e-01\n",
      "  -1.97325904e-16]\n",
      " [ 3.51760284e-18 -1.08274510e-16  9.52077720e-17 -8.89025420e-17\n",
      "   3.68977115e-01]]\n"
     ]
    }
   ],
   "source": [
    "def _idx2sp(si, ns):\n",
    "    \"\"\" Convert strategy profile index (si) to a strategy profile \"\"\"\n",
    "    sp = []\n",
    "    for k, _ in enumerate(ns):\n",
    "        n = np.prod(ns[k+1:], dtype=np.int32)\n",
    "        i = si // n\n",
    "        si -= i * n\n",
    "        sp.append(i)\n",
    "    return sp\n",
    "\n",
    "from scipy.linalg import eig\n",
    "transition = np.array([\n",
    "    [.5-5e-6, .25, 2.5e-6, .25, 2.5e-6],\n",
    "    [2.5e-6, 1-7.5e-6-.64e-2, 2.5e-6, 2.5e-6, .64e-2],\n",
    "    [.25, .25, 0, .25, .25],\n",
    "    [2.5e-6, .25, 2.5e-6, .75-7.5e-6, 2.5e-6],\n",
    "    [.25, .14, 2.5e-6, .25, .36-2.5e-6]\n",
    "])\n",
    "eps = 1e-2\n",
    "transition = np.array([\n",
    "    [.5-2*eps, .25, eps, .25, eps],\n",
    "    [eps, 1-.64e-2-3*eps, eps, eps, .64e-2],\n",
    "    [.25, .25, 0, .25, .25],\n",
    "    [eps, .25, eps, .75-3*eps, eps],\n",
    "    [.25, .14, eps, .25, .36-eps]\n",
    "])\n",
    "print('transition', transition.astype(np.float32), sep='\\n')\n",
    "eig_vals, eig_vecs, reig_vecs = eig(transition, left=True, right=True)\n",
    "print('eig values', eig_vals, sep='\\n')\n",
    "print('leig vectors', eig_vecs, sep='\\n')\n",
    "print('reig vectors', reig_vecs, sep='\\n')\n",
    "print(eig_vecs.T @ reig_vecs)\n",
    "mask = abs(eig_vals - 1.) < 1e-10\n",
    "eig_vecs = eig_vecs[:, mask]\n",
    "num_stationary_eigenvecs = np.shape(eig_vecs)[1]\n",
    "if num_stationary_eigenvecs != 1:\n",
    "    raise ValueError('Expected 1 stationary distribution, but found %d' %\n",
    "                     num_stationary_eigenvecs)\n",
    "eig_vecs *= 1. / sum(eig_vecs)\n",
    "\n",
    "pi = np.squeeze(eig_vecs.real)\n",
    "\n",
    "# print('eigen vectors', eig_vecs)\n",
    "rank = np.argsort(pi)[::-1]\n",
    "# print('pi', pi)\n",
    "# print('rank', rank)"
   ]
  },
  {
   "cell_type": "code",
   "execution_count": 172,
   "metadata": {},
   "outputs": [
    {
     "name": "stdout",
     "output_type": "stream",
     "text": [
      "eig values\n",
      "[1.21239455 0.75463785 0.50032083 0.30512244 0.00815111]\n",
      "leig vectors\n",
      "[[-0.38725439  0.2374082   0.44065407 -0.76483208  0.12052911]\n",
      " [-0.63831854 -0.75921965 -0.07435436  0.05809347  0.08503852]\n",
      " [-0.36453393  0.20961168  0.29423372  0.2919742  -0.80706601]\n",
      " [-0.46414626  0.46456775 -0.75163029 -0.04768369  0.03902841]\n",
      " [-0.30702889  0.32781492  0.38571212  0.569328    0.57040549]]\n",
      "reig vectors\n",
      "[[-3.00890052e-01 -7.93513490e-01 -1.48198297e-02 -4.99237477e-01\n",
      "  -1.74194811e-01]\n",
      " [ 3.25144129e-01 -6.06639402e-01  3.58544470e-03  6.89874333e-01\n",
      "   2.24344558e-01]\n",
      " [ 7.46002452e-01 -4.36395883e-02  7.62576243e-06 -5.23199039e-01\n",
      "   4.09681210e-01]\n",
      " [-4.97143876e-01  1.81874388e-02 -6.06623033e-03 -3.15735222e-02\n",
      "   8.66881478e-01]\n",
      " [-8.64756811e-03 -9.47527660e-03  9.99865350e-01 -1.00610178e-02\n",
      "   1.86991793e-03]]\n",
      "[[ 0.90163119  0.12898807  0.13174615  0.14949974 -0.36154675]\n",
      " [-0.13987684  0.97058252  0.09141173 -0.16888127 -0.03907744]\n",
      " [ 0.25916369  0.16222109 -0.80257239  0.17155317  0.48266506]\n",
      " [-0.24664142  0.11804501  0.04785094  0.9465777  -0.16411681]\n",
      " [ 0.19874068  0.03288367  0.57260343  0.15391267  0.77965185]]\n"
     ]
    }
   ],
   "source": [
    "from scipy.linalg import svd\n",
    "eig_vecs, eig_vals, reig_vecs = svd(transition)\n",
    "print('eig values', eig_vals, sep='\\n')\n",
    "print('leig vectors', eig_vecs, sep='\\n')\n",
    "print('reig vectors', reig_vecs, sep='\\n')\n",
    "print(eig_vecs @ reig_vecs)"
   ]
  },
  {
   "cell_type": "code",
   "execution_count": 214,
   "metadata": {},
   "outputs": [
    {
     "ename": "AssertionError",
     "evalue": "\nNot equal to tolerance rtol=1e-07, atol=0\n\nMismatched elements: 110 / 110 (100%)\nMax absolute difference: 0.95644914\nMax relative difference: 11.1825927\n x: array([[ 8.414710e-01,  5.403023e-01,  1.578266e-01,  9.874668e-01,\n         2.511622e-02,  9.996845e-01,  3.981061e-03,  9.999921e-01,\n         6.309573e-04,  9.999998e-01],...\n y: array([[ 0.000000e+00,  1.000000e+00,  0.000000e+00,  1.000000e+00,\n         0.000000e+00,  1.000000e+00,  0.000000e+00,  1.000000e+00,\n         0.000000e+00,  1.000000e+00],...",
     "output_type": "error",
     "traceback": [
      "\u001b[0;31m---------------------------------------------------------------------------\u001b[0m",
      "\u001b[0;31mAssertionError\u001b[0m                            Traceback (most recent call last)",
      "\u001b[0;32m/var/folders/zq/p22_4nf93xbc8nsbrt5ft09r0000gp/T/ipykernel_20473/2226029159.py\u001b[0m in \u001b[0;36m<module>\u001b[0;34m\u001b[0m\n\u001b[1;32m     18\u001b[0m \u001b[0mn_units\u001b[0m \u001b[0;34m=\u001b[0m \u001b[0;36m11\u001b[0m\u001b[0;34m\u001b[0m\u001b[0;34m\u001b[0m\u001b[0m\n\u001b[1;32m     19\u001b[0m \u001b[0membed_size\u001b[0m \u001b[0;34m=\u001b[0m \u001b[0;36m10\u001b[0m\u001b[0;34m\u001b[0m\u001b[0;34m\u001b[0m\u001b[0m\n\u001b[0;32m---> 20\u001b[0;31m \u001b[0mnp\u001b[0m\u001b[0;34m.\u001b[0m\u001b[0mtesting\u001b[0m\u001b[0;34m.\u001b[0m\u001b[0massert_allclose\u001b[0m\u001b[0;34m(\u001b[0m\u001b[0mpositional_encoding\u001b[0m\u001b[0;34m(\u001b[0m\u001b[0mn_units\u001b[0m\u001b[0;34m,\u001b[0m \u001b[0membed_size\u001b[0m\u001b[0;34m)\u001b[0m\u001b[0;34m,\u001b[0m \u001b[0mpositional_encodings\u001b[0m\u001b[0;34m(\u001b[0m\u001b[0mn_units\u001b[0m\u001b[0;34m,\u001b[0m \u001b[0membed_size\u001b[0m\u001b[0;34m)\u001b[0m\u001b[0;34m)\u001b[0m\u001b[0;34m\u001b[0m\u001b[0;34m\u001b[0m\u001b[0m\n\u001b[0m\u001b[1;32m     21\u001b[0m \u001b[0mpes\u001b[0m \u001b[0;34m=\u001b[0m \u001b[0mpositional_encodings\u001b[0m\u001b[0;34m(\u001b[0m\u001b[0mn_units\u001b[0m\u001b[0;34m,\u001b[0m \u001b[0membed_size\u001b[0m\u001b[0;34m)\u001b[0m\u001b[0;34m\u001b[0m\u001b[0;34m\u001b[0m\u001b[0m\n\u001b[1;32m     22\u001b[0m idx = np.stack([\n",
      "    \u001b[0;31m[... skipping hidden 1 frame]\u001b[0m\n",
      "\u001b[0;32m~/opt/anaconda3/envs/grl/lib/python3.8/site-packages/numpy/testing/_private/utils.py\u001b[0m in \u001b[0;36massert_array_compare\u001b[0;34m(comparison, x, y, err_msg, verbose, header, precision, equal_nan, equal_inf)\u001b[0m\n\u001b[1;32m    842\u001b[0m                                 \u001b[0mverbose\u001b[0m\u001b[0;34m=\u001b[0m\u001b[0mverbose\u001b[0m\u001b[0;34m,\u001b[0m \u001b[0mheader\u001b[0m\u001b[0;34m=\u001b[0m\u001b[0mheader\u001b[0m\u001b[0;34m,\u001b[0m\u001b[0;34m\u001b[0m\u001b[0;34m\u001b[0m\u001b[0m\n\u001b[1;32m    843\u001b[0m                                 names=('x', 'y'), precision=precision)\n\u001b[0;32m--> 844\u001b[0;31m             \u001b[0;32mraise\u001b[0m \u001b[0mAssertionError\u001b[0m\u001b[0;34m(\u001b[0m\u001b[0mmsg\u001b[0m\u001b[0;34m)\u001b[0m\u001b[0;34m\u001b[0m\u001b[0;34m\u001b[0m\u001b[0m\n\u001b[0m\u001b[1;32m    845\u001b[0m     \u001b[0;32mexcept\u001b[0m \u001b[0mValueError\u001b[0m\u001b[0;34m:\u001b[0m\u001b[0;34m\u001b[0m\u001b[0;34m\u001b[0m\u001b[0m\n\u001b[1;32m    846\u001b[0m         \u001b[0;32mimport\u001b[0m \u001b[0mtraceback\u001b[0m\u001b[0;34m\u001b[0m\u001b[0;34m\u001b[0m\u001b[0m\n",
      "\u001b[0;31mAssertionError\u001b[0m: \nNot equal to tolerance rtol=1e-07, atol=0\n\nMismatched elements: 110 / 110 (100%)\nMax absolute difference: 0.95644914\nMax relative difference: 11.1825927\n x: array([[ 8.414710e-01,  5.403023e-01,  1.578266e-01,  9.874668e-01,\n         2.511622e-02,  9.996845e-01,  3.981061e-03,  9.999921e-01,\n         6.309573e-04,  9.999998e-01],...\n y: array([[ 0.000000e+00,  1.000000e+00,  0.000000e+00,  1.000000e+00,\n         0.000000e+00,  1.000000e+00,  0.000000e+00,  1.000000e+00,\n         0.000000e+00,  1.000000e+00],..."
     ]
    }
   ],
   "source": [
    "def positional_encoding(n_pos, size, base=10000):\n",
    "    denominator = base ** (2 / size)\n",
    "    pos_encodings = []\n",
    "    for pos in range(1, n_pos+1):\n",
    "        pe = []\n",
    "        for i in range(size):\n",
    "#             print(i, (np.sin if i % 2 == 0 else np.cos), i//2)\n",
    "            pe.append((np.sin if i % 2 == 0 else np.cos)(pos/denominator**(i//2)))\n",
    "        pos_encodings.append(pe)\n",
    "    return pos_encodings\n",
    "def positional_encodings(n_pos, size, base=10000):\n",
    "    denominator = base ** (2 / size)\n",
    "    pos_encodings = [\n",
    "        [(np.sin if i % 2 == 0 else np.cos)(pos/denominator**(i//2))\n",
    "            for i in range(size)]\n",
    "        for pos in range(1, n_pos+1)]\n",
    "    return np.array(pos_encodings)\n",
    "n_units = 11\n",
    "embed_size = 10\n",
    "np.testing.assert_allclose(positional_encoding(n_units, embed_size), positional_encodings(n_units, embed_size))\n",
    "pes = positional_encodings(n_units, embed_size)\n",
    "idx = np.stack([\n",
    "    np.concatenate([\n",
    "        np.arange(i+1, n_units, dtype=np.int32),\n",
    "        np.arange(0, i, dtype=np.int32), \n",
    "    ], -1)\n",
    "    for i in range(n_units)\n",
    "])\n",
    "print(idx)\n",
    "p1 = pes[idx]\n",
    "p2 = tf.gather(pes, idx).numpy()\n",
    "print(p1.shape)\n",
    "print(p2)\n",
    "np.testing.assert_allclose(p1, p2)"
   ]
  },
  {
   "cell_type": "code",
   "execution_count": 277,
   "metadata": {},
   "outputs": [
    {
     "name": "stdout",
     "output_type": "stream",
     "text": [
      "[[[ 0.84147098  0.54030231  0.00215443]\n",
      "  [ 0.90929743 -0.41614684  0.00430886]]\n",
      "\n",
      " [[ 0.84147098  0.54030231  0.00215443]\n",
      "  [ 0.90929743 -0.41614684  0.00430886]]]\n"
     ]
    }
   ],
   "source": [
    "n_units = 2\n",
    "embed_size = 3\n",
    "def positional_encodings(n_pos, size, base=10000):\n",
    "    denominator = base ** (2 / size)\n",
    "    pos_encodings = [\n",
    "        [(np.sin if i % 2 == 0 else np.cos)(pos/denominator**(i//2))\n",
    "            for i in range(size)]\n",
    "        for pos in range(1, n_pos+1)]\n",
    "    return np.array(pos_encodings)\n",
    "\n",
    "uid = positional_encodings(n_units, embed_size)\n",
    "idx = np.tile(np.arange(0, n_units, dtype=np.int32), [n_units, 1])\n",
    "print(uid[idx])"
   ]
  },
  {
   "cell_type": "code",
   "execution_count": 292,
   "metadata": {},
   "outputs": [
    {
     "data": {
      "text/plain": [
       "2"
      ]
     },
     "execution_count": 292,
     "metadata": {},
     "output_type": "execute_result"
    }
   ],
   "source": [
    "x = tf.zeros((2, 3))\n",
    "x.shape.ndims"
   ]
  }
 ],
 "metadata": {
  "kernelspec": {
   "display_name": "Python 3 (ipykernel)",
   "language": "python",
   "name": "python3"
  },
  "language_info": {
   "codemirror_mode": {
    "name": "ipython",
    "version": 3
   },
   "file_extension": ".py",
   "mimetype": "text/x-python",
   "name": "python",
   "nbconvert_exporter": "python",
   "pygments_lexer": "ipython3",
   "version": "3.8.12"
  }
 },
 "nbformat": 4,
 "nbformat_minor": 2
}
